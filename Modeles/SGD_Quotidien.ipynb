{
 "cells": [
  {
   "cell_type": "code",
   "execution_count": null,
   "metadata": {},
   "outputs": [],
   "source": [
    "import numpy as np\n",
    "import pandas as pd\n",
    "\n",
    "from sklearn import model_selection, preprocessing\n",
    "\n",
    "from sklearn.model_selection import cross_val_predict, cross_val_score, cross_validate, train_test_split\n",
    "from sklearn.linear_model import LinearRegression, LassoCV, RidgeCV, SGDClassifier\n",
    "from sklearn.metrics import mean_squared_error\n",
    "\n",
    "import matplotlib.pyplot as plt\n",
    "%matplotlib inline \n",
    "\n",
    "import seaborn as sns"
   ]
  },
  {
   "cell_type": "code",
   "execution_count": null,
   "metadata": {},
   "outputs": [],
   "source": [
    "# Récuperer les données\n",
    "df = pd.read_csv('./Data/Donnees_Quotidiennes.csv', parse_dates=['Date'],sep=';')"
   ]
  },
  {
   "cell_type": "code",
   "execution_count": null,
   "metadata": {},
   "outputs": [],
   "source": [
    "# suppression des champs inutiles.\n",
    "df  = df[['Code INSEE région','Région','Date','Consommation (MW)', 'Température (°C)']]\n",
    "# Supprimer les lignes avec des valeurs absents\n",
    "df.dropna(axis = 0, subset=[\"Consommation (MW)\"], inplace=True)"
   ]
  },
  {
   "cell_type": "code",
   "execution_count": null,
   "metadata": {},
   "outputs": [],
   "source": [
    "#Application d'un filtre sur la région pour ne travailler pour le moment que sur la région Ile de france afin de simplifier les tests.\n",
    "df_idf = df[df['Code INSEE région']== 11]\n"
   ]
  },
  {
   "cell_type": "code",
   "execution_count": null,
   "metadata": {},
   "outputs": [],
   "source": [
    "# suppression des colonnes devenus inutiles\n",
    "df_idf.drop(['Code INSEE région', 'Région'],inplace=True,axis=1)"
   ]
  },
  {
   "cell_type": "code",
   "execution_count": null,
   "metadata": {},
   "outputs": [],
   "source": [
    "# Ajout de la colonne Jour\n",
    "df_idf[\"Jour\"] = pd.to_datetime(df_idf.Date).dt.weekday\n",
    "df_idf[\"Mois\"] = pd.to_datetime(df_idf.Date).dt.month\n",
    "df_idf[\"Annee\"] = pd.to_datetime(df_idf.Date).dt.year\n"
   ]
  },
  {
   "cell_type": "code",
   "execution_count": null,
   "metadata": {},
   "outputs": [],
   "source": [
    "# Dichotomisation de la colonne Jour, Mois, Annee\n",
    "df_idf = df_idf.join(pd.get_dummies(df_idf.Jour, prefix='Jour'))\n",
    "df_idf = df_idf.join(pd.get_dummies(df_idf.Mois, prefix='Mois'))\n",
    "df_idf = df_idf.join(pd.get_dummies(df_idf.Annee, prefix='Annee'))"
   ]
  },
  {
   "cell_type": "code",
   "execution_count": null,
   "metadata": {},
   "outputs": [],
   "source": [
    "# paramétrage de la date en tant qu'index.\n",
    "df_idf.set_index('Date',inplace=True)"
   ]
  },
  {
   "cell_type": "code",
   "execution_count": null,
   "metadata": {},
   "outputs": [],
   "source": [
    "df_idf = df_idf.reset_index()"
   ]
  },
  {
   "cell_type": "code",
   "execution_count": null,
   "metadata": {},
   "outputs": [],
   "source": [
    "# normalisation des colonnes ['Consommation (MW)', 'Température (°C)']\n",
    "scaler = preprocessing.StandardScaler().fit(df_idf[['Consommation (MW)', 'Température (°C)']])\n",
    "\n",
    "df_idf[['Consommation (MW)', 'Température (°C)']] = pd.DataFrame(scaler.transform(df_idf[['Consommation (MW)', 'Température (°C)']]), index= df_idf.index)\n"
   ]
  },
  {
   "cell_type": "code",
   "execution_count": null,
   "metadata": {},
   "outputs": [],
   "source": [
    "# Définition des variables cibles et du target\n",
    "target = df_idf[\"Consommation (MW)\"]\n",
    "data = df_idf.drop(['Consommation (MW)', 'Jour', 'Mois', 'Annee'],axis=1)"
   ]
  },
  {
   "cell_type": "code",
   "execution_count": null,
   "metadata": {},
   "outputs": [],
   "source": [
    "# Spliter les données\n",
    "X_train, X_test, y_train, y_test = train_test_split(data, target, test_size = 0.01, random_state=99, shuffle = False)\n"
   ]
  },
  {
   "cell_type": "code",
   "execution_count": null,
   "metadata": {},
   "outputs": [],
   "source": [
    "# modèle de régression\n",
    "from sklearn.linear_model import SGDRegressor\n",
    "clf = SGDRegressor(penalty='elasticnet', l1_ratio=0.85)\n",
    "clf.fit(X_train, y_train)"
   ]
  },
  {
   "cell_type": "code",
   "execution_count": null,
   "metadata": {},
   "outputs": [],
   "source": [
    "clf.get_params()"
   ]
  },
  {
   "cell_type": "code",
   "execution_count": null,
   "metadata": {},
   "outputs": [],
   "source": [
    "# Afficher l'intercept et les coefficients estimés pour chaque variable de data\n",
    "coeffs = list(clf.coef_)\n",
    "coeffs.insert(0, clf.intercept_)\n",
    "feats = list(data.columns)\n",
    "feats.insert(0, 'intercept')\n",
    "\n",
    "values = pd.DataFrame({'valeur estimée': coeffs}, index = feats)\n",
    "values.head()"
   ]
  },
  {
   "cell_type": "code",
   "execution_count": null,
   "metadata": {},
   "outputs": [],
   "source": [
    "# Afficher les racines des erreurs quadratiques moyennes pour les deux échantillons, train et test\n",
    "pred_train = clf.predict(X_train)\n",
    "pred_test = clf.predict(X_test)\n",
    "print(np.sqrt(mean_squared_error(y_train, pred_train)))\n",
    "print(np.sqrt(mean_squared_error(y_test, pred_test)))"
   ]
  },
  {
   "cell_type": "code",
   "execution_count": null,
   "metadata": {},
   "outputs": [],
   "source": [
    "# score R2\n",
    "print(\"score train:\",clf.score(X_train, y_train))\n",
    "print(\"score test:\", clf.score(X_test, y_test))"
   ]
  },
  {
   "cell_type": "code",
   "execution_count": null,
   "metadata": {},
   "outputs": [],
   "source": [
    "moyenne = scaler.mean_[0]\n",
    "ecart = scaler.scale_[0]\n",
    "print(\"moyenne :\", moyenne)\n",
    "print(\"ecart-type\", ecart)"
   ]
  },
  {
   "cell_type": "code",
   "execution_count": null,
   "metadata": {},
   "outputs": [],
   "source": [
    "matrice = pd.DataFrame({'points_obsérvés': np.round((y_test*ecart)+moyenne), \n",
    "            'points_predits' : np.round((pred_test*ecart)+moyenne), \n",
    "            'T' : (X_test['Température (°C)']*scaler.scale_[-1])+scaler.mean_[-1]}, index = X_test.index)\n",
    "matrice.head()"
   ]
  },
  {
   "cell_type": "code",
   "execution_count": null,
   "metadata": {},
   "outputs": [],
   "source": [
    "# Graphique\n",
    "font1 = {'family':'Times','color':'darkblue','size':18}\n",
    "font2 = {'family':'Times','color':'black','size':14}\n",
    "\n",
    "plt.plot(X_test.index, matrice['points_obsérvés'], label='Valeurs réellees', color='blue', marker='o',linestyle='-.')\n",
    "plt.plot(X_test.index, matrice['points_predits'],label=\"Valeurs predites\", color='red', marker='o',linestyle='-.')\n",
    "plt.legend(labelcolor='markerfacecolor')\n",
    "plt.title(\"Prédiction avec le modèle SGDRegressor\", fontdict = font1)\n",
    "plt.xticks(rotation=45)\n",
    "plt.xlabel(\"Date\", fontdict = font2)\n",
    "plt.ylabel(\"Consommation Moyenne\", fontdict = font2)\n",
    "plt.show();\n",
    "\n"
   ]
  },
  {
   "cell_type": "code",
   "execution_count": null,
   "metadata": {},
   "outputs": [],
   "source": [
    "# Graphique\n",
    "font1 = {'family':'Times','color':'darkblue','size':18}\n",
    "font2 = {'family':'Times','color':'black','size':14}\n",
    "\n",
    "\n",
    "fig = plt.figure(figsize=(10,6))\n",
    "\n",
    "ax1 = fig.add_subplot(111)\n",
    "fig.autofmt_xdate(rotation=25)\n",
    "ax1.set_title(\"Prédiction avec le modèle SGDRegressor Quotidien\", fontdict = font1)\n",
    "lns1 = ax1.plot(X_test.index, matrice['points_obsérvés'], label='Valeurs réellees', color='blue', marker='o',linestyle='-.')\n",
    "lns2 = ax1.plot(X_test.index, matrice['points_predits'],label=\"Valeurs predites\", color='red', marker='o',linestyle='-.')\n",
    "ax1.set_ylabel(\"Consommation Moyenne\", fontdict = font2)\n",
    "ax1.set_xlabel(\"Date\", fontdict = font2)\n",
    "\n",
    "ax2 = ax1.twinx()\n",
    "lns3 = ax2.plot(X_test.index, X_test['Température (°C)'], label='($^\\circ$C)', color='grey', marker='o',linestyle='-.')\n",
    "ax2.set_ylabel(\"Température Moyenne ($^\\circ$C)\", fontdict = font2)\n",
    "\n",
    "# pour afficher les labels\n",
    "lns = lns1+lns2+lns3\n",
    "labs = [l.get_label() for l in lns]\n",
    "ax1.legend(lns, labs, labelcolor='markerfacecolor', loc='upper center')\n",
    "\n"
   ]
  },
  {
   "cell_type": "code",
   "execution_count": null,
   "metadata": {},
   "outputs": [],
   "source": [
    "from math import pi\n",
    "from bokeh.plotting import figure, output_notebook, show, ColumnDataSource\n",
    "from bokeh.models import Legend, DatetimeTickFormatter, formatters, HoverTool, LinearAxis, Range1d\n",
    "\n",
    "output_notebook()"
   ]
  },
  {
   "cell_type": "code",
   "execution_count": null,
   "metadata": {},
   "outputs": [],
   "source": [
    "# List de tools\n",
    "TOOLS=\"crosshair,pan,wheel_zoom,box_zoom,reset\"\n",
    "\n",
    "p = figure(plot_width = 600, plot_height = 400,     \n",
    "           title = \"Prédiction avec le modèle SGDRegressor Quotidien\",                    \n",
    "           x_axis_label = 'Date', x_axis_type=\"datetime\",\n",
    "           y_axis_label = 'Consommation Moyenne',\n",
    "           tools=TOOLS)  \n",
    "\n",
    "\n",
    "p.title.text_color = \"darkblue\"\n",
    "p.title.text_font = \"times\"\n",
    "p.title.text_font_size = \"20px\"\n",
    "p.title.align = 'center'\n",
    "\n",
    "\n",
    "p.line(X_test.index, matrice['points_obsérvés'], color = \"navy\", legend_label = \"Valeurs réellees\")   \n",
    "p.circle(X_test.index, matrice['points_obsérvés'], color = \"navy\",fill_color='white', size=8)\n",
    "\n",
    "p.line(X_test.index, matrice['points_predits'], color = \"red\", legend_label = \"Valeurs predites\") \n",
    "p.circle(X_test.index, matrice['points_predits'], color = \"red\", fill_color='white',size=8)\n",
    "\n",
    "p.xaxis.major_label_orientation = pi/4\n",
    "p.xgrid.grid_line_color = None\n",
    "p.ygrid.grid_line_color = None\n",
    "p.xaxis.ticker.desired_num_ticks = 29\n",
    "\n",
    "\n",
    "# Activation de l'interaction avec la légende\n",
    "p.legend.location = \"top_center\"\n",
    "p.legend.click_policy = 'hide'\n",
    "\n",
    "# Style hover\n",
    "p.add_tools(HoverTool(\n",
    "    tooltips=[('Date', '@x{%Y-%m-%d}'),\n",
    "        ('Consommation', '@y{0.00}')],\n",
    "    formatters={'@x': 'datetime'}\n",
    "))\n",
    "\n",
    "show(p);\n"
   ]
  },
  {
   "cell_type": "code",
   "execution_count": null,
   "metadata": {},
   "outputs": [],
   "source": [
    "#Source\n",
    "source = ColumnDataSource(matrice)\n",
    "\n",
    "\n",
    "# List de tools\n",
    "TOOLS=\"crosshair,pan,wheel_zoom,box_zoom,reset\"\n",
    "\n",
    "\n",
    "y_overlimit = 0.05 \n",
    "p = figure(plot_width = 600, plot_height = 400,     \n",
    "           title = \"Prédiction avec le modèle SGDRegressor Quotidien\",                    \n",
    "           x_axis_label = 'Date', x_axis_type=\"datetime\",\n",
    "           y_axis_label = 'Consommation Moyenne',\n",
    "           toolbar_location=\"below\",\n",
    "           tools=TOOLS)  \n",
    "\n",
    "\n",
    "p.title.text_color = \"darkblue\"\n",
    "p.title.text_font = \"times\"\n",
    "p.title.text_font_size = \"20px\"\n",
    "p.title.align = 'center'\n",
    "\n",
    "\n",
    "p.line(x='Date', y = 'points_obsérvés', color = \"navy\", legend_label = \"Valeurs réellees\", source = source)   \n",
    "p.circle(x='Date', y ='points_obsérvés', color = \"navy\",fill_color='white', size=8, source = source)\n",
    "\n",
    "p.line(x='Date', y ='points_predits', color = \"red\", legend_label = \"Valeurs predites\", source = source) \n",
    "p.circle(x='Date', y='points_predits', color = \"red\", fill_color='white',size=8, source = source)\n",
    "\n",
    "# axis y, gauche\n",
    "p.y_range = Range1d(matrice['points_obsérvés'].min() * (1 - y_overlimit), matrice['points_obsérvés'].max() * (1 + y_overlimit))\n",
    "\n",
    "p.xaxis.major_label_orientation = pi/4\n",
    "p.xgrid.grid_line_color = None\n",
    "p.ygrid.grid_line_color = None\n",
    "p.xaxis.ticker.desired_num_ticks = 29\n",
    "\n",
    "# Axis y, droite\n",
    "y_column2_range = \"T\" + \"_range\"\n",
    "p.extra_y_ranges = {\n",
    "    y_column2_range: Range1d(\n",
    "        start=matrice['T'].min() * (1 - y_overlimit),\n",
    "        end=matrice['T'].max() * (1 + y_overlimit),\n",
    "    )\n",
    "}\n",
    "p.add_layout(LinearAxis(y_range_name=y_column2_range), \"right\")\n",
    "\n",
    "p.line( x='Date', y = 'T', color=\"grey\", legend_label=\"T (C°)\", y_range_name=y_column2_range, source = source)\n",
    "p.circle(x='Date', y = 'T', color = \"grey\",fill_color='white', size=8, y_range_name=y_column2_range, source = source)\n",
    "\n",
    "\n",
    "# Activation de l'interaction avec la légende\n",
    "p.legend.location = \"top_center\"\n",
    "p.legend.click_policy = 'hide'\n",
    "\n",
    "# Style hover\n",
    "p.add_tools(HoverTool(\n",
    "    tooltips=[('Date', '@Date{%Y-%m-%d}'),\n",
    "        ('Prédiction', '@{points_predits}{0.00}'),\n",
    "        ('Valeur réelle', '@{points_obsérvés}{0.00}'),\n",
    "        ('C°', \"@T{0.00}\")],\n",
    "    formatters={'@Date': 'datetime'}\n",
    "))\n",
    "\n",
    "show(p);\n"
   ]
  },
  {
   "cell_type": "code",
   "execution_count": null,
   "metadata": {},
   "outputs": [],
   "source": [
    "# Racine carrée de la Moyenne des résidus au carré.\n",
    "# RMSE\n",
    "\n",
    "def rmse(predictions, targets):\n",
    "    return np.sqrt(((predictions - targets) ** 2).mean())\n",
    "\n",
    "rmse(matrice['points_predits'], matrice['points_obsérvés'])"
   ]
  },
  {
   "cell_type": "markdown",
   "metadata": {},
   "source": [
    "plus l'erreur quadratique moyenne est proche de 0, plus précises sont les prédictions.\n",
    "\n",
    "Nous pourrons donc comparer ce résultat avec le RMSE des autres modèles"
   ]
  },
  {
   "cell_type": "code",
   "execution_count": null,
   "metadata": {},
   "outputs": [],
   "source": [
    "# Calculer et afficher le score MAPE\n",
    "y_true, y_pred = np.array(matrice['points_obsérvés']), np.array(matrice['points_predits'])\n",
    "MAPE = np.mean(np.abs((y_true - y_pred) / y_true)) * 100\n",
    "print(\"Mean Absolute Prediction Error : %0.2f%%\"% MAPE)"
   ]
  }
 ],
 "metadata": {
  "interpreter": {
   "hash": "0adcc2737ebf6a4a119f135174df96668767fca1ef1112612db5ecadf2b6d608"
  },
  "kernelspec": {
   "display_name": "Python 3.8.5 64-bit",
   "name": "python3"
  },
  "language_info": {
   "name": "python",
   "version": ""
  },
  "metadata": {
   "interpreter": {
    "hash": "aee8b7b246df8f9039afb4144a1f6fd8d2ca17a180786b69acc140d282b71a49"
   }
  },
  "orig_nbformat": 2
 },
 "nbformat": 4,
 "nbformat_minor": 2
}