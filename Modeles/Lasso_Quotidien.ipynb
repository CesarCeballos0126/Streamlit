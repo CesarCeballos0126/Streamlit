{
 "cells": [
  {
   "cell_type": "code",
   "execution_count": null,
   "metadata": {},
   "outputs": [],
   "source": [
    "import numpy as np\n",
    "import pandas as pd\n",
    "import seaborn as sns\n",
    "from sklearn import preprocessing\n",
    "from sklearn.model_selection import train_test_split, cross_val_score, cross_validate\n",
    "from sklearn.metrics import mean_squared_error\n",
    "\n",
    "from datetime import datetime\n",
    "import matplotlib.pyplot as plt\n",
    "%matplotlib inline"
   ]
  },
  {
   "cell_type": "code",
   "execution_count": null,
   "metadata": {},
   "outputs": [],
   "source": [
    "# préparation des données.\n",
    "\n",
    "df = pd.read_csv(\"./Data/Donnees_Quotidiennes.csv\", index_col=0,parse_dates=['Date'],sep=\";\")\n",
    "\n",
    "df = df[df['Code INSEE région'] == 11]\n",
    "df['Jour'] = df['Date'].apply(lambda x : int(x.strftime(\"%y%m%d\")))\n",
    "#df['Date'] = df['Date'].apply(lambda x : x.strftime('%Y%W'))\n",
    "\n",
    "# Dichotomisation de la colonne Jour\n",
    "df = df.join(pd.get_dummies(df.Jour, prefix='D'))\n",
    "df = df.drop(['Région','Jour','Code INSEE région'], axis=1)\n",
    "\n",
    "## paramétrage de la date en tant qu'index.\n",
    "df.set_index('Date',inplace=True)"
   ]
  },
  {
   "cell_type": "code",
   "execution_count": null,
   "metadata": {},
   "outputs": [],
   "source": [
    "# normalisation des colonnes ['Consommation (MW)', 'Température (°C)']\n",
    "scaller = preprocessing.StandardScaler().fit(df[['Consommation (MW)', 'Température (°C)']])\n",
    "df[['Consommation (MW)','Température (°C)']] = scaller.fit_transform(df[['Consommation (MW)','Température (°C)']])\n",
    "\n",
    "# Découpage des variables explicatives et la variable cible\n",
    "target = df[['Consommation (MW)']]\n",
    "data = df.drop(['Consommation (MW)'], axis=1)"
   ]
  },
  {
   "cell_type": "code",
   "execution_count": null,
   "metadata": {},
   "outputs": [],
   "source": [
    "X_train, X_test, y_train, y_test = train_test_split(data, target, test_size=0.01, random_state = 42, shuffle=False)"
   ]
  },
  {
   "cell_type": "code",
   "execution_count": null,
   "metadata": {},
   "outputs": [],
   "source": [
    "from sklearn.linear_model import LassoCV\n",
    "\n",
    "#lassoAlphas = (10, 1, 0.1, 0.001, 0.0005)\n",
    "#lasso_alphas = None\n",
    "lasso_model = LassoCV(alphas = [0.001], cv = 42).fit(X_train, y_train)\n",
    "\n",
    "print(lasso_model.coef_)"
   ]
  },
  {
   "cell_type": "code",
   "execution_count": null,
   "metadata": {},
   "outputs": [],
   "source": [
    "from sklearn.linear_model import lasso_path\n",
    "\n",
    "mes_alphas = (0.001,0.01,0.02,0.025,0.05,0.1,0.25,0.5,0.8,1.0)\n",
    "\n",
    "alpha_path, coefs_lasso, _ = lasso_path(X_train, y_train['Consommation (MW)'], alphas=mes_alphas)\n",
    "\n",
    "coefs_lasso.shape"
   ]
  },
  {
   "cell_type": "code",
   "execution_count": null,
   "metadata": {},
   "outputs": [],
   "source": [
    "import matplotlib.cm as cm\n",
    "\n",
    "plt.figure(figsize=(10,7))\n",
    "\n",
    "for i in range(coefs_lasso.shape[0]):\n",
    "    plt.plot(alpha_path, coefs_lasso[i,:], '--')\n",
    "\n",
    "plt.xlabel('Alpha')\n",
    "plt.ylabel('Coefficients')\n",
    "plt.title('Lasso path')\n",
    "plt.show()"
   ]
  },
  {
   "cell_type": "markdown",
   "metadata": {},
   "source": [
    "Tous les coeeficients sont nulls"
   ]
  },
  {
   "cell_type": "code",
   "execution_count": null,
   "metadata": {},
   "outputs": [],
   "source": [
    "from sklearn.linear_model import LassoCV\n",
    "\n",
    "model_lasso = LassoCV(cv=10).fit(X_train, y_train)\n",
    "\n",
    "alphas = model_lasso.alphas_\n",
    "\n",
    "plt.figure(figsize = (10,8))\n",
    "\n",
    "plt.plot(alphas, model_lasso.mse_path_, ':')\n",
    "\n",
    "plt.plot(alphas, model_lasso.mse_path_.mean(axis=1), 'k',\n",
    "         label='Moyenne', linewidth=2)\n",
    "\n",
    "plt.axvline(model_lasso.alpha_, linestyle='--', color='k',\n",
    "            label='alpha: estimation CV')\n",
    "\n",
    "plt.legend()\n",
    "\n",
    "plt.xlabel('Alpha')\n",
    "plt.ylabel('Mean square error')\n",
    "plt.title('Mean square error pour chaque échantillon ')\n",
    "plt.show()"
   ]
  },
  {
   "cell_type": "code",
   "execution_count": null,
   "metadata": {},
   "outputs": [],
   "source": [
    "# Alpha choisi\n",
    "model_lasso.alpha_"
   ]
  },
  {
   "cell_type": "code",
   "execution_count": null,
   "metadata": {},
   "outputs": [],
   "source": [
    "# Afficher l'intercept et les coefficients estimés pour chaque variable de data\n",
    "\n",
    "coeffs = list(model_lasso.coef_)\n",
    "coeffs = np.insert(coeffs, 0, model_lasso.intercept_)\n",
    "\n",
    "feats = list(data.columns)\n",
    "feats.insert(0, 'intercept')\n",
    "\n",
    "valeurs = pd.DataFrame({'valeur estimée': coeffs}, index = feats)"
   ]
  },
  {
   "cell_type": "code",
   "execution_count": null,
   "metadata": {},
   "outputs": [],
   "source": [
    "valeurs.head()"
   ]
  },
  {
   "cell_type": "code",
   "execution_count": null,
   "metadata": {},
   "outputs": [],
   "source": [
    "print( \"alpha sélectionné par c-v :\" ,model_lasso.alpha_)\n",
    "print(\"score train :\", model_lasso.score(X_train, y_train))\n",
    "print(\"score test :\", model_lasso.score(X_test, y_test))"
   ]
  },
  {
   "cell_type": "code",
   "execution_count": null,
   "metadata": {},
   "outputs": [],
   "source": [
    "# Afficher les racines des erreurs quadratiques moyennes pour les deux échantillons, train et test\n",
    "\n",
    "lasso_pred_train = model_lasso.predict(X_train)\n",
    "lasso_pred_test = model_lasso.predict(X_test)\n",
    "\n",
    "print(\"mse train:\", mean_squared_error(lasso_pred_train, y_train))\n",
    "print(\"mse test:\", mean_squared_error(lasso_pred_test, y_test))\n"
   ]
  },
  {
   "cell_type": "code",
   "execution_count": null,
   "metadata": {},
   "outputs": [],
   "source": [
    "moyenne = scaller.mean_[0]\n",
    "ecart = scaller.scale_[0]\n",
    "print(\"moyenne :\", moyenne)\n",
    "print(\"ecart-type\", ecart)"
   ]
  },
  {
   "cell_type": "code",
   "execution_count": null,
   "metadata": {},
   "outputs": [],
   "source": [
    "lasso_pred_test"
   ]
  },
  {
   "cell_type": "code",
   "execution_count": null,
   "metadata": {},
   "outputs": [],
   "source": [
    "lasso_values = []\n",
    "for i in lasso_pred_test:\n",
    "    lasso_values.append(i)\n",
    "lasso_values\n",
    "\n",
    "lasso_model = pd.DataFrame({'predits': lasso_values}, index = X_test.index)"
   ]
  },
  {
   "cell_type": "code",
   "execution_count": null,
   "metadata": {},
   "outputs": [],
   "source": [
    "lasso_model_1 = pd.DataFrame({'Reel': np.round((y_test['Consommation (MW)']*ecart)+moyenne),\n",
    "    'predits' : np.round((lasso_model['predits']*ecart)+moyenne),\n",
    "    'T' : (X_test['Température (°C)']*scaller.scale_[-1])+scaller.mean_[-1]}, index = X_test.index)\n",
    "lasso_model_1.head()"
   ]
  },
  {
   "cell_type": "code",
   "execution_count": null,
   "metadata": {},
   "outputs": [],
   "source": [
    "plt.figure(figsize=[15,8]);\n",
    "plt.plot(lasso_model_1.index,lasso_model_1.Reel,label=\"Valeur Réelle\");\n",
    "plt.plot(lasso_model_1.index,lasso_model_1.predits,label=\"Prédiction\");\n",
    "plt.legend();\n",
    "plt.xticks(rotation=45);"
   ]
  },
  {
   "cell_type": "code",
   "execution_count": null,
   "metadata": {},
   "outputs": [],
   "source": [
    "print(\"train score: \", model_lasso.score(X_train, y_train))\n",
    "print(\"test score: \", model_lasso.score(X_test, y_test))"
   ]
  },
  {
   "cell_type": "code",
   "execution_count": null,
   "metadata": {},
   "outputs": [],
   "source": [
    "from math import pi\n",
    "from bokeh.plotting import figure, output_notebook, show, ColumnDataSource\n",
    "from bokeh.models import Legend, DatetimeTickFormatter, formatters, HoverTool, LinearAxis, Range1d\n",
    "\n",
    "output_notebook()"
   ]
  },
  {
   "cell_type": "code",
   "execution_count": null,
   "metadata": {},
   "outputs": [],
   "source": [
    "#Source\n",
    "source = ColumnDataSource(lasso_model_1)\n",
    "\n",
    "\n",
    "# List de tools\n",
    "TOOLS=\"crosshair,pan,wheel_zoom,box_zoom,reset\"\n",
    "\n",
    "\n",
    "y_overlimit = 0.05 \n",
    "p = figure(plot_width = 600, plot_height = 400,     \n",
    "           title = \"Prédiction avec le modèle Ridge Quotidien\",                    \n",
    "           x_axis_label = 'Date', x_axis_type=\"datetime\",\n",
    "           y_axis_label = 'Consommation Moyenne',\n",
    "           toolbar_location=\"below\",\n",
    "           tools=TOOLS)  \n",
    "\n",
    "\n",
    "p.title.text_color = \"darkblue\"\n",
    "p.title.text_font = \"times\"\n",
    "p.title.text_font_size = \"20px\"\n",
    "p.title.align = 'center'\n",
    "\n",
    "\n",
    "p.line(x='Date', y = 'Reel', color = \"navy\", legend_label = \"Valeurs réellees\", source = source)   \n",
    "p.circle(x='Date', y ='Reel', color = \"navy\",fill_color='white', size=8, source = source)\n",
    "\n",
    "p.line(x='Date', y ='predits', color = \"red\", legend_label = \"Valeurs predites\", source = source) \n",
    "p.circle(x='Date', y='predits', color = \"red\", fill_color='white',size=8, source = source)\n",
    "\n",
    "# axis y, gauche\n",
    "p.y_range = Range1d(lasso_model_1.Reel.min() * (1 - y_overlimit), lasso_model_1.Reel.max() * (1 + y_overlimit))\n",
    "\n",
    "p.xaxis.major_label_orientation = pi/4\n",
    "p.xgrid.grid_line_color = None\n",
    "p.ygrid.grid_line_color = None\n",
    "p.xaxis.ticker.desired_num_ticks = 29\n",
    "\n",
    "# Axis y, droite\n",
    "y_column2_range = \"T\" + \"_range\"\n",
    "p.extra_y_ranges = {\n",
    "    y_column2_range: Range1d(\n",
    "        start=lasso_model_1['T'].min() * (1 - y_overlimit),\n",
    "        end=lasso_model_1['T'].max() * (1 + y_overlimit),\n",
    "    )\n",
    "}\n",
    "p.add_layout(LinearAxis(y_range_name=y_column2_range), \"right\")\n",
    "\n",
    "p.line( x='Date', y = 'T', color=\"grey\", legend_label=\"T (C°)\", y_range_name=y_column2_range, source = source)\n",
    "p.circle(x='Date', y = 'T', color = \"grey\",fill_color='white', size=8, y_range_name=y_column2_range, source = source)\n",
    "\n",
    "\n",
    "# Activation de l'interaction avec la légende\n",
    "p.legend.location = \"top_center\"\n",
    "p.legend.click_policy = 'hide'\n",
    "\n",
    "# Style hover\n",
    "p.add_tools(HoverTool(\n",
    "    tooltips=[('Date', '@Date{%Y-%m-%d}'),\n",
    "        ('Prédiction', '@Reel{0.00}'),\n",
    "        ('Valeur réelle', '@predits{0.00}'),\n",
    "        ('C°', \"@T{0.00}\")],\n",
    "    formatters={'@Date': 'datetime'}\n",
    "))\n",
    "\n",
    "show(p);\n"
   ]
  },
  {
   "cell_type": "code",
   "execution_count": null,
   "metadata": {},
   "outputs": [],
   "source": [
    "# Racine carrée de la Moyenne des résidus au carré.\n",
    "# RMSE\n",
    "\n",
    "def rmse(predictions, targets):\n",
    "    return np.sqrt(((predictions - targets) ** 2).mean())\n",
    "\n",
    "rmse(lasso_model_1.predits, lasso_model_1.Reel)"
   ]
  },
  {
   "cell_type": "markdown",
   "metadata": {},
   "source": [
    "plus l'erreur quadratique moyenne est proche de 0, plus précises sont les prédictions.\n",
    "\n",
    "Nous pourrons donc comparer ce résultat avec le RMSE des autres modèles"
   ]
  },
  {
   "cell_type": "code",
   "execution_count": null,
   "metadata": {},
   "outputs": [],
   "source": [
    "# Calculer et afficher le score MAPE\n",
    "y_true, y_pred = np.array(lasso_model_1.Reel), np.array(lasso_model_1.predits)\n",
    "MAPE = np.mean(np.abs((y_true - y_pred) / y_true)) * 100\n",
    "print(\"Mean Absolute Prediction Error : %0.2f%%\"% MAPE)"
   ]
  },
  {
   "cell_type": "code",
   "execution_count": null,
   "metadata": {},
   "outputs": [],
   "source": [
    "from sklearn.model_selection import GridSearchCV\n",
    "from sklearn.model_selection import RepeatedKFold\n",
    "from sklearn.linear_model import Lasso\n",
    "\n",
    "cv = RepeatedKFold(n_splits = 10, n_repeats = 3, random_state = 42)\n",
    "\n",
    "model = Lasso()\n",
    "\n",
    "grid = dict()\n",
    "grid['alpha'] = np.arange(0, 1, 0.01)\n",
    "\n",
    "search = GridSearchCV(model, grid, scoring='neg_mean_absolute_error', cv=cv, n_jobs=-1)\n",
    "\n",
    "results = search.fit(X_train, y_train)\n",
    "\n",
    "print('MAE: %.3f' % results.best_score_)\n",
    "print('Config: %s' % results.best_params_)"
   ]
  },
  {
   "cell_type": "code",
   "execution_count": null,
   "metadata": {},
   "outputs": [],
   "source": []
  }
 ],
 "metadata": {
  "kernelspec": {
   "display_name": "Python 3.8.5 64-bit",
   "name": "python385jvsc74a57bd0aee8b7b246df8f9039afb4144a1f6fd8d2ca17a180786b69acc140d282b71a49"
  },
  "language_info": {
   "codemirror_mode": {
    "name": "ipython",
    "version": 3
   },
   "file_extension": ".py",
   "mimetype": "text/x-python",
   "name": "python",
   "nbconvert_exporter": "python",
   "pygments_lexer": "ipython3",
   "version": "3.8.5"
  },
  "metadata": {
   "interpreter": {
    "hash": "aee8b7b246df8f9039afb4144a1f6fd8d2ca17a180786b69acc140d282b71a49"
   }
  }
 },
 "nbformat": 4,
 "nbformat_minor": 5
}