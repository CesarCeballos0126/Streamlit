{
 "cells": [
  {
   "cell_type": "code",
   "execution_count": 31,
   "metadata": {},
   "outputs": [],
   "source": [
    "import numpy as np\n",
    "import pandas as pd\n",
    "import seaborn as sns\n",
    "from sklearn import preprocessing\n",
    "from sklearn.model_selection import train_test_split, cross_val_score, cross_validate\n",
    "from sklearn.metrics import mean_squared_error\n",
    "from statsmodels.tsa.statespace.sarimax import SARIMAX\n",
    "from datetime import datetime\n",
    "import matplotlib.pyplot as plt\n",
    "%matplotlib inline"
   ]
  },
  {
   "cell_type": "code",
   "execution_count": 32,
   "metadata": {},
   "outputs": [],
   "source": [
    "# Définition des functions à utiliser \n",
    "\n",
    "# MAPE\n",
    "def score_mape(predictions, observations):\n",
    "    y_true, y_pred  = np.array(observations), np.array(predictions)\n",
    "    MAPE = np.mean(np.abs((y_true - y_pred) / y_true)) * 100\n",
    "    return np.round(MAPE, 2)\n",
    "\n",
    "# RMSE\n",
    "def score_rmse(predictions, observations):\n",
    "    return np.sqrt(((predictions - observations) ** 2).mean())\n",
    "\n",
    "# MSE\n",
    "def score_mse(predictions, observations):\n",
    "    return mean_squared_error(predictions,observations)\n"
   ]
  },
  {
   "cell_type": "code",
   "execution_count": 33,
   "metadata": {},
   "outputs": [],
   "source": [
    "# préparation des données.\n",
    "\n",
    "df = pd.read_csv(\"./Data/Donnees_Quotidiennes.csv\", index_col=0,parse_dates=['Date'],sep=\";\")\n",
    "\n",
    "# BD filtrée par Ile de France\n",
    "df = df[df['Code INSEE région'] == 11]\n",
    "\n",
    "# Creer les variables Année, Mois, Jour\n",
    "df['Annee'] = pd.to_datetime(df.Date).dt.year\n",
    "df[\"Mois\"] = pd.to_datetime(df.Date).dt.month\n",
    "df['Jour']=pd.to_datetime(df['Date']).dt.weekday\n",
    "\n",
    "# Dichotomisation des colonnes Jour, Mois, Annee\n",
    "df = df.join(pd.get_dummies(df.Jour, prefix='J'))\n",
    "df = df.join(pd.get_dummies(df.Mois, prefix='M'))\n",
    "df = df.join(pd.get_dummies(df.Annee, prefix='A'))\n",
    "\n",
    "# Suppresion des variables devenues no necessaires\n",
    "df = df.drop(['Région','Jour', 'Mois','Annee', 'Code INSEE région'], axis=1)\n",
    "\n",
    "## paramétrage de la date en tant qu'index.\n",
    "df.set_index('Date',inplace=True)\n",
    "\n",
    "# DF pour les séries temporelles, car traitement different\n",
    "df_st = df[['Consommation (MW)', 'Température (°C)']]"
   ]
  },
  {
   "cell_type": "code",
   "execution_count": 34,
   "metadata": {},
   "outputs": [],
   "source": [
    "# Spliter les données pour les séries temporelles\n",
    "# Découpage des variables explicatives et la variable cible\n",
    "target_st = df_st[['Consommation (MW)']]\n",
    "\n",
    "train=target_st[target_st.index < '2020-11-02']\n",
    "test=target_st[target_st.index > '2020-11-01']"
   ]
  },
  {
   "cell_type": "code",
   "execution_count": 35,
   "metadata": {},
   "outputs": [],
   "source": [
    "# Spliter les données pour les séries temporelles avec variable externe\n",
    "# Découpage des variables explicatives et la variable cible\n",
    "target_st_x = df_st[['Consommation (MW)', 'Température (°C)']]\n",
    "\n",
    "train_x=target_st_x[target_st_x.index < '2020-11-02']\n",
    "test_x=target_st_x[target_st_x.index > '2020-11-01']\n",
    "\n",
    "# Séparation des données meteo et conso\n",
    "train_conso = train_x['Consommation (MW)']\n",
    "train_meteo = train_x['Température (°C)']\n",
    "test_conso = test_x['Consommation (MW)']\n",
    "test_meteo = test_x['Température (°C)']"
   ]
  },
  {
   "cell_type": "code",
   "execution_count": 36,
   "metadata": {},
   "outputs": [],
   "source": [
    "# normalisation des colonnes ['Consommation (MW)', 'Température (°C)']\n",
    "scaller = preprocessing.StandardScaler().fit(df[['Consommation (MW)', 'Température (°C)']])\n",
    "df[['Consommation (MW)','Température (°C)']] = scaller.fit_transform(df[['Consommation (MW)','Température (°C)']])\n",
    "\n",
    "# Découpage des variables explicatives et la variable cible\n",
    "target = df[['Consommation (MW)']]\n",
    "data = df.drop(['Consommation (MW)'], axis=1)\n",
    "\n"
   ]
  },
  {
   "cell_type": "markdown",
   "metadata": {},
   "source": [
    "## Modèle Ridge"
   ]
  },
  {
   "cell_type": "code",
   "execution_count": 37,
   "metadata": {},
   "outputs": [],
   "source": [
    "# modèle de régression RidgeCV\n",
    "from sklearn.linear_model import RidgeCV\n",
    "\n",
    "# Spliter les données\n",
    "X_train, X_test, y_train, y_test = train_test_split(data, target, test_size=0.01, random_state = 100, shuffle=False)\n",
    "\n",
    "ridge_reg = RidgeCV(alphas= (0.001, 0.01, 0.1, 0.3, 0.7, 1, 10, 50, 100))\n",
    "ridge_reg.fit(X_train, y_train) \n",
    "\n",
    "# Afficher l'intercept et les coefficients estimés pour chaque variable de data\n",
    "coeffs = list(ridge_reg.coef_)\n",
    "coeffs = np.insert(coeffs, 0, ridge_reg.intercept_[0])\n",
    "\n",
    "feats = list(data.columns)\n",
    "feats.insert(0, 'intercept')\n",
    "\n",
    "valeurs_ridge = pd.DataFrame({'valeur estimée': coeffs}, index = feats)\n",
    "\n",
    "ridge_pred_train = ridge_reg.predict(X_train)\n",
    "ridge_pred_test = ridge_reg.predict(X_test)\n"
   ]
  },
  {
   "cell_type": "markdown",
   "metadata": {},
   "source": [
    "#### Résultats Ridge"
   ]
  },
  {
   "cell_type": "code",
   "execution_count": 38,
   "metadata": {},
   "outputs": [],
   "source": [
    "moyenne = scaller.mean_[0]\n",
    "ecart = scaller.scale_[0]\n",
    "\n",
    "ridge_values = []\n",
    "for i in ridge_pred_test:\n",
    "    for x in i :\n",
    "        ridge_values.append(x)\n",
    "    ridge_values\n",
    "\n",
    "ridge_model = pd.DataFrame({'predits': ridge_values}, index = X_test.index)\n",
    "\n",
    "ridge_model_1 = pd.DataFrame({'Reel': np.round((y_test['Consommation (MW)']*ecart)+moyenne),\n",
    "    'predits' : np.round((ridge_model['predits']*ecart)+moyenne),\n",
    "    'T' : (X_test['Température (°C)']*scaller.scale_[-1])+scaller.mean_[-1]}, index = X_test.index)"
   ]
  },
  {
   "cell_type": "code",
   "execution_count": 39,
   "metadata": {},
   "outputs": [
    {
     "data": {
      "text/html": [
       "<div>\n",
       "<style scoped>\n",
       "    .dataframe tbody tr th:only-of-type {\n",
       "        vertical-align: middle;\n",
       "    }\n",
       "\n",
       "    .dataframe tbody tr th {\n",
       "        vertical-align: top;\n",
       "    }\n",
       "\n",
       "    .dataframe thead th {\n",
       "        text-align: right;\n",
       "    }\n",
       "</style>\n",
       "<table border=\"1\" class=\"dataframe\">\n",
       "  <thead>\n",
       "    <tr style=\"text-align: right;\">\n",
       "      <th></th>\n",
       "      <th>Reel</th>\n",
       "      <th>predits</th>\n",
       "      <th>T</th>\n",
       "    </tr>\n",
       "    <tr>\n",
       "      <th>Date</th>\n",
       "      <th></th>\n",
       "      <th></th>\n",
       "      <th></th>\n",
       "    </tr>\n",
       "  </thead>\n",
       "  <tbody>\n",
       "    <tr>\n",
       "      <th>2020-11-02 00:00:00+00:00</th>\n",
       "      <td>7069.0</td>\n",
       "      <td>7698.0</td>\n",
       "      <td>16.5250</td>\n",
       "    </tr>\n",
       "    <tr>\n",
       "      <th>2020-11-03 00:00:00+00:00</th>\n",
       "      <td>7971.0</td>\n",
       "      <td>8896.0</td>\n",
       "      <td>8.8750</td>\n",
       "    </tr>\n",
       "    <tr>\n",
       "      <th>2020-11-04 00:00:00+00:00</th>\n",
       "      <td>8659.0</td>\n",
       "      <td>9252.0</td>\n",
       "      <td>6.5875</td>\n",
       "    </tr>\n",
       "    <tr>\n",
       "      <th>2020-11-05 00:00:00+00:00</th>\n",
       "      <td>8654.0</td>\n",
       "      <td>9090.0</td>\n",
       "      <td>7.5000</td>\n",
       "    </tr>\n",
       "    <tr>\n",
       "      <th>2020-11-06 00:00:00+00:00</th>\n",
       "      <td>8597.0</td>\n",
       "      <td>8937.0</td>\n",
       "      <td>7.8375</td>\n",
       "    </tr>\n",
       "  </tbody>\n",
       "</table>\n",
       "</div>"
      ],
      "text/plain": [
       "                             Reel  predits        T\n",
       "Date                                               \n",
       "2020-11-02 00:00:00+00:00  7069.0   7698.0  16.5250\n",
       "2020-11-03 00:00:00+00:00  7971.0   8896.0   8.8750\n",
       "2020-11-04 00:00:00+00:00  8659.0   9252.0   6.5875\n",
       "2020-11-05 00:00:00+00:00  8654.0   9090.0   7.5000\n",
       "2020-11-06 00:00:00+00:00  8597.0   8937.0   7.8375"
      ]
     },
     "execution_count": 39,
     "metadata": {},
     "output_type": "execute_result"
    }
   ],
   "source": [
    "ridge_model_1.head()"
   ]
  },
  {
   "cell_type": "markdown",
   "metadata": {},
   "source": [
    "#### Critères d'évaluation Ridge"
   ]
  },
  {
   "cell_type": "markdown",
   "metadata": {},
   "source": [
    "##### Score R2"
   ]
  },
  {
   "cell_type": "code",
   "execution_count": 40,
   "metadata": {},
   "outputs": [
    {
     "name": "stdout",
     "output_type": "stream",
     "text": [
      "score train : 0.898392924430891\n",
      "score test : 0.5348099110977844\n"
     ]
    }
   ],
   "source": [
    "print(\"score train :\", ridge_reg.score(X_train, y_train))\n",
    "print(\"score test :\", ridge_reg.score(X_test, y_test))\n",
    "\n",
    "score_r_ridge_train = ridge_reg.score(X_train, y_train)\n",
    "score_r_ridge_test = ridge_reg.score(X_test, y_test)"
   ]
  },
  {
   "cell_type": "markdown",
   "metadata": {},
   "source": [
    "##### MSE"
   ]
  },
  {
   "cell_type": "code",
   "execution_count": 41,
   "metadata": {},
   "outputs": [
    {
     "data": {
      "text/plain": [
       "0.10243166316946213"
      ]
     },
     "execution_count": 41,
     "metadata": {},
     "output_type": "execute_result"
    }
   ],
   "source": [
    "# MSE échantillon Train avec normalisation\n",
    "# pas prendre\n",
    "\n",
    "score_mse_ridge_train = score_mse(ridge_pred_train, y_train)\n",
    "score_mse_ridge_train"
   ]
  },
  {
   "cell_type": "code",
   "execution_count": 42,
   "metadata": {},
   "outputs": [
    {
     "data": {
      "text/plain": [
       "317871.1379310345"
      ]
     },
     "execution_count": 42,
     "metadata": {},
     "output_type": "execute_result"
    }
   ],
   "source": [
    "# MSE échantillon Test\n",
    "\n",
    "score_mse_ridge_test = score_mse(ridge_model_1.predits, ridge_model_1.Reel)\n",
    "score_mse_ridge_test"
   ]
  },
  {
   "cell_type": "markdown",
   "metadata": {},
   "source": [
    "##### RMSE"
   ]
  },
  {
   "cell_type": "code",
   "execution_count": 43,
   "metadata": {},
   "outputs": [
    {
     "data": {
      "text/plain": [
       "563.8006189523336"
      ]
     },
     "execution_count": 43,
     "metadata": {},
     "output_type": "execute_result"
    }
   ],
   "source": [
    "#Racine carrée de la Moyenne des résidus au carré.\n",
    "# RMSE\n",
    "\n",
    "score_rmse_ridge = score_rmse(ridge_model_1.predits, ridge_model_1.Reel)\n",
    "score_rmse_ridge"
   ]
  },
  {
   "cell_type": "markdown",
   "metadata": {},
   "source": [
    "##### MAPE"
   ]
  },
  {
   "cell_type": "code",
   "execution_count": 44,
   "metadata": {},
   "outputs": [
    {
     "data": {
      "text/plain": [
       "5.75"
      ]
     },
     "execution_count": 44,
     "metadata": {},
     "output_type": "execute_result"
    }
   ],
   "source": [
    "# MAPE\n",
    "\n",
    "score_mape_ridge = score_mape(ridge_model_1.predits, ridge_model_1.Reel)\n",
    "score_mape_ridge"
   ]
  },
  {
   "cell_type": "markdown",
   "metadata": {},
   "source": [
    "## Modèle Lasso"
   ]
  },
  {
   "cell_type": "code",
   "execution_count": 45,
   "metadata": {},
   "outputs": [
    {
     "name": "stderr",
     "output_type": "stream",
     "text": [
      "/Library/Frameworks/Python.framework/Versions/3.8/lib/python3.8/site-packages/sklearn/utils/validation.py:63: DataConversionWarning: A column-vector y was passed when a 1d array was expected. Please change the shape of y to (n_samples, ), for example using ravel().\n",
      "  return f(*args, **kwargs)\n"
     ]
    }
   ],
   "source": [
    "# modèle de régression LassoCV\n",
    "from sklearn.linear_model import LassoCV\n",
    "\n",
    "# Spliter les données\n",
    "X_train, X_test, y_train, y_test = train_test_split(data, target, test_size=0.01, random_state = 200, shuffle=False)\n",
    "\n",
    "#alpha = model_lasso.alpha_ 0.0009265291644131591\n",
    "lasso_model = LassoCV(alphas = [0.0009265291644131591], cv = 10).fit(X_train, y_train)\n",
    "\n",
    "# Afficher l'intercept et les coefficients estimés pour chaque variable de data\n",
    "coeffs = list(lasso_model.coef_)\n",
    "coeffs = np.insert(coeffs, 0, lasso_model.intercept_)\n",
    "\n",
    "feats = list(data.columns)\n",
    "feats.insert(0, 'intercept')\n",
    "\n",
    "valeurs_lasso = pd.DataFrame({'valeur estimée': coeffs}, index = feats)\n",
    "\n",
    "lasso_pred_train = lasso_model.predict(X_train)\n",
    "lasso_pred_test = lasso_model.predict(X_test)"
   ]
  },
  {
   "cell_type": "markdown",
   "metadata": {},
   "source": [
    "#### Résultats Lasso"
   ]
  },
  {
   "cell_type": "code",
   "execution_count": 46,
   "metadata": {},
   "outputs": [],
   "source": [
    "moyenne = scaller.mean_[0]\n",
    "ecart = scaller.scale_[0]\n",
    "\n",
    "lasso_values = []\n",
    "for i in lasso_pred_test:\n",
    "    lasso_values.append(i)\n",
    "lasso_values\n",
    "\n",
    "lassomodel = pd.DataFrame({'predits': lasso_values}, index = X_test.index)\n",
    "\n",
    "lasso_model_1 = pd.DataFrame({'Reel': np.round((y_test['Consommation (MW)']*ecart)+moyenne),\n",
    "    'predits' : np.round((lassomodel['predits']*ecart)+moyenne),\n",
    "    'T' : (X_test['Température (°C)']*scaller.scale_[-1])+scaller.mean_[-1]}, index = X_test.index)"
   ]
  },
  {
   "cell_type": "code",
   "execution_count": 47,
   "metadata": {},
   "outputs": [
    {
     "data": {
      "text/html": [
       "<div>\n",
       "<style scoped>\n",
       "    .dataframe tbody tr th:only-of-type {\n",
       "        vertical-align: middle;\n",
       "    }\n",
       "\n",
       "    .dataframe tbody tr th {\n",
       "        vertical-align: top;\n",
       "    }\n",
       "\n",
       "    .dataframe thead th {\n",
       "        text-align: right;\n",
       "    }\n",
       "</style>\n",
       "<table border=\"1\" class=\"dataframe\">\n",
       "  <thead>\n",
       "    <tr style=\"text-align: right;\">\n",
       "      <th></th>\n",
       "      <th>Reel</th>\n",
       "      <th>predits</th>\n",
       "      <th>T</th>\n",
       "    </tr>\n",
       "    <tr>\n",
       "      <th>Date</th>\n",
       "      <th></th>\n",
       "      <th></th>\n",
       "      <th></th>\n",
       "    </tr>\n",
       "  </thead>\n",
       "  <tbody>\n",
       "    <tr>\n",
       "      <th>2020-11-02 00:00:00+00:00</th>\n",
       "      <td>7069.0</td>\n",
       "      <td>7662.0</td>\n",
       "      <td>16.5250</td>\n",
       "    </tr>\n",
       "    <tr>\n",
       "      <th>2020-11-03 00:00:00+00:00</th>\n",
       "      <td>7971.0</td>\n",
       "      <td>8878.0</td>\n",
       "      <td>8.8750</td>\n",
       "    </tr>\n",
       "    <tr>\n",
       "      <th>2020-11-04 00:00:00+00:00</th>\n",
       "      <td>8659.0</td>\n",
       "      <td>9248.0</td>\n",
       "      <td>6.5875</td>\n",
       "    </tr>\n",
       "    <tr>\n",
       "      <th>2020-11-05 00:00:00+00:00</th>\n",
       "      <td>8654.0</td>\n",
       "      <td>9082.0</td>\n",
       "      <td>7.5000</td>\n",
       "    </tr>\n",
       "    <tr>\n",
       "      <th>2020-11-06 00:00:00+00:00</th>\n",
       "      <td>8597.0</td>\n",
       "      <td>8939.0</td>\n",
       "      <td>7.8375</td>\n",
       "    </tr>\n",
       "  </tbody>\n",
       "</table>\n",
       "</div>"
      ],
      "text/plain": [
       "                             Reel  predits        T\n",
       "Date                                               \n",
       "2020-11-02 00:00:00+00:00  7069.0   7662.0  16.5250\n",
       "2020-11-03 00:00:00+00:00  7971.0   8878.0   8.8750\n",
       "2020-11-04 00:00:00+00:00  8659.0   9248.0   6.5875\n",
       "2020-11-05 00:00:00+00:00  8654.0   9082.0   7.5000\n",
       "2020-11-06 00:00:00+00:00  8597.0   8939.0   7.8375"
      ]
     },
     "execution_count": 47,
     "metadata": {},
     "output_type": "execute_result"
    }
   ],
   "source": [
    "lasso_model_1.head()"
   ]
  },
  {
   "cell_type": "markdown",
   "metadata": {},
   "source": [
    "#### Critères d'évaluation Lasso"
   ]
  },
  {
   "cell_type": "markdown",
   "metadata": {},
   "source": [
    "##### Score R2"
   ]
  },
  {
   "cell_type": "code",
   "execution_count": 48,
   "metadata": {},
   "outputs": [
    {
     "name": "stdout",
     "output_type": "stream",
     "text": [
      "score train: 0.8980750661200599\n",
      "score test: 0.5626842341051221\n"
     ]
    }
   ],
   "source": [
    "# score R2\n",
    "print(\"score train:\",lasso_model.score(X_train, y_train))\n",
    "print(\"score test:\", lasso_model.score(X_test, y_test))\n",
    "\n",
    "score_r_lasso_train = lasso_model.score(X_train, y_train)\n",
    "score_r_lasso_test = lasso_model.score(X_test, y_test)"
   ]
  },
  {
   "cell_type": "markdown",
   "metadata": {},
   "source": [
    "##### MSE"
   ]
  },
  {
   "cell_type": "code",
   "execution_count": 49,
   "metadata": {},
   "outputs": [
    {
     "data": {
      "text/plain": [
       "0.10275210104495751"
      ]
     },
     "execution_count": 49,
     "metadata": {},
     "output_type": "execute_result"
    }
   ],
   "source": [
    "# MSE échantillon Train avec normalisation\n",
    "# pas prendre\n",
    "score_mse_lasso_train = score_mse(lasso_pred_train, y_train)\n",
    "score_mse_lasso_train"
   ]
  },
  {
   "cell_type": "code",
   "execution_count": 50,
   "metadata": {},
   "outputs": [
    {
     "data": {
      "text/plain": [
       "298859.3103448276"
      ]
     },
     "execution_count": 50,
     "metadata": {},
     "output_type": "execute_result"
    }
   ],
   "source": [
    "# MSE échantillon Test\n",
    "score_mse_lasso_test = score_mse(lasso_model_1.predits, lasso_model_1.Reel)\n",
    "score_mse_lasso_test"
   ]
  },
  {
   "cell_type": "markdown",
   "metadata": {},
   "source": [
    "##### RMSE"
   ]
  },
  {
   "cell_type": "code",
   "execution_count": 51,
   "metadata": {},
   "outputs": [
    {
     "data": {
      "text/plain": [
       "546.6802633576848"
      ]
     },
     "execution_count": 51,
     "metadata": {},
     "output_type": "execute_result"
    }
   ],
   "source": [
    "# Racine carrée de la Moyenne des résidus au carré.\n",
    "# RMSE\n",
    "score_rmse_lasso = score_rmse(lasso_model_1.predits, lasso_model_1.Reel)\n",
    "score_rmse_lasso"
   ]
  },
  {
   "cell_type": "markdown",
   "metadata": {},
   "source": [
    "##### MAPE"
   ]
  },
  {
   "cell_type": "code",
   "execution_count": 52,
   "metadata": {},
   "outputs": [
    {
     "data": {
      "text/plain": [
       "5.57"
      ]
     },
     "execution_count": 52,
     "metadata": {},
     "output_type": "execute_result"
    }
   ],
   "source": [
    "score_mape_lasso = score_mape(lasso_model_1.predits, lasso_model_1.Reel)\n",
    "score_mape_lasso"
   ]
  },
  {
   "cell_type": "markdown",
   "metadata": {},
   "source": [
    "## Modèle Elastic Net"
   ]
  },
  {
   "cell_type": "code",
   "execution_count": 53,
   "metadata": {},
   "outputs": [
    {
     "name": "stderr",
     "output_type": "stream",
     "text": [
      "/Library/Frameworks/Python.framework/Versions/3.8/lib/python3.8/site-packages/sklearn/utils/validation.py:63: DataConversionWarning: A column-vector y was passed when a 1d array was expected. Please change the shape of y to (n_samples, ), for example using ravel().\n",
      "  return f(*args, **kwargs)\n"
     ]
    }
   ],
   "source": [
    "# modèle de régression Elastic Net, validation croisée à 8 échantillons\n",
    "from sklearn.linear_model import ElasticNetCV\n",
    "\n",
    "# Spliter les données\n",
    "X_train, X_test, y_train, y_test = train_test_split(data, target, test_size=0.01, random_state = 300, shuffle=False)\n",
    "\n",
    "model_ElasticNet = ElasticNetCV(cv=8, l1_ratio = (0.1, 0.25, 0.5, 0.7, 0.75, 0.8, 0.85, 0.9, 0.99), \n",
    "                        alphas= (0.001,0.01,0.02,0.025,0.05,0.1,0.25,0.5,0.8,1.0))\n",
    "model_ElasticNet.fit(X_train, y_train)\n",
    "\n",
    "# Afficher l'intercept et les coefficients estimés pour chaque variable de data\n",
    "\n",
    "coeffs = list(model_ElasticNet.coef_)\n",
    "coeffs.insert(0, model_ElasticNet.intercept_)\n",
    "feats = list(data.columns)\n",
    "feats.insert(0, 'intercept')\n",
    "\n",
    "values_EN = pd.DataFrame({'valeur estimée': coeffs}, index = feats)\n",
    "\n",
    "pred_train_EN = model_ElasticNet.predict(X_train)\n",
    "pred_test_EN = model_ElasticNet.predict(X_test)\n"
   ]
  },
  {
   "cell_type": "markdown",
   "metadata": {},
   "source": [
    "#### Résultats Elastic Net"
   ]
  },
  {
   "cell_type": "code",
   "execution_count": 54,
   "metadata": {},
   "outputs": [],
   "source": [
    "moyenne = scaller.mean_[0]\n",
    "ecart = scaller.scale_[0]\n",
    "\n",
    "EN_model = pd.DataFrame({'Reel': np.round((y_test['Consommation (MW)']*ecart)+moyenne), \n",
    "            'predits' : np.round((pred_test_EN*ecart)+moyenne), \n",
    "            'T' : (X_test['Température (°C)']*scaller.scale_[-1])+scaller.mean_[-1]}, index = X_test.index)\n",
    "\n"
   ]
  },
  {
   "cell_type": "code",
   "execution_count": 55,
   "metadata": {},
   "outputs": [
    {
     "data": {
      "text/html": [
       "<div>\n",
       "<style scoped>\n",
       "    .dataframe tbody tr th:only-of-type {\n",
       "        vertical-align: middle;\n",
       "    }\n",
       "\n",
       "    .dataframe tbody tr th {\n",
       "        vertical-align: top;\n",
       "    }\n",
       "\n",
       "    .dataframe thead th {\n",
       "        text-align: right;\n",
       "    }\n",
       "</style>\n",
       "<table border=\"1\" class=\"dataframe\">\n",
       "  <thead>\n",
       "    <tr style=\"text-align: right;\">\n",
       "      <th></th>\n",
       "      <th>Reel</th>\n",
       "      <th>predits</th>\n",
       "      <th>T</th>\n",
       "    </tr>\n",
       "    <tr>\n",
       "      <th>Date</th>\n",
       "      <th></th>\n",
       "      <th></th>\n",
       "      <th></th>\n",
       "    </tr>\n",
       "  </thead>\n",
       "  <tbody>\n",
       "    <tr>\n",
       "      <th>2020-11-02 00:00:00+00:00</th>\n",
       "      <td>7069.0</td>\n",
       "      <td>7402.0</td>\n",
       "      <td>16.5250</td>\n",
       "    </tr>\n",
       "    <tr>\n",
       "      <th>2020-11-03 00:00:00+00:00</th>\n",
       "      <td>7971.0</td>\n",
       "      <td>8851.0</td>\n",
       "      <td>8.8750</td>\n",
       "    </tr>\n",
       "    <tr>\n",
       "      <th>2020-11-04 00:00:00+00:00</th>\n",
       "      <td>8659.0</td>\n",
       "      <td>9296.0</td>\n",
       "      <td>6.5875</td>\n",
       "    </tr>\n",
       "    <tr>\n",
       "      <th>2020-11-05 00:00:00+00:00</th>\n",
       "      <td>8654.0</td>\n",
       "      <td>9106.0</td>\n",
       "      <td>7.5000</td>\n",
       "    </tr>\n",
       "    <tr>\n",
       "      <th>2020-11-06 00:00:00+00:00</th>\n",
       "      <td>8597.0</td>\n",
       "      <td>8946.0</td>\n",
       "      <td>7.8375</td>\n",
       "    </tr>\n",
       "  </tbody>\n",
       "</table>\n",
       "</div>"
      ],
      "text/plain": [
       "                             Reel  predits        T\n",
       "Date                                               \n",
       "2020-11-02 00:00:00+00:00  7069.0   7402.0  16.5250\n",
       "2020-11-03 00:00:00+00:00  7971.0   8851.0   8.8750\n",
       "2020-11-04 00:00:00+00:00  8659.0   9296.0   6.5875\n",
       "2020-11-05 00:00:00+00:00  8654.0   9106.0   7.5000\n",
       "2020-11-06 00:00:00+00:00  8597.0   8946.0   7.8375"
      ]
     },
     "execution_count": 55,
     "metadata": {},
     "output_type": "execute_result"
    }
   ],
   "source": [
    "EN_model.head()"
   ]
  },
  {
   "cell_type": "markdown",
   "metadata": {},
   "source": [
    "### Critères d'évaluation Elastic Net"
   ]
  },
  {
   "cell_type": "markdown",
   "metadata": {},
   "source": [
    "#### Score R2"
   ]
  },
  {
   "cell_type": "code",
   "execution_count": 56,
   "metadata": {},
   "outputs": [
    {
     "name": "stdout",
     "output_type": "stream",
     "text": [
      "score train: 0.8894895702404388\n",
      "score test: 0.6584148017806617\n"
     ]
    }
   ],
   "source": [
    "# score R2\n",
    "print(\"score train:\",model_ElasticNet.score(X_train, y_train))\n",
    "print(\"score test:\", model_ElasticNet.score(X_test, y_test))\n",
    "\n",
    "score_r_en_train = model_ElasticNet.score(X_train, y_train)\n",
    "score_r_en_test = model_ElasticNet.score(X_test, y_test)"
   ]
  },
  {
   "cell_type": "markdown",
   "metadata": {},
   "source": [
    "#### MSE"
   ]
  },
  {
   "cell_type": "code",
   "execution_count": 57,
   "metadata": {},
   "outputs": [
    {
     "data": {
      "text/plain": [
       "0.11140727212589278"
      ]
     },
     "execution_count": 57,
     "metadata": {},
     "output_type": "execute_result"
    }
   ],
   "source": [
    "# MSE échantillon Train avec normalisation\n",
    "# Pas prendre\n",
    "\n",
    "score_mse_en_train = score_mse(pred_train_EN, y_train)\n",
    "score_mse_en_train"
   ]
  },
  {
   "cell_type": "code",
   "execution_count": 58,
   "metadata": {},
   "outputs": [
    {
     "data": {
      "text/plain": [
       "233417.10344827586"
      ]
     },
     "execution_count": 58,
     "metadata": {},
     "output_type": "execute_result"
    }
   ],
   "source": [
    "#MSE échantillon Test\n",
    "score_mse_en_test = score_mse(EN_model.predits, EN_model.Reel)\n",
    "score_mse_en_test"
   ]
  },
  {
   "cell_type": "markdown",
   "metadata": {},
   "source": [
    "#### RMSE"
   ]
  },
  {
   "cell_type": "code",
   "execution_count": 59,
   "metadata": {},
   "outputs": [
    {
     "data": {
      "text/plain": [
       "483.13259406531023"
      ]
     },
     "execution_count": 59,
     "metadata": {},
     "output_type": "execute_result"
    }
   ],
   "source": [
    "score_rmse_en = score_rmse(EN_model.predits, EN_model.Reel)\n",
    "score_rmse_en"
   ]
  },
  {
   "cell_type": "markdown",
   "metadata": {},
   "source": [
    "#### MAPE"
   ]
  },
  {
   "cell_type": "code",
   "execution_count": 60,
   "metadata": {},
   "outputs": [
    {
     "data": {
      "text/plain": [
       "4.87"
      ]
     },
     "execution_count": 60,
     "metadata": {},
     "output_type": "execute_result"
    }
   ],
   "source": [
    "score_mape_en = score_mape(EN_model.predits, EN_model.Reel)\n",
    "score_mape_en"
   ]
  },
  {
   "cell_type": "markdown",
   "metadata": {},
   "source": [
    "## Modèle SGDRegressor"
   ]
  },
  {
   "cell_type": "code",
   "execution_count": 61,
   "metadata": {},
   "outputs": [
    {
     "name": "stderr",
     "output_type": "stream",
     "text": [
      "/Library/Frameworks/Python.framework/Versions/3.8/lib/python3.8/site-packages/sklearn/utils/validation.py:63: DataConversionWarning: A column-vector y was passed when a 1d array was expected. Please change the shape of y to (n_samples, ), for example using ravel().\n",
      "  return f(*args, **kwargs)\n"
     ]
    }
   ],
   "source": [
    "# modèle de régression SGD\n",
    "from sklearn.linear_model import SGDRegressor\n",
    "\n",
    "# Spliter les données\n",
    "X_train, X_test, y_train, y_test = train_test_split(data, target, test_size=0.01, random_state = 300, shuffle=False)\n",
    "\n",
    "model_sgd = SGDRegressor(penalty='elasticnet', l1_ratio=0.85)\n",
    "model_sgd.fit(X_train, y_train)\n",
    "\n",
    "# Afficher l'intercept et les coefficients estimés pour chaque variable de data\n",
    "coeffs = list(model_sgd.coef_)\n",
    "coeffs.insert(0, model_sgd.intercept_)\n",
    "feats = list(data.columns)\n",
    "feats.insert(0, 'intercept')\n",
    "\n",
    "values_sgd = pd.DataFrame({'valeur estimée': coeffs}, index = feats)\n",
    "\n",
    "pred_train_sgd = model_sgd.predict(X_train)\n",
    "pred_test_sgd = model_sgd.predict(X_test)\n"
   ]
  },
  {
   "cell_type": "markdown",
   "metadata": {},
   "source": [
    "### Résultats SGDRegressor"
   ]
  },
  {
   "cell_type": "code",
   "execution_count": 62,
   "metadata": {},
   "outputs": [],
   "source": [
    "moyenne = scaller.mean_[0]\n",
    "ecart = scaller.scale_[0]\n",
    "\n",
    "sgd_model = pd.DataFrame({'Reel': np.round((y_test['Consommation (MW)']*ecart)+moyenne), \n",
    "            'predits' : np.round((pred_test_sgd*ecart)+moyenne), \n",
    "            'T' : (X_test['Température (°C)']*scaller.scale_[-1])+scaller.mean_[-1]}, index = X_test.index)"
   ]
  },
  {
   "cell_type": "code",
   "execution_count": 63,
   "metadata": {},
   "outputs": [
    {
     "data": {
      "text/html": [
       "<div>\n",
       "<style scoped>\n",
       "    .dataframe tbody tr th:only-of-type {\n",
       "        vertical-align: middle;\n",
       "    }\n",
       "\n",
       "    .dataframe tbody tr th {\n",
       "        vertical-align: top;\n",
       "    }\n",
       "\n",
       "    .dataframe thead th {\n",
       "        text-align: right;\n",
       "    }\n",
       "</style>\n",
       "<table border=\"1\" class=\"dataframe\">\n",
       "  <thead>\n",
       "    <tr style=\"text-align: right;\">\n",
       "      <th></th>\n",
       "      <th>Reel</th>\n",
       "      <th>predits</th>\n",
       "      <th>T</th>\n",
       "    </tr>\n",
       "    <tr>\n",
       "      <th>Date</th>\n",
       "      <th></th>\n",
       "      <th></th>\n",
       "      <th></th>\n",
       "    </tr>\n",
       "  </thead>\n",
       "  <tbody>\n",
       "    <tr>\n",
       "      <th>2020-11-02 00:00:00+00:00</th>\n",
       "      <td>7069.0</td>\n",
       "      <td>7326.0</td>\n",
       "      <td>16.5250</td>\n",
       "    </tr>\n",
       "    <tr>\n",
       "      <th>2020-11-03 00:00:00+00:00</th>\n",
       "      <td>7971.0</td>\n",
       "      <td>8864.0</td>\n",
       "      <td>8.8750</td>\n",
       "    </tr>\n",
       "    <tr>\n",
       "      <th>2020-11-04 00:00:00+00:00</th>\n",
       "      <td>8659.0</td>\n",
       "      <td>9328.0</td>\n",
       "      <td>6.5875</td>\n",
       "    </tr>\n",
       "    <tr>\n",
       "      <th>2020-11-05 00:00:00+00:00</th>\n",
       "      <td>8654.0</td>\n",
       "      <td>9134.0</td>\n",
       "      <td>7.5000</td>\n",
       "    </tr>\n",
       "    <tr>\n",
       "      <th>2020-11-06 00:00:00+00:00</th>\n",
       "      <td>8597.0</td>\n",
       "      <td>8965.0</td>\n",
       "      <td>7.8375</td>\n",
       "    </tr>\n",
       "  </tbody>\n",
       "</table>\n",
       "</div>"
      ],
      "text/plain": [
       "                             Reel  predits        T\n",
       "Date                                               \n",
       "2020-11-02 00:00:00+00:00  7069.0   7326.0  16.5250\n",
       "2020-11-03 00:00:00+00:00  7971.0   8864.0   8.8750\n",
       "2020-11-04 00:00:00+00:00  8659.0   9328.0   6.5875\n",
       "2020-11-05 00:00:00+00:00  8654.0   9134.0   7.5000\n",
       "2020-11-06 00:00:00+00:00  8597.0   8965.0   7.8375"
      ]
     },
     "execution_count": 63,
     "metadata": {},
     "output_type": "execute_result"
    }
   ],
   "source": [
    "sgd_model.head()"
   ]
  },
  {
   "cell_type": "markdown",
   "metadata": {},
   "source": [
    "### Critères d'évaluation SGDRegressor"
   ]
  },
  {
   "cell_type": "markdown",
   "metadata": {},
   "source": [
    "#### Score R2"
   ]
  },
  {
   "cell_type": "code",
   "execution_count": 64,
   "metadata": {},
   "outputs": [
    {
     "name": "stdout",
     "output_type": "stream",
     "text": [
      "score train: 0.8890043636281671\n",
      "score test: 0.66446198698107\n"
     ]
    }
   ],
   "source": [
    "# score R2\n",
    "print(\"score train:\",model_sgd.score(X_train, y_train))\n",
    "print(\"score test:\", model_sgd.score(X_test, y_test))\n",
    "\n",
    "score_r_en_train = model_sgd.score(X_train, y_train)\n",
    "score_r_en_test = model_sgd.score(X_test, y_test)"
   ]
  },
  {
   "cell_type": "markdown",
   "metadata": {},
   "source": [
    "#### MSE"
   ]
  },
  {
   "cell_type": "code",
   "execution_count": 65,
   "metadata": {},
   "outputs": [
    {
     "data": {
      "text/plain": [
       "0.11189641641035751"
      ]
     },
     "execution_count": 65,
     "metadata": {},
     "output_type": "execute_result"
    }
   ],
   "source": [
    "# MSE échantillon Train avec normalisation\n",
    "# Pas prendre\n",
    "\n",
    "score_sgd_en_train = score_mse(pred_train_sgd, y_train)\n",
    "score_sgd_en_train"
   ]
  },
  {
   "cell_type": "code",
   "execution_count": 66,
   "metadata": {},
   "outputs": [
    {
     "data": {
      "text/plain": [
       "229272.1724137931"
      ]
     },
     "execution_count": 66,
     "metadata": {},
     "output_type": "execute_result"
    }
   ],
   "source": [
    "#MSE échantillon Test\n",
    "score_mse_sgd_test = score_mse(sgd_model.predits, sgd_model.Reel)\n",
    "score_mse_sgd_test"
   ]
  },
  {
   "cell_type": "markdown",
   "metadata": {},
   "source": [
    "#### RMSE"
   ]
  },
  {
   "cell_type": "code",
   "execution_count": 67,
   "metadata": {},
   "outputs": [
    {
     "data": {
      "text/plain": [
       "478.82373835660354"
      ]
     },
     "execution_count": 67,
     "metadata": {},
     "output_type": "execute_result"
    }
   ],
   "source": [
    "score_rmse_sgd = score_rmse(sgd_model.predits, sgd_model.Reel)\n",
    "score_rmse_sgd"
   ]
  },
  {
   "cell_type": "markdown",
   "metadata": {},
   "source": [
    "#### MAPE"
   ]
  },
  {
   "cell_type": "code",
   "execution_count": 68,
   "metadata": {},
   "outputs": [
    {
     "data": {
      "text/plain": [
       "4.64"
      ]
     },
     "execution_count": 68,
     "metadata": {},
     "output_type": "execute_result"
    }
   ],
   "source": [
    "score_mape_sgd = score_mape(sgd_model.predits, sgd_model.Reel)\n",
    "score_mape_sgd"
   ]
  },
  {
   "cell_type": "markdown",
   "metadata": {},
   "source": [
    "## Modèle ARIMA"
   ]
  },
  {
   "cell_type": "code",
   "execution_count": 69,
   "metadata": {},
   "outputs": [
    {
     "name": "stderr",
     "output_type": "stream",
     "text": [
      "/Library/Frameworks/Python.framework/Versions/3.8/lib/python3.8/site-packages/statsmodels/tsa/base/tsa_model.py:524: ValueWarning: No frequency information was provided, so inferred frequency D will be used.\n",
      "  warnings.warn('No frequency information was'\n",
      "/Library/Frameworks/Python.framework/Versions/3.8/lib/python3.8/site-packages/statsmodels/base/model.py:566: ConvergenceWarning: Maximum Likelihood optimization failed to converge. Check mle_retvals\n",
      "  warnings.warn(\"Maximum Likelihood optimization failed to \"\n"
     ]
    }
   ],
   "source": [
    "#### Avec un \n",
    "model_arima = SARIMAX(train, order=(2,1,3), enforce_stationarity=False, enforce_invertibility=False, freq='D', trend='n').fit()\n",
    "# \"Steps\" concerne le nombre de predictions à efectuer\n",
    "forecast_arima = model_arima.get_forecast(steps=29)\n",
    "\n",
    "# Determiner nos intervalles de confiance\n",
    "mean_forecast_arima = forecast_arima.predicted_mean\n",
    "confidence_intervals_arima = forecast_arima.conf_int()\n",
    "lower_limits_arima = confidence_intervals_arima['lower Consommation (MW)']\n",
    "upper_limits_arima = confidence_intervals_arima['upper Consommation (MW)']\n"
   ]
  },
  {
   "cell_type": "markdown",
   "metadata": {},
   "source": [
    "### Résultats ARIMA"
   ]
  },
  {
   "cell_type": "code",
   "execution_count": 70,
   "metadata": {},
   "outputs": [],
   "source": [
    "model_arima_df = pd.DataFrame({'Reel': test['Consommation (MW)'], \n",
    "            'predits' : mean_forecast_arima.values,\n",
    "            'lower_limits' : lower_limits_arima,\n",
    "            'upper_limits' : upper_limits_arima }, index = test.index)"
   ]
  },
  {
   "cell_type": "markdown",
   "metadata": {},
   "source": [
    "### Critères d'évaluation ARIMA"
   ]
  },
  {
   "cell_type": "markdown",
   "metadata": {},
   "source": [
    "#### MSE"
   ]
  },
  {
   "cell_type": "code",
   "execution_count": 71,
   "metadata": {},
   "outputs": [
    {
     "data": {
      "text/plain": [
       "1955230.5064087296"
      ]
     },
     "execution_count": 71,
     "metadata": {},
     "output_type": "execute_result"
    }
   ],
   "source": [
    "# MSE échantillon Test\n",
    "score_mse_arima_test = score_mse(model_arima_df.predits, model_arima_df.Reel)\n",
    "score_mse_arima_test"
   ]
  },
  {
   "cell_type": "markdown",
   "metadata": {},
   "source": [
    "#### RMSE"
   ]
  },
  {
   "cell_type": "code",
   "execution_count": 72,
   "metadata": {},
   "outputs": [
    {
     "data": {
      "text/plain": [
       "1398.2955719048564"
      ]
     },
     "execution_count": 72,
     "metadata": {},
     "output_type": "execute_result"
    }
   ],
   "source": [
    "score_rmse_arima = score_rmse(model_arima_df.predits, model_arima_df.Reel)\n",
    "score_rmse_arima"
   ]
  },
  {
   "cell_type": "markdown",
   "metadata": {},
   "source": [
    "#### MAPE"
   ]
  },
  {
   "cell_type": "code",
   "execution_count": 73,
   "metadata": {},
   "outputs": [
    {
     "data": {
      "text/plain": [
       "13.27"
      ]
     },
     "execution_count": 73,
     "metadata": {},
     "output_type": "execute_result"
    }
   ],
   "source": [
    "score_mape_arima = score_mape(model_arima_df.predits, model_arima_df.Reel)\n",
    "score_mape_arima"
   ]
  },
  {
   "cell_type": "markdown",
   "metadata": {},
   "source": [
    "## Modèle SARIMA"
   ]
  },
  {
   "cell_type": "code",
   "execution_count": 74,
   "metadata": {},
   "outputs": [
    {
     "name": "stderr",
     "output_type": "stream",
     "text": [
      "/Library/Frameworks/Python.framework/Versions/3.8/lib/python3.8/site-packages/statsmodels/tsa/base/tsa_model.py:524: ValueWarning: No frequency information was provided, so inferred frequency D will be used.\n",
      "  warnings.warn('No frequency information was'\n",
      "/Library/Frameworks/Python.framework/Versions/3.8/lib/python3.8/site-packages/statsmodels/tsa/base/tsa_model.py:524: ValueWarning: No frequency information was provided, so inferred frequency D will be used.\n",
      "  warnings.warn('No frequency information was'\n"
     ]
    }
   ],
   "source": [
    "#### Avec un modèle SARIMA (3,1,0)(3,1,0)[7]\n",
    "\n",
    "model_sarima= SARIMAX(train, order=(3,1,0), seasonal_order=(3,1,0,7)).fit()\n",
    "\n",
    "# \"Steps\" concerne le nombre de predictions à efectuer\n",
    "forecast_sarima = model_sarima.get_forecast(steps=29)\n",
    "\n",
    "# Determiner nos intervalles de confiance\n",
    "mean_forecast_sarima = forecast_sarima.predicted_mean\n",
    "confidence_intervals_sarima = forecast_sarima.conf_int()\n",
    "lower_limits_sarima = confidence_intervals_sarima['lower Consommation (MW)']\n",
    "upper_limits_sarima = confidence_intervals_sarima['upper Consommation (MW)']"
   ]
  },
  {
   "cell_type": "markdown",
   "metadata": {},
   "source": [
    "### Résultats SARIMA"
   ]
  },
  {
   "cell_type": "code",
   "execution_count": 75,
   "metadata": {},
   "outputs": [],
   "source": [
    "model_sarima_df = pd.DataFrame({'Reel': test['Consommation (MW)'], \n",
    "            'predits' : mean_forecast_sarima.values,\n",
    "            'lower_limits' : lower_limits_sarima,\n",
    "            'upper_limits' : upper_limits_sarima }, index = test.index)"
   ]
  },
  {
   "cell_type": "markdown",
   "metadata": {},
   "source": [
    "### Critères d'évaluation SARIMA"
   ]
  },
  {
   "cell_type": "markdown",
   "metadata": {},
   "source": [
    "#### MSE"
   ]
  },
  {
   "cell_type": "code",
   "execution_count": 76,
   "metadata": {},
   "outputs": [
    {
     "data": {
      "text/plain": [
       "2110887.2569592926"
      ]
     },
     "execution_count": 76,
     "metadata": {},
     "output_type": "execute_result"
    }
   ],
   "source": [
    "# MSE échantillon Test\n",
    "score_mse_sarima_test = score_mse(model_sarima_df.predits, model_sarima_df.Reel)\n",
    "score_mse_sarima_test"
   ]
  },
  {
   "cell_type": "markdown",
   "metadata": {},
   "source": [
    "#### RMSE"
   ]
  },
  {
   "cell_type": "code",
   "execution_count": 77,
   "metadata": {},
   "outputs": [
    {
     "data": {
      "text/plain": [
       "1452.889278974586"
      ]
     },
     "execution_count": 77,
     "metadata": {},
     "output_type": "execute_result"
    }
   ],
   "source": [
    "score_rmse_sarima = score_rmse(model_sarima_df.predits, model_sarima_df.Reel)\n",
    "score_rmse_sarima"
   ]
  },
  {
   "cell_type": "markdown",
   "metadata": {},
   "source": [
    "#### MAPE"
   ]
  },
  {
   "cell_type": "code",
   "execution_count": 78,
   "metadata": {},
   "outputs": [
    {
     "data": {
      "text/plain": [
       "13.49"
      ]
     },
     "execution_count": 78,
     "metadata": {},
     "output_type": "execute_result"
    }
   ],
   "source": [
    "score_mape_sarima = score_mape(model_sarima_df.predits, model_sarima_df.Reel)\n",
    "score_mape_sarima"
   ]
  },
  {
   "cell_type": "markdown",
   "metadata": {},
   "source": [
    "## Modèle SARIMAX"
   ]
  },
  {
   "cell_type": "code",
   "execution_count": 79,
   "metadata": {},
   "outputs": [
    {
     "name": "stderr",
     "output_type": "stream",
     "text": [
      "/Library/Frameworks/Python.framework/Versions/3.8/lib/python3.8/site-packages/statsmodels/tsa/base/tsa_model.py:524: ValueWarning: No frequency information was provided, so inferred frequency D will be used.\n",
      "  warnings.warn('No frequency information was'\n"
     ]
    }
   ],
   "source": [
    "#### Avec un modèle SARIMAX (3,1,0)(3,1,0)[7]\n",
    "model_sarimax = SARIMAX(train_conso, order=(3,1,0), seasonal_order=(3,1,0,7), exog=train_meteo, \n",
    "                enforce_stationarity=False, enforce_invertibility=False, freq='D', trend='n').fit()\n",
    "\n",
    "# \"Steps\" concerne le nombre de predictions à efectuer\n",
    "forecast_sarimax = model_sarimax.get_forecast(steps=29, exog = test_meteo)\n",
    "\n",
    "# Determiner nos intervalles de confiance\n",
    "mean_forecast_sarimax = forecast_sarimax.predicted_mean\n",
    "confidence_intervals_sarimax = forecast_sarimax.conf_int()\n",
    "lower_limits_sarimax = confidence_intervals_sarimax['lower Consommation (MW)']\n",
    "upper_limits_sarimax = confidence_intervals_sarimax['upper Consommation (MW)']"
   ]
  },
  {
   "cell_type": "markdown",
   "metadata": {},
   "source": [
    "### Résultats SARIMAX"
   ]
  },
  {
   "cell_type": "code",
   "execution_count": 80,
   "metadata": {},
   "outputs": [],
   "source": [
    "model_sarimax_df = pd.DataFrame({'Reel': test_x['Consommation (MW)'], \n",
    "            'predits' : mean_forecast_sarimax.values,\n",
    "            'lower_limits' : lower_limits_sarimax,\n",
    "            'upper_limits' : upper_limits_sarimax,\n",
    "            'T' : test_x['Température (°C)'] }, index = test_x.index)"
   ]
  },
  {
   "cell_type": "markdown",
   "metadata": {},
   "source": [
    "### Critères d'évaluation SARIMAX"
   ]
  },
  {
   "cell_type": "markdown",
   "metadata": {},
   "source": [
    "#### MSE"
   ]
  },
  {
   "cell_type": "code",
   "execution_count": 81,
   "metadata": {},
   "outputs": [
    {
     "data": {
      "text/plain": [
       "483046.08348483045"
      ]
     },
     "execution_count": 81,
     "metadata": {},
     "output_type": "execute_result"
    }
   ],
   "source": [
    "# MSE échantillon Test\n",
    "score_mse_sarimax = score_mse(model_sarimax_df.predits, model_sarimax_df.Reel)\n",
    "score_mse_sarimax"
   ]
  },
  {
   "cell_type": "markdown",
   "metadata": {},
   "source": [
    "#### RMSE"
   ]
  },
  {
   "cell_type": "code",
   "execution_count": 82,
   "metadata": {},
   "outputs": [
    {
     "data": {
      "text/plain": [
       "695.0151678091856"
      ]
     },
     "execution_count": 82,
     "metadata": {},
     "output_type": "execute_result"
    }
   ],
   "source": [
    "score_rmse_sarimax = score_rmse(model_sarimax_df.predits, model_sarimax_df.Reel)\n",
    "score_rmse_sarimax"
   ]
  },
  {
   "cell_type": "markdown",
   "metadata": {},
   "source": [
    "#### MAPE"
   ]
  },
  {
   "cell_type": "code",
   "execution_count": 83,
   "metadata": {},
   "outputs": [
    {
     "data": {
      "text/plain": [
       "6.39"
      ]
     },
     "execution_count": 83,
     "metadata": {},
     "output_type": "execute_result"
    }
   ],
   "source": [
    "score_mape_sarimax = score_mape(model_sarimax_df.predits, model_sarimax_df.Reel)\n",
    "score_mape_sarimax"
   ]
  },
  {
   "cell_type": "markdown",
   "metadata": {},
   "source": [
    "## Scores Comparaison"
   ]
  },
  {
   "cell_type": "code",
   "execution_count": 92,
   "metadata": {},
   "outputs": [
    {
     "data": {
      "text/html": [
       "<div>\n",
       "<style scoped>\n",
       "    .dataframe tbody tr th:only-of-type {\n",
       "        vertical-align: middle;\n",
       "    }\n",
       "\n",
       "    .dataframe tbody tr th {\n",
       "        vertical-align: top;\n",
       "    }\n",
       "\n",
       "    .dataframe thead th {\n",
       "        text-align: right;\n",
       "    }\n",
       "</style>\n",
       "<table border=\"1\" class=\"dataframe\">\n",
       "  <thead>\n",
       "    <tr style=\"text-align: right;\">\n",
       "      <th></th>\n",
       "      <th>MAPE</th>\n",
       "      <th>MSE</th>\n",
       "      <th>RMSE</th>\n",
       "      <th>Modele</th>\n",
       "    </tr>\n",
       "  </thead>\n",
       "  <tbody>\n",
       "    <tr>\n",
       "      <th>0</th>\n",
       "      <td>5.75</td>\n",
       "      <td>317871.14</td>\n",
       "      <td>563.80</td>\n",
       "      <td>Ridge</td>\n",
       "    </tr>\n",
       "    <tr>\n",
       "      <th>1</th>\n",
       "      <td>5.57</td>\n",
       "      <td>298859.31</td>\n",
       "      <td>546.68</td>\n",
       "      <td>Lasso</td>\n",
       "    </tr>\n",
       "    <tr>\n",
       "      <th>2</th>\n",
       "      <td>4.87</td>\n",
       "      <td>233417.10</td>\n",
       "      <td>483.13</td>\n",
       "      <td>Elastic_Net</td>\n",
       "    </tr>\n",
       "    <tr>\n",
       "      <th>3</th>\n",
       "      <td>4.64</td>\n",
       "      <td>229272.17</td>\n",
       "      <td>478.82</td>\n",
       "      <td>SGDRegressor</td>\n",
       "    </tr>\n",
       "    <tr>\n",
       "      <th>4</th>\n",
       "      <td>13.27</td>\n",
       "      <td>1955230.51</td>\n",
       "      <td>1398.30</td>\n",
       "      <td>Arima</td>\n",
       "    </tr>\n",
       "    <tr>\n",
       "      <th>5</th>\n",
       "      <td>13.49</td>\n",
       "      <td>2110887.26</td>\n",
       "      <td>1452.89</td>\n",
       "      <td>Sarima</td>\n",
       "    </tr>\n",
       "    <tr>\n",
       "      <th>6</th>\n",
       "      <td>6.39</td>\n",
       "      <td>483046.08</td>\n",
       "      <td>695.02</td>\n",
       "      <td>Sarimax</td>\n",
       "    </tr>\n",
       "  </tbody>\n",
       "</table>\n",
       "</div>"
      ],
      "text/plain": [
       "    MAPE         MSE     RMSE        Modele\n",
       "0   5.75   317871.14   563.80         Ridge\n",
       "1   5.57   298859.31   546.68         Lasso\n",
       "2   4.87   233417.10   483.13   Elastic_Net\n",
       "3   4.64   229272.17   478.82  SGDRegressor\n",
       "4  13.27  1955230.51  1398.30         Arima\n",
       "5  13.49  2110887.26  1452.89        Sarima\n",
       "6   6.39   483046.08   695.02       Sarimax"
      ]
     },
     "execution_count": 92,
     "metadata": {},
     "output_type": "execute_result"
    }
   ],
   "source": [
    "lists_scores = [(score_mape_ridge,score_mse_ridge_test,score_rmse_ridge,'Ridge'),\n",
    "    (score_mape_lasso,score_mse_lasso_test,score_rmse_lasso,'Lasso'),\n",
    "    (score_mape_en,score_mse_en_test,score_rmse_en,'Elastic_Net'),\n",
    "    (score_mape_sgd,score_mse_sgd_test,score_rmse_sgd,'SGDRegressor'),\n",
    "    (score_mape_arima,score_mse_arima_test,score_rmse_arima,'Arima'),\n",
    "    (score_mape_sarima,score_mse_sarima_test,score_rmse_sarima,'Sarima'),\n",
    "    (score_mape_sarimax,score_mse_sarimax,score_rmse_sarimax,'Sarimax')\n",
    "    ]\n",
    "\n",
    "columns_comparaison = ['MAPE','MSE','RMSE','Modele']\n",
    "\n",
    "\n",
    "comparaison_scores = pd.DataFrame( lists_scores, columns = columns_comparaison)\n",
    "comparaison_scores.MSE = np.round(comparaison_scores.MSE,2)\n",
    "comparaison_scores.RMSE = np.round(comparaison_scores.RMSE,2)\n",
    "comparaison_scores"
   ]
  },
  {
   "cell_type": "markdown",
   "metadata": {},
   "source": [
    "## Graphique"
   ]
  },
  {
   "cell_type": "code",
   "execution_count": 85,
   "metadata": {},
   "outputs": [
    {
     "data": {
      "text/html": [
       "\n",
       "    <div class=\"bk-root\">\n",
       "        <a href=\"https://bokeh.org\" target=\"_blank\" class=\"bk-logo bk-logo-small bk-logo-notebook\"></a>\n",
       "        <span id=\"1002\">Loading BokehJS ...</span>\n",
       "    </div>"
      ]
     },
     "metadata": {},
     "output_type": "display_data"
    },
    {
     "data": {
      "application/javascript": "\n(function(root) {\n  function now() {\n    return new Date();\n  }\n\n  var force = true;\n\n  if (typeof root._bokeh_onload_callbacks === \"undefined\" || force === true) {\n    root._bokeh_onload_callbacks = [];\n    root._bokeh_is_loading = undefined;\n  }\n\n  var JS_MIME_TYPE = 'application/javascript';\n  var HTML_MIME_TYPE = 'text/html';\n  var EXEC_MIME_TYPE = 'application/vnd.bokehjs_exec.v0+json';\n  var CLASS_NAME = 'output_bokeh rendered_html';\n\n  /**\n   * Render data to the DOM node\n   */\n  function render(props, node) {\n    var script = document.createElement(\"script\");\n    node.appendChild(script);\n  }\n\n  /**\n   * Handle when an output is cleared or removed\n   */\n  function handleClearOutput(event, handle) {\n    var cell = handle.cell;\n\n    var id = cell.output_area._bokeh_element_id;\n    var server_id = cell.output_area._bokeh_server_id;\n    // Clean up Bokeh references\n    if (id != null && id in Bokeh.index) {\n      Bokeh.index[id].model.document.clear();\n      delete Bokeh.index[id];\n    }\n\n    if (server_id !== undefined) {\n      // Clean up Bokeh references\n      var cmd = \"from bokeh.io.state import curstate; print(curstate().uuid_to_server['\" + server_id + \"'].get_sessions()[0].document.roots[0]._id)\";\n      cell.notebook.kernel.execute(cmd, {\n        iopub: {\n          output: function(msg) {\n            var id = msg.content.text.trim();\n            if (id in Bokeh.index) {\n              Bokeh.index[id].model.document.clear();\n              delete Bokeh.index[id];\n            }\n          }\n        }\n      });\n      // Destroy server and session\n      var cmd = \"import bokeh.io.notebook as ion; ion.destroy_server('\" + server_id + \"')\";\n      cell.notebook.kernel.execute(cmd);\n    }\n  }\n\n  /**\n   * Handle when a new output is added\n   */\n  function handleAddOutput(event, handle) {\n    var output_area = handle.output_area;\n    var output = handle.output;\n\n    // limit handleAddOutput to display_data with EXEC_MIME_TYPE content only\n    if ((output.output_type != \"display_data\") || (!Object.prototype.hasOwnProperty.call(output.data, EXEC_MIME_TYPE))) {\n      return\n    }\n\n    var toinsert = output_area.element.find(\".\" + CLASS_NAME.split(' ')[0]);\n\n    if (output.metadata[EXEC_MIME_TYPE][\"id\"] !== undefined) {\n      toinsert[toinsert.length - 1].firstChild.textContent = output.data[JS_MIME_TYPE];\n      // store reference to embed id on output_area\n      output_area._bokeh_element_id = output.metadata[EXEC_MIME_TYPE][\"id\"];\n    }\n    if (output.metadata[EXEC_MIME_TYPE][\"server_id\"] !== undefined) {\n      var bk_div = document.createElement(\"div\");\n      bk_div.innerHTML = output.data[HTML_MIME_TYPE];\n      var script_attrs = bk_div.children[0].attributes;\n      for (var i = 0; i < script_attrs.length; i++) {\n        toinsert[toinsert.length - 1].firstChild.setAttribute(script_attrs[i].name, script_attrs[i].value);\n        toinsert[toinsert.length - 1].firstChild.textContent = bk_div.children[0].textContent\n      }\n      // store reference to server id on output_area\n      output_area._bokeh_server_id = output.metadata[EXEC_MIME_TYPE][\"server_id\"];\n    }\n  }\n\n  function register_renderer(events, OutputArea) {\n\n    function append_mime(data, metadata, element) {\n      // create a DOM node to render to\n      var toinsert = this.create_output_subarea(\n        metadata,\n        CLASS_NAME,\n        EXEC_MIME_TYPE\n      );\n      this.keyboard_manager.register_events(toinsert);\n      // Render to node\n      var props = {data: data, metadata: metadata[EXEC_MIME_TYPE]};\n      render(props, toinsert[toinsert.length - 1]);\n      element.append(toinsert);\n      return toinsert\n    }\n\n    /* Handle when an output is cleared or removed */\n    events.on('clear_output.CodeCell', handleClearOutput);\n    events.on('delete.Cell', handleClearOutput);\n\n    /* Handle when a new output is added */\n    events.on('output_added.OutputArea', handleAddOutput);\n\n    /**\n     * Register the mime type and append_mime function with output_area\n     */\n    OutputArea.prototype.register_mime_type(EXEC_MIME_TYPE, append_mime, {\n      /* Is output safe? */\n      safe: true,\n      /* Index of renderer in `output_area.display_order` */\n      index: 0\n    });\n  }\n\n  // register the mime type if in Jupyter Notebook environment and previously unregistered\n  if (root.Jupyter !== undefined) {\n    var events = require('base/js/events');\n    var OutputArea = require('notebook/js/outputarea').OutputArea;\n\n    if (OutputArea.prototype.mime_types().indexOf(EXEC_MIME_TYPE) == -1) {\n      register_renderer(events, OutputArea);\n    }\n  }\n\n  \n  if (typeof (root._bokeh_timeout) === \"undefined\" || force === true) {\n    root._bokeh_timeout = Date.now() + 5000;\n    root._bokeh_failed_load = false;\n  }\n\n  var NB_LOAD_WARNING = {'data': {'text/html':\n     \"<div style='background-color: #fdd'>\\n\"+\n     \"<p>\\n\"+\n     \"BokehJS does not appear to have successfully loaded. If loading BokehJS from CDN, this \\n\"+\n     \"may be due to a slow or bad network connection. Possible fixes:\\n\"+\n     \"</p>\\n\"+\n     \"<ul>\\n\"+\n     \"<li>re-rerun `output_notebook()` to attempt to load from CDN again, or</li>\\n\"+\n     \"<li>use INLINE resources instead, as so:</li>\\n\"+\n     \"</ul>\\n\"+\n     \"<code>\\n\"+\n     \"from bokeh.resources import INLINE\\n\"+\n     \"output_notebook(resources=INLINE)\\n\"+\n     \"</code>\\n\"+\n     \"</div>\"}};\n\n  function display_loaded() {\n    var el = document.getElementById(\"1002\");\n    if (el != null) {\n      el.textContent = \"BokehJS is loading...\";\n    }\n    if (root.Bokeh !== undefined) {\n      if (el != null) {\n        el.textContent = \"BokehJS \" + root.Bokeh.version + \" successfully loaded.\";\n      }\n    } else if (Date.now() < root._bokeh_timeout) {\n      setTimeout(display_loaded, 100)\n    }\n  }\n\n\n  function run_callbacks() {\n    try {\n      root._bokeh_onload_callbacks.forEach(function(callback) {\n        if (callback != null)\n          callback();\n      });\n    } finally {\n      delete root._bokeh_onload_callbacks\n    }\n    console.debug(\"Bokeh: all callbacks have finished\");\n  }\n\n  function load_libs(css_urls, js_urls, callback) {\n    if (css_urls == null) css_urls = [];\n    if (js_urls == null) js_urls = [];\n\n    root._bokeh_onload_callbacks.push(callback);\n    if (root._bokeh_is_loading > 0) {\n      console.debug(\"Bokeh: BokehJS is being loaded, scheduling callback at\", now());\n      return null;\n    }\n    if (js_urls == null || js_urls.length === 0) {\n      run_callbacks();\n      return null;\n    }\n    console.debug(\"Bokeh: BokehJS not loaded, scheduling load and callback at\", now());\n    root._bokeh_is_loading = css_urls.length + js_urls.length;\n\n    function on_load() {\n      root._bokeh_is_loading--;\n      if (root._bokeh_is_loading === 0) {\n        console.debug(\"Bokeh: all BokehJS libraries/stylesheets loaded\");\n        run_callbacks()\n      }\n    }\n\n    function on_error(url) {\n      console.error(\"failed to load \" + url);\n    }\n\n    for (let i = 0; i < css_urls.length; i++) {\n      const url = css_urls[i];\n      const element = document.createElement(\"link\");\n      element.onload = on_load;\n      element.onerror = on_error.bind(null, url);\n      element.rel = \"stylesheet\";\n      element.type = \"text/css\";\n      element.href = url;\n      console.debug(\"Bokeh: injecting link tag for BokehJS stylesheet: \", url);\n      document.body.appendChild(element);\n    }\n\n    const hashes = {\"https://cdn.bokeh.org/bokeh/release/bokeh-2.3.2.min.js\": \"XypntL49z55iwGVUW4qsEu83zKL3XEcz0MjuGOQ9SlaaQ68X/g+k1FcioZi7oQAc\", \"https://cdn.bokeh.org/bokeh/release/bokeh-tables-2.3.2.min.js\": \"bEsM86IHGDTLCS0Zod8a8WM6Y4+lafAL/eSiyQcuPzinmWNgNO2/olUF0Z2Dkn5i\", \"https://cdn.bokeh.org/bokeh/release/bokeh-widgets-2.3.2.min.js\": \"TX0gSQTdXTTeScqxj6PVQxTiRW8DOoGVwinyi1D3kxv7wuxQ02XkOxv0xwiypcAH\"};\n\n    for (let i = 0; i < js_urls.length; i++) {\n      const url = js_urls[i];\n      const element = document.createElement('script');\n      element.onload = on_load;\n      element.onerror = on_error.bind(null, url);\n      element.async = false;\n      element.src = url;\n      if (url in hashes) {\n        element.crossOrigin = \"anonymous\";\n        element.integrity = \"sha384-\" + hashes[url];\n      }\n      console.debug(\"Bokeh: injecting script tag for BokehJS library: \", url);\n      document.head.appendChild(element);\n    }\n  };\n\n  function inject_raw_css(css) {\n    const element = document.createElement(\"style\");\n    element.appendChild(document.createTextNode(css));\n    document.body.appendChild(element);\n  }\n\n  \n  var js_urls = [\"https://cdn.bokeh.org/bokeh/release/bokeh-2.3.2.min.js\", \"https://cdn.bokeh.org/bokeh/release/bokeh-widgets-2.3.2.min.js\", \"https://cdn.bokeh.org/bokeh/release/bokeh-tables-2.3.2.min.js\"];\n  var css_urls = [];\n  \n\n  var inline_js = [\n    function(Bokeh) {\n      Bokeh.set_log_level(\"info\");\n    },\n    function(Bokeh) {\n    \n    \n    }\n  ];\n\n  function run_inline_js() {\n    \n    if (root.Bokeh !== undefined || force === true) {\n      \n    for (var i = 0; i < inline_js.length; i++) {\n      inline_js[i].call(root, root.Bokeh);\n    }\n    if (force === true) {\n        display_loaded();\n      }} else if (Date.now() < root._bokeh_timeout) {\n      setTimeout(run_inline_js, 100);\n    } else if (!root._bokeh_failed_load) {\n      console.log(\"Bokeh: BokehJS failed to load within specified timeout.\");\n      root._bokeh_failed_load = true;\n    } else if (force !== true) {\n      var cell = $(document.getElementById(\"1002\")).parents('.cell').data().cell;\n      cell.output_area.append_execute_result(NB_LOAD_WARNING)\n    }\n\n  }\n\n  if (root._bokeh_is_loading === 0) {\n    console.debug(\"Bokeh: BokehJS loaded, going straight to plotting\");\n    run_inline_js();\n  } else {\n    load_libs(css_urls, js_urls, function() {\n      console.debug(\"Bokeh: BokehJS plotting callback run at\", now());\n      run_inline_js();\n    });\n  }\n}(window));",
      "application/vnd.bokehjs_load.v0+json": ""
     },
     "metadata": {},
     "output_type": "display_data"
    }
   ],
   "source": [
    "from math import pi\n",
    "from bokeh.plotting import figure, output_notebook, show, ColumnDataSource, output_file, save\n",
    "from bokeh.models import Legend, DatetimeTickFormatter, formatters, HoverTool, LinearAxis, Range1d, LabelSet, Label, Arrow, NormalHead, OpenHead\n",
    "from bokeh.palettes import Bokeh\n",
    "\n",
    "output_notebook()"
   ]
  },
  {
   "cell_type": "markdown",
   "metadata": {},
   "source": [
    "### Comparaison modèles"
   ]
  },
  {
   "cell_type": "code",
   "execution_count": 93,
   "metadata": {},
   "outputs": [
    {
     "data": {
      "text/plain": [
       "('#EC1557', '#F05223', '#F6A91B', '#A5CD39', '#20B254', '#00AAAE', '#892889')"
      ]
     },
     "execution_count": 93,
     "metadata": {},
     "output_type": "execute_result"
    }
   ],
   "source": [
    "Bokeh[7]"
   ]
  },
  {
   "cell_type": "code",
   "execution_count": 94,
   "metadata": {},
   "outputs": [
    {
     "data": {
      "text/html": [
       "\n",
       "\n",
       "\n",
       "\n",
       "\n",
       "\n",
       "  <div class=\"bk-root\" id=\"9ff80ad2-fde7-41d0-a389-1e830c74b324\" data-root-id=\"2452\"></div>\n"
      ]
     },
     "metadata": {},
     "output_type": "display_data"
    },
    {
     "data": {
      "application/javascript": "(function(root) {\n  function embed_document(root) {\n    \n  var docs_json = {\"5089088d-e522-49d9-9fb0-219c8f01a6d3\":{\"defs\":[],\"roots\":{\"references\":[{\"attributes\":{\"below\":[{\"id\":\"2463\"}],\"center\":[{\"id\":\"2466\"},{\"id\":\"2470\"},{\"id\":\"2511\"}],\"height\":550,\"left\":[{\"id\":\"2467\"}],\"renderers\":[{\"id\":\"2487\"},{\"id\":\"2516\"},{\"id\":\"2546\"},{\"id\":\"2578\"},{\"id\":\"2612\"},{\"id\":\"2648\"},{\"id\":\"2686\"},{\"id\":\"2726\"}],\"title\":{\"id\":\"2453\"},\"toolbar\":{\"id\":\"2477\"},\"toolbar_location\":\"below\",\"width\":900,\"x_range\":{\"id\":\"2455\"},\"x_scale\":{\"id\":\"2459\"},\"y_range\":{\"id\":\"2457\"},\"y_scale\":{\"id\":\"2461\"}},\"id\":\"2452\",\"subtype\":\"Figure\",\"type\":\"Plot\"},{\"attributes\":{\"months\":[0,4,8]},\"id\":\"2505\",\"type\":\"MonthsTicker\"},{\"attributes\":{},\"id\":\"2605\",\"type\":\"UnionRenderers\"},{\"attributes\":{\"days\":[1,4,7,10,13,16,19,22,25,28]},\"id\":\"2500\",\"type\":\"DaysTicker\"},{\"attributes\":{},\"id\":\"2475\",\"type\":\"ResetTool\"},{\"attributes\":{\"months\":[0,1,2,3,4,5,6,7,8,9,10,11]},\"id\":\"2503\",\"type\":\"MonthsTicker\"},{\"attributes\":{\"months\":[0,6]},\"id\":\"2506\",\"type\":\"MonthsTicker\"},{\"attributes\":{},\"id\":\"2606\",\"type\":\"Selection\"},{\"attributes\":{\"days\":[1,15]},\"id\":\"2502\",\"type\":\"DaysTicker\"},{\"attributes\":{\"line_alpha\":0.1,\"line_color\":\"#892889\",\"x\":{\"field\":\"Date\"},\"y\":{\"field\":\"predits\"}},\"id\":\"2611\",\"type\":\"Line\"},{\"attributes\":{\"source\":{\"id\":\"2451\"}},\"id\":\"2613\",\"type\":\"CDSView\"},{\"attributes\":{\"mantissas\":[1,2,5],\"max_interval\":500.0,\"num_minor_ticks\":0},\"id\":\"2496\",\"type\":\"AdaptiveTicker\"},{\"attributes\":{},\"id\":\"2507\",\"type\":\"YearsTicker\"},{\"attributes\":{\"line_color\":\"#892889\",\"x\":{\"field\":\"Date\"},\"y\":{\"field\":\"predits\"}},\"id\":\"2610\",\"type\":\"Line\"},{\"attributes\":{\"source\":{\"id\":\"2449\"}},\"id\":\"2687\",\"type\":\"CDSView\"},{\"attributes\":{\"label\":{\"value\":\"SARIMA\"},\"renderers\":[{\"id\":\"2686\"}]},\"id\":\"2722\",\"type\":\"LegendItem\"},{\"attributes\":{\"label\":{\"value\":\"SGD\"},\"renderers\":[{\"id\":\"2612\"}]},\"id\":\"2644\",\"type\":\"LegendItem\"},{\"attributes\":{},\"id\":\"2471\",\"type\":\"CrosshairTool\"},{\"attributes\":{\"data\":{\"Date\":{\"__ndarray__\":\"AAAADmRYd0IAAMBztlh3QgAAgNkIWXdCAABAP1tZd0IAAAClrVl3QgAAwAoAWndCAACAcFJad0IAAEDWpFp3QgAAADz3WndCAADAoUlbd0IAAIAHnFt3QgAAQG3uW3dCAAAA00Bcd0IAAMA4k1x3QgAAgJ7lXHdCAABABDhdd0IAAABqil13QgAAwM/cXXdCAACANS9ed0IAAECbgV53QgAAAAHUXndCAADAZiZfd0IAAIDMeF93QgAAQDLLX3dCAAAAmB1gd0IAAMD9b2B3QgAAgGPCYHdCAABAyRRhd0IAAAAvZ2F3Qg==\",\"dtype\":\"float64\",\"order\":\"little\",\"shape\":[29]},\"Reel\":{\"__ndarray__\":\"AAAAAACdu0AAAAAAACO/QAAAAACA6cBAAAAAAADnwEAAAAAAgMrAQAAAAAAAyL1AAAAAAAA5u0AAAAAAAI29QAAAAAAArL1AAAAAAAA7vEAAAAAAABq+QAAAAAAADL5AAAAAAADxukAAAAAAAG66QAAAAAAAdL9AAAAAAIAdwEAAAAAAAL+/QAAAAAAAj79AAAAAAAD7wEAAAAAAADfAQAAAAAAA5b9AAAAAAIARwUAAAAAAgL3BQAAAAAAA88FAAAAAAIALwkAAAAAAAK7BQAAAAAAA1cBAAAAAAADWwUAAAAAAAFfEQA==\",\"dtype\":\"float64\",\"order\":\"little\",\"shape\":[29]},\"T\":{\"__ndarray__\":\"amZmZmaGMEAMAAAAAMAhQLiZmZmZWRpAIAAAAAAAHkDAmZmZmVkfQHhmZmZmpiVAQTMzMzNTKkCgmZmZmTkqQHRmZmZmhilApJmZmZk5JUBEMzMzM3MmQG9mZmZmBihAb2ZmZmbGKkBBMzMzM3MqQHRmZmZm5iVAPDMzMzPTJUA8MzMzMzMlQNjMzMzMTCNACAAAAACAGkBIMzMzM/MYQLiZmZmZmRlAODMzMzOzIUAYAAAAAMAZQCAAAAAAgBxAgGZmZmamF0CwmZmZmRkfQIBmZmZmphhAkGZmZmZmDUBAAAAAAAAFQA==\",\"dtype\":\"float64\",\"order\":\"little\",\"shape\":[29]},\"predits\":{\"__ndarray__\":\"AAAAAAASvkAAAAAAAGDBQAAAAAAAEsJAAAAAAADBwUAAAAAAgHTBQAAAAAAAcb5AAAAAAAAFvEAAAAAAAOi/QAAAAAAAVMBAAAAAAID8wEAAAAAAgMDAQAAAAAAAVcBAAAAAAAAQvUAAAAAAAPy7QAAAAACAiMBAAAAAAIDTwEAAAAAAgP3AQAAAAAAALcFAAAAAAADIwUAAAAAAgHTAQAAAAAAAqL9AAAAAAIAZwUAAAAAAAAjCQAAAAAAA7cFAAAAAAIAuwkAAAAAAgHjBQAAAAACAecBAAAAAAICPwEAAAAAAAMbCQA==\",\"dtype\":\"float64\",\"order\":\"little\",\"shape\":[29]}},\"selected\":{\"id\":\"2540\"},\"selection_policy\":{\"id\":\"2539\"}},\"id\":\"2445\",\"type\":\"ColumnDataSource\"},{\"attributes\":{\"line_alpha\":0.1,\"line_color\":\"#20B254\",\"x\":{\"field\":\"Date\"},\"y\":{\"field\":\"predits\"}},\"id\":\"2685\",\"type\":\"Line\"},{\"attributes\":{\"line_color\":\"#20B254\",\"x\":{\"field\":\"Date\"},\"y\":{\"field\":\"predits\"}},\"id\":\"2684\",\"type\":\"Line\"},{\"attributes\":{\"days\":[1,2,3,4,5,6,7,8,9,10,11,12,13,14,15,16,17,18,19,20,21,22,23,24,25,26,27,28,29,30,31]},\"id\":\"2499\",\"type\":\"DaysTicker\"},{\"attributes\":{},\"id\":\"2641\",\"type\":\"UnionRenderers\"},{\"attributes\":{\"data_source\":{\"id\":\"2445\"},\"glyph\":{\"id\":\"2514\"},\"hover_glyph\":null,\"muted_glyph\":null,\"nonselection_glyph\":{\"id\":\"2515\"},\"view\":{\"id\":\"2517\"}},\"id\":\"2516\",\"type\":\"GlyphRenderer\"},{\"attributes\":{\"months\":[0,2,4,6,8,10]},\"id\":\"2504\",\"type\":\"MonthsTicker\"},{\"attributes\":{\"base\":24,\"mantissas\":[1,2,4,6,8,12],\"max_interval\":43200000.0,\"min_interval\":3600000.0,\"num_minor_ticks\":0},\"id\":\"2498\",\"type\":\"AdaptiveTicker\"},{\"attributes\":{\"overlay\":{\"id\":\"2476\"}},\"id\":\"2474\",\"type\":\"BoxZoomTool\"},{\"attributes\":{},\"id\":\"2679\",\"type\":\"UnionRenderers\"},{\"attributes\":{},\"id\":\"2642\",\"type\":\"Selection\"},{\"attributes\":{},\"id\":\"2493\",\"type\":\"AllLabels\"},{\"attributes\":{},\"id\":\"2468\",\"type\":\"BasicTicker\"},{\"attributes\":{\"data_source\":{\"id\":\"2449\"},\"glyph\":{\"id\":\"2684\"},\"hover_glyph\":null,\"muted_glyph\":null,\"nonselection_glyph\":{\"id\":\"2685\"},\"view\":{\"id\":\"2687\"}},\"id\":\"2686\",\"type\":\"GlyphRenderer\"},{\"attributes\":{},\"id\":\"2473\",\"type\":\"WheelZoomTool\"},{\"attributes\":{\"callback\":null,\"formatters\":{\"@Date\":\"datetime\"},\"tooltips\":[[\"Date\",\"@Date{%Y-%m-%d}\"],[\"Pr\\u00e9diction\",\"@predits{0.00}\"],[\"Valeur r\\u00e9elle\",\"@Reel{0.00}\"]]},\"id\":\"2763\",\"type\":\"HoverTool\"},{\"attributes\":{},\"id\":\"2719\",\"type\":\"UnionRenderers\"},{\"attributes\":{\"line_color\":\"#A5CD39\",\"x\":{\"field\":\"Date\"},\"y\":{\"field\":\"predits\"}},\"id\":\"2646\",\"type\":\"Line\"},{\"attributes\":{\"base\":60,\"mantissas\":[1,2,5,10,15,20,30],\"max_interval\":1800000.0,\"min_interval\":1000.0,\"num_minor_ticks\":0},\"id\":\"2497\",\"type\":\"AdaptiveTicker\"},{\"attributes\":{},\"id\":\"2494\",\"type\":\"BasicTickFormatter\"},{\"attributes\":{\"axis\":{\"id\":\"2467\"},\"dimension\":1,\"grid_line_color\":null,\"ticker\":null},\"id\":\"2470\",\"type\":\"Grid\"},{\"attributes\":{\"days\":[1,8,15,22]},\"id\":\"2501\",\"type\":\"DaysTicker\"},{\"attributes\":{},\"id\":\"2472\",\"type\":\"PanTool\"},{\"attributes\":{},\"id\":\"2720\",\"type\":\"Selection\"},{\"attributes\":{},\"id\":\"2509\",\"type\":\"Selection\"},{\"attributes\":{\"data\":{\"Date\":{\"__ndarray__\":\"AAAADmRYd0IAAMBztlh3QgAAgNkIWXdCAABAP1tZd0IAAAClrVl3QgAAwAoAWndCAACAcFJad0IAAEDWpFp3QgAAADz3WndCAADAoUlbd0IAAIAHnFt3QgAAQG3uW3dCAAAA00Bcd0IAAMA4k1x3QgAAgJ7lXHdCAABABDhdd0IAAABqil13QgAAwM/cXXdCAACANS9ed0IAAECbgV53QgAAAAHUXndCAADAZiZfd0IAAIDMeF93QgAAQDLLX3dCAAAAmB1gd0IAAMD9b2B3QgAAgGPCYHdCAABAyRRhd0IAAAAvZ2F3Qg==\",\"dtype\":\"float64\",\"order\":\"little\",\"shape\":[29]},\"Reel\":{\"__ndarray__\":\"q6qqqpqcu0AAAAAAQCO/QKuqqqqS6cBAq6qqqtLmwEAAAAAAkMrAQFVVVVX1x71AVVVVVRU5u0CrqqqqGo29QAAAAACQq71AAAAAAAA7vEBVVVVVhRm+QFVVVVU1DL5Aq6qqqrrwukBVVVVVVW66QKuqqqoKdL9AAAAAAFAdwEAAAAAAcL+/QFVVVVWFjr9Aq6qqqsL6wECrqqqq2jbAQFVVVVU15b9AVVVVVX0RwUAAAAAAeL3BQFVVVVXd8sFAAAAAAGgLwkAAAAAAMK7BQKuqqqra1MBAVVVVVd3VwUAAAAAAAFfEQA==\",\"dtype\":\"float64\",\"order\":\"little\",\"shape\":[29]},\"lower_limits\":{\"__ndarray__\":\"9ggyi63tukANhwfrDPi5QOgyJor8ILhAalzEleOxtkDKrASZZk61QEneLpDGX7JAWG5oCJ9csUAuMtlVD8i0QMz7MIvIi7RAQFWOGg7dskBm48uHY6qxQN4lUPefLbBA1lCTnb5MqkABFETQRhyoQHK+7dTXg65Ay4rQvIvvrUCXIAJaauOpQBKEq11ZBqdAkMjbZS3Co0BAcbpm3VObQDTJTG1E6pZAzpYQv1sHokA4FewQaLehQAwmh/cN5ptAeIth2OomlkA4OFhfK6yNQMAlqG9bHF9AAMGOlr5Bb8CAktoMpAeBQA==\",\"dtype\":\"float64\",\"order\":\"little\",\"shape\":[29]},\"predits\":{\"__ndarray__\":\"md6K1qHLvUA/EfAIhF2+QOaznfmMob1A1/+8RHv5vEDJ0E1FWT28QCyP9tdj57lArYTobVN0uUDUE/MsOsK9QPh+GzRkY75AiY2g4yF/vUAub1syuQC9QOFbOuxQK7xAv5z/NrnCuUBFHOJfaEK5QLjivnqeWL1AYQ43MF3xvUDzTYpfucC8QHKGZkBKFbxATjoLvXsru0C9+mb7ONC4QDOdHqXPYLhAhfNxrp6jvECClrHLEni9QKqsCjH3hbxAjmAcuxf0u0AIP5JnH/O6QD1yXCX8hbhAmjWBrp3Vt0DUJI+NgBO8QA==\",\"dtype\":\"float64\",\"order\":\"little\",\"shape\":[29]},\"upper_limits\":{\"__ndarray__\":\"HtrxEMtUwEC4TWyTfWHBQHKairQOkcFAotHaeYmgwUBkesv4JZbBQAgg34+At8BAgU206QPGwEC9egaCMl7DQBIBg+5/HcRA6WJZ1poQxEB7fXVuhyvEQPJIkvCAFMRAisiaj4kvw0BFF9GrVjvDQBxzg4Wot8VArusCQXp1xkDNxQnJ3kfGQG6l++izU8ZAKkiUY/A6xkCVrI9OvWXFQAwEdReHg8VA0s2tvschyEA0kXbHOArJQOjHGXI1CclAHy8QYDovyUCEu5yxXBjJQPIhfW7DR8hAnnDbqKRSyECse8FMBgPLQA==\",\"dtype\":\"float64\",\"order\":\"little\",\"shape\":[29]}},\"selected\":{\"id\":\"2720\"},\"selection_policy\":{\"id\":\"2719\"}},\"id\":\"2449\",\"type\":\"ColumnDataSource\"},{\"attributes\":{\"source\":{\"id\":\"2450\"}},\"id\":\"2727\",\"type\":\"CDSView\"},{\"attributes\":{\"line_alpha\":0.1,\"line_color\":\"#00AAAE\",\"x\":{\"field\":\"Date\"},\"y\":{\"field\":\"predits\"}},\"id\":\"2725\",\"type\":\"Line\"},{\"attributes\":{},\"id\":\"2508\",\"type\":\"UnionRenderers\"},{\"attributes\":{},\"id\":\"2539\",\"type\":\"UnionRenderers\"},{\"attributes\":{\"data\":{\"Date\":{\"__ndarray__\":\"AAAADmRYd0IAAMBztlh3QgAAgNkIWXdCAABAP1tZd0IAAAClrVl3QgAAwAoAWndCAACAcFJad0IAAEDWpFp3QgAAADz3WndCAADAoUlbd0IAAIAHnFt3QgAAQG3uW3dCAAAA00Bcd0IAAMA4k1x3QgAAgJ7lXHdCAABABDhdd0IAAABqil13QgAAwM/cXXdCAACANS9ed0IAAECbgV53QgAAAAHUXndCAADAZiZfd0IAAIDMeF93QgAAQDLLX3dCAAAAmB1gd0IAAMD9b2B3QgAAgGPCYHdCAABAyRRhd0IAAAAvZ2F3Qg==\",\"dtype\":\"float64\",\"order\":\"little\",\"shape\":[29]},\"Reel\":{\"__ndarray__\":\"q6qqqpqcu0AAAAAAQCO/QKuqqqqS6cBAq6qqqtLmwEAAAAAAkMrAQFVVVVX1x71AVVVVVRU5u0CrqqqqGo29QAAAAACQq71AAAAAAAA7vEBVVVVVhRm+QFVVVVU1DL5Aq6qqqrrwukBVVVVVVW66QKuqqqoKdL9AAAAAAFAdwEAAAAAAcL+/QFVVVVWFjr9Aq6qqqsL6wECrqqqq2jbAQFVVVVU15b9AVVVVVX0RwUAAAAAAeL3BQFVVVVXd8sFAAAAAAGgLwkAAAAAAMK7BQKuqqqra1MBAVVVVVd3VwUAAAAAAAFfEQA==\",\"dtype\":\"float64\",\"order\":\"little\",\"shape\":[29]},\"T\":{\"__ndarray__\":\"amZmZmaGMEAMAAAAAMAhQLiZmZmZWRpAIAAAAAAAHkDAmZmZmVkfQHhmZmZmpiVAQTMzMzNTKkCgmZmZmTkqQHRmZmZmhilApJmZmZk5JUBEMzMzM3MmQG9mZmZmBihAb2ZmZmbGKkBBMzMzM3MqQHRmZmZm5iVAPDMzMzPTJUA8MzMzMzMlQNjMzMzMTCNACAAAAACAGkBIMzMzM/MYQLiZmZmZmRlAODMzMzOzIUAYAAAAAMAZQCAAAAAAgBxAgGZmZmamF0CwmZmZmRkfQIBmZmZmphhAkGZmZmZmDUBAAAAAAAAFQA==\",\"dtype\":\"float64\",\"order\":\"little\",\"shape\":[29]},\"lower_limits\":{\"__ndarray__\":\"6ED5YfYYu0Adpxtvl768QB9ndUlbMLxAUDS9/Iy+ukCZ/whJrGO5QKedgmVQabVA9fcs26bKs0D+8q2Bzze3QPkUCLCVd7dAMEbZz8gNt0CGcN+23861QMrTjdfJTrRAcEW8nLzBsEDuCJgAhnCvQLgQGC3ui7NAzFbqiKC5s0AmqfrvEZ+yQNI48ijhi7FA6MCVmzHwsEAJu9ITOK+rQN50l6k/j6lAIDqiGjS9rkCWGRND0T+wQPZM/n0T4K1A0hQQjkgErEBYQU3xWeGnQJ6P7l9oIaJAwPBNzfb7oEDe5oFCM92nQA==\",\"dtype\":\"float64\",\"order\":\"little\",\"shape\":[29]},\"predits\":{\"__ndarray__\":\"Pc18hX+mvUD1JMF8DUrAQEXnMlUPdMBAoHEVJ7UKwEC6un4WmUO/QIHVi9mWyLtAiqtBsXmiukCPmdwDcda+QN8vWrwC1b9A+21uxjoLwEDljSGNeG+/QDGkbDscfb5AATyRBPd2u0DQYhamu+66QC1FPWhChb9AWTbL+oo5wEC5dtJGYAXAQNC9F7hsmr9ANu83pU+Zv0AsSVAinhW9QEqAeT6olbxAfUadF7kAwEAOqhnOVdvAQNH226D4lsBAUmhO6v17wEAYfDY1apa/QJzwZwjdYL1AC27nkc9zvUCxOMIVN+/AQA==\",\"dtype\":\"float64\",\"order\":\"little\",\"shape\":[29]},\"upper_limits\":{\"__ndarray__\":\"ySyAVAQawEBcdvRBzzTCQPsaqwXxz8JAGEnMzyO2wkDuOvrxwpHCQK6GyqbuE8FAkC+rQya9wEAQoAVDiTrDQGIlVuQ3GcRA3jjwJJGPxECi1bGxCIjEQEy6pU+3VcRASRkzthgWw0CUYPAlmhLDQNE8sVFLv8VATEEhsUWWxkDfmKeVN7vGQGehniN81MZAwg5t1zYhx0Bqmlsd0CnGQBKjE1TYMcZAcv6RKCVSyEBRx6n6wpbJQGRaOGLstclAcMsYsen2yUDCK+O4E57JQLRMbPCC2MhA2/GT3tE0yUCq9+NaIefLQA==\",\"dtype\":\"float64\",\"order\":\"little\",\"shape\":[29]}},\"selected\":{\"id\":\"2509\"},\"selection_policy\":{\"id\":\"2508\"}},\"id\":\"2450\",\"type\":\"ColumnDataSource\"},{\"attributes\":{\"line_color\":\"#00AAAE\",\"x\":{\"field\":\"Date\"},\"y\":{\"field\":\"predits\"}},\"id\":\"2724\",\"type\":\"Line\"},{\"attributes\":{},\"id\":\"2540\",\"type\":\"Selection\"},{\"attributes\":{\"align\":\"center\",\"text\":\"Comparaison mod\\u00e8les\",\"text_color\":\"darkblue\",\"text_font\":\"times\",\"text_font_size\":\"20px\"},\"id\":\"2453\",\"type\":\"Title\"},{\"attributes\":{\"active_multi\":null,\"tools\":[{\"id\":\"2471\"},{\"id\":\"2472\"},{\"id\":\"2473\"},{\"id\":\"2474\"},{\"id\":\"2475\"},{\"id\":\"2763\"}]},\"id\":\"2477\",\"type\":\"Toolbar\"},{\"attributes\":{\"line_alpha\":0.1,\"line_color\":\"navy\",\"x\":{\"field\":\"Date\"},\"y\":{\"field\":\"Reel\"}},\"id\":\"2486\",\"type\":\"Line\"},{\"attributes\":{\"label\":{\"value\":\"SARIMAX\"},\"renderers\":[{\"id\":\"2726\"}]},\"id\":\"2762\",\"type\":\"LegendItem\"},{\"attributes\":{\"click_policy\":\"hide\",\"items\":[{\"id\":\"2512\"},{\"id\":\"2542\"},{\"id\":\"2574\"},{\"id\":\"2608\"},{\"id\":\"2644\"},{\"id\":\"2682\"},{\"id\":\"2722\"},{\"id\":\"2762\"}],\"location\":\"top_left\"},\"id\":\"2511\",\"type\":\"Legend\"},{\"attributes\":{\"axis\":{\"id\":\"2463\"},\"grid_line_color\":null,\"ticker\":null},\"id\":\"2466\",\"type\":\"Grid\"},{\"attributes\":{},\"id\":\"2459\",\"type\":\"LinearScale\"},{\"attributes\":{\"line_alpha\":0.1,\"line_color\":\"#892889\",\"x\":{\"field\":\"Date\"},\"y\":{\"field\":\"predits\"}},\"id\":\"2545\",\"type\":\"Line\"},{\"attributes\":{},\"id\":\"2461\",\"type\":\"LinearScale\"},{\"attributes\":{\"label\":{\"value\":\"ARIMA\"},\"renderers\":[{\"id\":\"2648\"}]},\"id\":\"2682\",\"type\":\"LegendItem\"},{\"attributes\":{\"source\":{\"id\":\"2446\"}},\"id\":\"2547\",\"type\":\"CDSView\"},{\"attributes\":{\"axis_label\":\"Consommation Moyenne\",\"formatter\":{\"id\":\"2494\"},\"major_label_policy\":{\"id\":\"2493\"},\"ticker\":{\"id\":\"2468\"}},\"id\":\"2467\",\"type\":\"LinearAxis\"},{\"attributes\":{},\"id\":\"2457\",\"type\":\"DataRange1d\"},{\"attributes\":{\"line_color\":\"#892889\",\"x\":{\"field\":\"Date\"},\"y\":{\"field\":\"predits\"}},\"id\":\"2544\",\"type\":\"Line\"},{\"attributes\":{\"bottom_units\":\"screen\",\"fill_alpha\":0.5,\"fill_color\":\"lightgrey\",\"left_units\":\"screen\",\"level\":\"overlay\",\"line_alpha\":1.0,\"line_color\":\"black\",\"line_dash\":[4,4],\"line_width\":2,\"right_units\":\"screen\",\"syncable\":false,\"top_units\":\"screen\"},\"id\":\"2476\",\"type\":\"BoxAnnotation\"},{\"attributes\":{},\"id\":\"2680\",\"type\":\"Selection\"},{\"attributes\":{\"label\":{\"value\":\"Lasso\"},\"renderers\":[{\"id\":\"2546\"}]},\"id\":\"2574\",\"type\":\"LegendItem\"},{\"attributes\":{},\"id\":\"2571\",\"type\":\"UnionRenderers\"},{\"attributes\":{},\"id\":\"2491\",\"type\":\"DatetimeTickFormatter\"},{\"attributes\":{\"data_source\":{\"id\":\"2450\"},\"glyph\":{\"id\":\"2485\"},\"hover_glyph\":null,\"muted_glyph\":null,\"nonselection_glyph\":{\"id\":\"2486\"},\"view\":{\"id\":\"2488\"}},\"id\":\"2487\",\"type\":\"GlyphRenderer\"},{\"attributes\":{},\"id\":\"2572\",\"type\":\"Selection\"},{\"attributes\":{\"data_source\":{\"id\":\"2448\"},\"glyph\":{\"id\":\"2646\"},\"hover_glyph\":null,\"muted_glyph\":null,\"nonselection_glyph\":{\"id\":\"2647\"},\"view\":{\"id\":\"2649\"}},\"id\":\"2648\",\"type\":\"GlyphRenderer\"},{\"attributes\":{\"data_source\":{\"id\":\"2446\"},\"glyph\":{\"id\":\"2544\"},\"hover_glyph\":null,\"muted_glyph\":null,\"nonselection_glyph\":{\"id\":\"2545\"},\"view\":{\"id\":\"2547\"}},\"id\":\"2546\",\"type\":\"GlyphRenderer\"},{\"attributes\":{\"source\":{\"id\":\"2450\"}},\"id\":\"2488\",\"type\":\"CDSView\"},{\"attributes\":{\"data\":{\"Date\":{\"__ndarray__\":\"AAAADmRYd0IAAMBztlh3QgAAgNkIWXdCAABAP1tZd0IAAAClrVl3QgAAwAoAWndCAACAcFJad0IAAEDWpFp3QgAAADz3WndCAADAoUlbd0IAAIAHnFt3QgAAQG3uW3dCAAAA00Bcd0IAAMA4k1x3QgAAgJ7lXHdCAABABDhdd0IAAABqil13QgAAwM/cXXdCAACANS9ed0IAAECbgV53QgAAAAHUXndCAADAZiZfd0IAAIDMeF93QgAAQDLLX3dCAAAAmB1gd0IAAMD9b2B3QgAAgGPCYHdCAABAyRRhd0IAAAAvZ2F3Qg==\",\"dtype\":\"float64\",\"order\":\"little\",\"shape\":[29]},\"Reel\":{\"__ndarray__\":\"AAAAAACdu0AAAAAAACO/QAAAAACA6cBAAAAAAADnwEAAAAAAgMrAQAAAAAAAyL1AAAAAAAA5u0AAAAAAAI29QAAAAAAArL1AAAAAAAA7vEAAAAAAABq+QAAAAAAADL5AAAAAAADxukAAAAAAAG66QAAAAAAAdL9AAAAAAIAdwEAAAAAAAL+/QAAAAAAAj79AAAAAAAD7wEAAAAAAADfAQAAAAAAA5b9AAAAAAIARwUAAAAAAgL3BQAAAAAAA88FAAAAAAIALwkAAAAAAAK7BQAAAAAAA1cBAAAAAAADWwUAAAAAAAFfEQA==\",\"dtype\":\"float64\",\"order\":\"little\",\"shape\":[29]},\"T\":{\"__ndarray__\":\"amZmZmaGMEAMAAAAAMAhQLiZmZmZWRpAIAAAAAAAHkDAmZmZmVkfQHhmZmZmpiVAQTMzMzNTKkCgmZmZmTkqQHRmZmZmhilApJmZmZk5JUBEMzMzM3MmQG9mZmZmBihAb2ZmZmbGKkBBMzMzM3MqQHRmZmZm5iVAPDMzMzPTJUA8MzMzMzMlQNjMzMzMTCNACAAAAACAGkBIMzMzM/MYQLiZmZmZmRlAODMzMzOzIUAYAAAAAMAZQCAAAAAAgBxAgGZmZmamF0CwmZmZmRkfQIBmZmZmphhAkGZmZmZmDUBAAAAAAAAFQA==\",\"dtype\":\"float64\",\"order\":\"little\",\"shape\":[29]},\"predits\":{\"__ndarray__\":\"AAAAAADqvEAAAAAAgEnBQAAAAAAAKMJAAAAAAADJwUAAAAAAAHnBQAAAAAAAZb5AAAAAAACuu0AAAAAAAEO/QAAAAAAA5r9AAAAAAIDFwEAAAAAAAIHAQAAAAACACcBAAAAAAACivEAAAAAAAKO7QAAAAAAAYMBAAAAAAACWwEAAAAAAgMbAQAAAAACAC8FAAAAAAADkwUAAAAAAgMbAQAAAAACAKsBAAAAAAAAZwUAAAAAAACDCQAAAAAAA+cFAAAAAAABVwkAAAAAAgH7BQAAAAAAAzcBAAAAAAIAawUAAAAAAgD3DQA==\",\"dtype\":\"float64\",\"order\":\"little\",\"shape\":[29]}},\"selected\":{\"id\":\"2606\"},\"selection_policy\":{\"id\":\"2605\"}},\"id\":\"2447\",\"type\":\"ColumnDataSource\"},{\"attributes\":{\"source\":{\"id\":\"2448\"}},\"id\":\"2649\",\"type\":\"CDSView\"},{\"attributes\":{\"data\":{\"Date\":{\"__ndarray__\":\"AAAADmRYd0IAAMBztlh3QgAAgNkIWXdCAABAP1tZd0IAAAClrVl3QgAAwAoAWndCAACAcFJad0IAAEDWpFp3QgAAADz3WndCAADAoUlbd0IAAIAHnFt3QgAAQG3uW3dCAAAA00Bcd0IAAMA4k1x3QgAAgJ7lXHdCAABABDhdd0IAAABqil13QgAAwM/cXXdCAACANS9ed0IAAECbgV53QgAAAAHUXndCAADAZiZfd0IAAIDMeF93QgAAQDLLX3dCAAAAmB1gd0IAAMD9b2B3QgAAgGPCYHdCAABAyRRhd0IAAAAvZ2F3Qg==\",\"dtype\":\"float64\",\"order\":\"little\",\"shape\":[29]},\"Reel\":{\"__ndarray__\":\"q6qqqpqcu0AAAAAAQCO/QKuqqqqS6cBAq6qqqtLmwEAAAAAAkMrAQFVVVVX1x71AVVVVVRU5u0CrqqqqGo29QAAAAACQq71AAAAAAAA7vEBVVVVVhRm+QFVVVVU1DL5Aq6qqqrrwukBVVVVVVW66QKuqqqoKdL9AAAAAAFAdwEAAAAAAcL+/QFVVVVWFjr9Aq6qqqsL6wECrqqqq2jbAQFVVVVU15b9AVVVVVX0RwUAAAAAAeL3BQFVVVVXd8sFAAAAAAGgLwkAAAAAAMK7BQKuqqqra1MBAVVVVVd3VwUAAAAAAAFfEQA==\",\"dtype\":\"float64\",\"order\":\"little\",\"shape\":[29]},\"lower_limits\":{\"__ndarray__\":\"ZXG44L5wt0AkwMpYbRu4QDbHc0/y9bdAcKLhSfh4tkDBwGbK7zi0QNJWDkf+bLJAU0NcIyEAskBhQjtwgd2yQB4BN0xY/rNAC0dJEpAutEDqrWdT3/OyQF73mO836bBA6WF6djmTrkBRrOChDwWuQIpIX2LBALBAFnJaj44+sUCAL7TYioixQEzTNLPtZLBAwWsCEyXerECakFwhrcSpQKh4VxH+WKlA0wPU1CB1q0CJXQACAQ6uQI8esx8nva5AC9ZWmUaPrEA5urpWS7uoQDJ+7BkTuKVA64q1AT9hpUCUisWm7pCnQA==\",\"dtype\":\"float64\",\"order\":\"little\",\"shape\":[29]},\"predits\":{\"__ndarray__\":\"R9M+D3peu0A5rufaAPe8QHPVyR+Fmb1AkA2Qc6fLvEAQbHBRdCi7QEvVGoyd67lAMI/TTrsDukAly+nqn167QHZ5ErYL97xA8YnrzWyZvUC2lZZFfsu8QFAFWUpZKLtAv944BqXruUCLUkCo3wO6QGb3ssPFXrtAel7vjRb3vEDvQtB6VJm9QFi7XxlVy7xAk3OwRj4ou0BPHtyCrOu5QK7NYgEEBLpA6Faameteu0Dxln5iIfe8QHlJeCY8mb1A3Z/r7ivLvEB0l3ZGIyi7QHBLBAK067lAh8U6WigEukCO6J9sEV+7QA==\",\"dtype\":\"float64\",\"order\":\"little\",\"shape\":[29]},\"upper_limits\":{\"__ndarray__\":\"KTXFPTVMv0AnToIuSunAQNjxD/iLnsFAWDyfTiuPwUCvCz1s/AvBQOKpk2getcBAhm0lvaoDwUD0Kcwy3+/BQOf49o/f98JAbObGxCSCw0DBvuKbjlHDQKGJjFK9s8JARUaaqNZGwkB3J8i/m4LCQCFTgxJlXsNAbyVCRs9XxEAvK3YOD9XEQLJRxT/emMRAo9jvAbXww0Ao+oQ6gXrDQITvDH3ErcNA81VlZKOBxECPf/4hoXPFQNWBi17y6cVAWuqVSFqnxUDm6MdwUPnEQOQriTuvfcRAzGLNmdirxEDphe7C1XrFQA==\",\"dtype\":\"float64\",\"order\":\"little\",\"shape\":[29]}},\"selected\":{\"id\":\"2680\"},\"selection_policy\":{\"id\":\"2679\"}},\"id\":\"2448\",\"type\":\"ColumnDataSource\"},{\"attributes\":{\"line_alpha\":0.1,\"line_color\":\"#EC1557\",\"x\":{\"field\":\"Date\"},\"y\":{\"field\":\"predits\"}},\"id\":\"2515\",\"type\":\"Line\"},{\"attributes\":{},\"id\":\"2490\",\"type\":\"AllLabels\"},{\"attributes\":{\"axis_label\":\"Date\",\"formatter\":{\"id\":\"2491\"},\"major_label_orientation\":0.7853981633974483,\"major_label_policy\":{\"id\":\"2490\"},\"ticker\":{\"id\":\"2464\"}},\"id\":\"2463\",\"type\":\"DatetimeAxis\"},{\"attributes\":{\"source\":{\"id\":\"2445\"}},\"id\":\"2517\",\"type\":\"CDSView\"},{\"attributes\":{},\"id\":\"2455\",\"type\":\"DataRange1d\"},{\"attributes\":{\"line_color\":\"#EC1557\",\"x\":{\"field\":\"Date\"},\"y\":{\"field\":\"predits\"}},\"id\":\"2514\",\"type\":\"Line\"},{\"attributes\":{\"line_alpha\":0.1,\"line_color\":\"#F6A91B\",\"x\":{\"field\":\"Date\"},\"y\":{\"field\":\"predits\"}},\"id\":\"2577\",\"type\":\"Line\"},{\"attributes\":{\"data_source\":{\"id\":\"2450\"},\"glyph\":{\"id\":\"2724\"},\"hover_glyph\":null,\"muted_glyph\":null,\"nonselection_glyph\":{\"id\":\"2725\"},\"view\":{\"id\":\"2727\"}},\"id\":\"2726\",\"type\":\"GlyphRenderer\"},{\"attributes\":{\"data_source\":{\"id\":\"2451\"},\"glyph\":{\"id\":\"2610\"},\"hover_glyph\":null,\"muted_glyph\":null,\"nonselection_glyph\":{\"id\":\"2611\"},\"view\":{\"id\":\"2613\"}},\"id\":\"2612\",\"type\":\"GlyphRenderer\"},{\"attributes\":{\"data_source\":{\"id\":\"2447\"},\"glyph\":{\"id\":\"2576\"},\"hover_glyph\":null,\"muted_glyph\":null,\"nonselection_glyph\":{\"id\":\"2577\"},\"view\":{\"id\":\"2579\"}},\"id\":\"2578\",\"type\":\"GlyphRenderer\"},{\"attributes\":{\"source\":{\"id\":\"2447\"}},\"id\":\"2579\",\"type\":\"CDSView\"},{\"attributes\":{\"line_color\":\"navy\",\"x\":{\"field\":\"Date\"},\"y\":{\"field\":\"Reel\"}},\"id\":\"2485\",\"type\":\"Line\"},{\"attributes\":{\"line_alpha\":0.1,\"line_color\":\"#A5CD39\",\"x\":{\"field\":\"Date\"},\"y\":{\"field\":\"predits\"}},\"id\":\"2647\",\"type\":\"Line\"},{\"attributes\":{\"desired_num_ticks\":40,\"num_minor_ticks\":5,\"tickers\":[{\"id\":\"2496\"},{\"id\":\"2497\"},{\"id\":\"2498\"},{\"id\":\"2499\"},{\"id\":\"2500\"},{\"id\":\"2501\"},{\"id\":\"2502\"},{\"id\":\"2503\"},{\"id\":\"2504\"},{\"id\":\"2505\"},{\"id\":\"2506\"},{\"id\":\"2507\"}]},\"id\":\"2464\",\"type\":\"DatetimeTicker\"},{\"attributes\":{\"line_color\":\"#F6A91B\",\"x\":{\"field\":\"Date\"},\"y\":{\"field\":\"predits\"}},\"id\":\"2576\",\"type\":\"Line\"},{\"attributes\":{\"label\":{\"value\":\"Ridge\"},\"renderers\":[{\"id\":\"2516\"}]},\"id\":\"2542\",\"type\":\"LegendItem\"},{\"attributes\":{\"data\":{\"Date\":{\"__ndarray__\":\"AAAADmRYd0IAAMBztlh3QgAAgNkIWXdCAABAP1tZd0IAAAClrVl3QgAAwAoAWndCAACAcFJad0IAAEDWpFp3QgAAADz3WndCAADAoUlbd0IAAIAHnFt3QgAAQG3uW3dCAAAA00Bcd0IAAMA4k1x3QgAAgJ7lXHdCAABABDhdd0IAAABqil13QgAAwM/cXXdCAACANS9ed0IAAECbgV53QgAAAAHUXndCAADAZiZfd0IAAIDMeF93QgAAQDLLX3dCAAAAmB1gd0IAAMD9b2B3QgAAgGPCYHdCAABAyRRhd0IAAAAvZ2F3Qg==\",\"dtype\":\"float64\",\"order\":\"little\",\"shape\":[29]},\"Reel\":{\"__ndarray__\":\"AAAAAACdu0AAAAAAACO/QAAAAACA6cBAAAAAAADnwEAAAAAAgMrAQAAAAAAAyL1AAAAAAAA5u0AAAAAAAI29QAAAAAAArL1AAAAAAAA7vEAAAAAAABq+QAAAAAAADL5AAAAAAADxukAAAAAAAG66QAAAAAAAdL9AAAAAAIAdwEAAAAAAAL+/QAAAAAAAj79AAAAAAAD7wEAAAAAAADfAQAAAAAAA5b9AAAAAAIARwUAAAAAAgL3BQAAAAAAA88FAAAAAAIALwkAAAAAAAK7BQAAAAAAA1cBAAAAAAADWwUAAAAAAAFfEQA==\",\"dtype\":\"float64\",\"order\":\"little\",\"shape\":[29]},\"T\":{\"__ndarray__\":\"amZmZmaGMEAMAAAAAMAhQLiZmZmZWRpAIAAAAAAAHkDAmZmZmVkfQHhmZmZmpiVAQTMzMzNTKkCgmZmZmTkqQHRmZmZmhilApJmZmZk5JUBEMzMzM3MmQG9mZmZmBihAb2ZmZmbGKkBBMzMzM3MqQHRmZmZm5iVAPDMzMzPTJUA8MzMzMzMlQNjMzMzMTCNACAAAAACAGkBIMzMzM/MYQLiZmZmZmRlAODMzMzOzIUAYAAAAAMAZQCAAAAAAgBxAgGZmZmamF0CwmZmZmRkfQIBmZmZmphhAkGZmZmZmDUBAAAAAAAAFQA==\",\"dtype\":\"float64\",\"order\":\"little\",\"shape\":[29]},\"predits\":{\"__ndarray__\":\"AAAAAADuvUAAAAAAAFfBQAAAAAAAEMJAAAAAAAC9wUAAAAAAgHXBQAAAAAAAbb5AAAAAAAD0u0AAAAAAANe/QAAAAACAQMBAAAAAAIDvwEAAAAAAALLAQAAAAAAASsBAAAAAAAD+vEAAAAAAAOu7QAAAAACAhsBAAAAAAADFwEAAAAAAgPDAQAAAAAAAI8FAAAAAAADMwUAAAAAAAH/AQAAAAAAAvb9AAAAAAAAdwUAAAAAAAAbCQAAAAACA6cFAAAAAAIAuwkAAAAAAAHrBQAAAAACAhMBAAAAAAIChwEAAAAAAANvCQA==\",\"dtype\":\"float64\",\"order\":\"little\",\"shape\":[29]}},\"selected\":{\"id\":\"2572\"},\"selection_policy\":{\"id\":\"2571\"}},\"id\":\"2446\",\"type\":\"ColumnDataSource\"},{\"attributes\":{\"data\":{\"Date\":{\"__ndarray__\":\"AAAADmRYd0IAAMBztlh3QgAAgNkIWXdCAABAP1tZd0IAAAClrVl3QgAAwAoAWndCAACAcFJad0IAAEDWpFp3QgAAADz3WndCAADAoUlbd0IAAIAHnFt3QgAAQG3uW3dCAAAA00Bcd0IAAMA4k1x3QgAAgJ7lXHdCAABABDhdd0IAAABqil13QgAAwM/cXXdCAACANS9ed0IAAECbgV53QgAAAAHUXndCAADAZiZfd0IAAIDMeF93QgAAQDLLX3dCAAAAmB1gd0IAAMD9b2B3QgAAgGPCYHdCAABAyRRhd0IAAAAvZ2F3Qg==\",\"dtype\":\"float64\",\"order\":\"little\",\"shape\":[29]},\"Reel\":{\"__ndarray__\":\"AAAAAACdu0AAAAAAACO/QAAAAACA6cBAAAAAAADnwEAAAAAAgMrAQAAAAAAAyL1AAAAAAAA5u0AAAAAAAI29QAAAAAAArL1AAAAAAAA7vEAAAAAAABq+QAAAAAAADL5AAAAAAADxukAAAAAAAG66QAAAAAAAdL9AAAAAAIAdwEAAAAAAAL+/QAAAAAAAj79AAAAAAAD7wEAAAAAAADfAQAAAAAAA5b9AAAAAAIARwUAAAAAAgL3BQAAAAAAA88FAAAAAAIALwkAAAAAAAK7BQAAAAAAA1cBAAAAAAADWwUAAAAAAAFfEQA==\",\"dtype\":\"float64\",\"order\":\"little\",\"shape\":[29]},\"T\":{\"__ndarray__\":\"amZmZmaGMEAMAAAAAMAhQLiZmZmZWRpAIAAAAAAAHkDAmZmZmVkfQHhmZmZmpiVAQTMzMzNTKkCgmZmZmTkqQHRmZmZmhilApJmZmZk5JUBEMzMzM3MmQG9mZmZmBihAb2ZmZmbGKkBBMzMzM3MqQHRmZmZm5iVAPDMzMzPTJUA8MzMzMzMlQNjMzMzMTCNACAAAAACAGkBIMzMzM/MYQLiZmZmZmRlAODMzMzOzIUAYAAAAAMAZQCAAAAAAgBxAgGZmZmamF0CwmZmZmRkfQIBmZmZmphhAkGZmZmZmDUBAAAAAAAAFQA==\",\"dtype\":\"float64\",\"order\":\"little\",\"shape\":[29]},\"predits\":{\"__ndarray__\":\"AAAAAACevEAAAAAAAFDBQAAAAAAAOMJAAAAAAADXwUAAAAAAgILBQAAAAAAAC75AAAAAAAA3u0AAAAAAAA6/QAAAAAAA2b9AAAAAAIDIwEAAAAAAAIPAQAAAAAAABcBAAAAAAAA2vEAAAAAAACu7QAAAAACATMBAAAAAAACWwEAAAAAAgMnAQAAAAAAAE8FAAAAAAIDxwUAAAAAAgKjAQAAAAACABcBAAAAAAIAMwUAAAAAAgC7CQAAAAAAAB8JAAAAAAIBowkAAAAAAgIjBQAAAAACAr8BAAAAAAID+wEAAAAAAgEXDQA==\",\"dtype\":\"float64\",\"order\":\"little\",\"shape\":[29]}},\"selected\":{\"id\":\"2642\"},\"selection_policy\":{\"id\":\"2641\"}},\"id\":\"2451\",\"type\":\"ColumnDataSource\"},{\"attributes\":{\"label\":{\"value\":\"Valeurs r\\u00e9ellees\"},\"renderers\":[{\"id\":\"2487\"}]},\"id\":\"2512\",\"type\":\"LegendItem\"},{\"attributes\":{\"label\":{\"value\":\"Elastic\"},\"renderers\":[{\"id\":\"2578\"}]},\"id\":\"2608\",\"type\":\"LegendItem\"}],\"root_ids\":[\"2452\"]},\"title\":\"Bokeh Application\",\"version\":\"2.3.2\"}};\n  var render_items = [{\"docid\":\"5089088d-e522-49d9-9fb0-219c8f01a6d3\",\"root_ids\":[\"2452\"],\"roots\":{\"2452\":\"9ff80ad2-fde7-41d0-a389-1e830c74b324\"}}];\n  root.Bokeh.embed.embed_items_notebook(docs_json, render_items);\n\n  }\n  if (root.Bokeh !== undefined) {\n    embed_document(root);\n  } else {\n    var attempts = 0;\n    var timer = setInterval(function(root) {\n      if (root.Bokeh !== undefined) {\n        clearInterval(timer);\n        embed_document(root);\n      } else {\n        attempts++;\n        if (attempts > 100) {\n          clearInterval(timer);\n          console.log(\"Bokeh: ERROR: Unable to run BokehJS code because BokehJS library is missing\");\n        }\n      }\n    }, 10, root)\n  }\n})(window);",
      "application/vnd.bokehjs_exec.v0+json": ""
     },
     "metadata": {
      "application/vnd.bokehjs_exec.v0+json": {
       "id": "2452"
      }
     },
     "output_type": "display_data"
    }
   ],
   "source": [
    "#Source\n",
    "source1 = ColumnDataSource(ridge_model_1)\n",
    "source2 = ColumnDataSource(lasso_model_1)\n",
    "source3 = ColumnDataSource(EN_model)\n",
    "source4 = ColumnDataSource(model_arima_df)\n",
    "source5 = ColumnDataSource(model_sarima_df)\n",
    "source6 = ColumnDataSource(model_sarimax_df)\n",
    "source7 = ColumnDataSource(sgd_model)\n",
    "\n",
    "\n",
    "# List de tools\n",
    "TOOLS=\"crosshair,pan,wheel_zoom,box_zoom,reset\"\n",
    "\n",
    "\n",
    "y_overlimit = 0.05 \n",
    "p = figure(plot_width = 900, plot_height = 550,     \n",
    "           title = \"Comparaison modèles\",                    \n",
    "           x_axis_label = 'Date', x_axis_type=\"datetime\",\n",
    "           y_axis_label = 'Consommation Moyenne',\n",
    "           toolbar_location=\"below\",\n",
    "           tools=TOOLS)  \n",
    "\n",
    "\n",
    "p.title.text_color = \"darkblue\"\n",
    "p.title.text_font = \"times\"\n",
    "p.title.text_font_size = \"20px\"\n",
    "p.title.align = 'center'\n",
    "\n",
    "\n",
    "p.xaxis.major_label_orientation = pi/4\n",
    "p.xgrid.grid_line_color = None\n",
    "p.ygrid.grid_line_color = None\n",
    "p.xaxis.ticker.desired_num_ticks = 40\n",
    "\n",
    "#p.varea(x = 'Date', y1 = 'lower_limits', y2='upper_limits', color='pink', alpha=0.5, source = source6)\n",
    "\n",
    "p.line(x='Date', y = 'Reel', color = \"navy\", legend_label = \"Valeurs réellees\", source = source6)   \n",
    "#p.circle(x='Date', y ='Reel', color = \"navy\",fill_color='white', size=8, source = source6)\n",
    "\n",
    "\n",
    "#Ridge\n",
    "p.line(x='Date', y ='predits', color = \"#EC1557\", legend_label = \"Ridge\", source = source1) \n",
    "#p.circle(x='Date', y='predits', color = \"#EC1557\", fill_color='white',size=8, source = source1)\n",
    "\n",
    "#Lasso \n",
    "p.line(x='Date', y ='predits', color = \"#892889\",legend_label = \"Lasso\", source = source2) \n",
    "#p.circle(x='Date', y='predits', color = \"#892889\", fill_color='white',size=8, source = source2)\n",
    "\n",
    "#Elastic Net\n",
    "p.line(x='Date', y ='predits', color = \"#F6A91B\",legend_label = \"Elastic\", source = source3) \n",
    "#p.circle(x='Date', y='predits',  color = \"#F6A91B\", fill_color='white',size=8, source = source3)\n",
    "\n",
    "#SGD\n",
    "p.line(x='Date', y ='predits', color = \"#892889\",legend_label = \"SGD\", source = source7) \n",
    "#p.circle(x='Date', y='predits',  color = \"#892889\", fill_color='white',size=8, source = source7)\n",
    "\n",
    "#Arima\n",
    "p.line(x='Date', y ='predits', color = \"#A5CD39\", legend_label = \"ARIMA\", source = source4) \n",
    "#p.circle(x='Date', y='predits', color = \"#A5CD39\", fill_color='white',size=8, source = source4)\n",
    "\n",
    "#Sarima\n",
    "p.line(x='Date', y ='predits', color = \"#20B254\", legend_label = \"SARIMA\", source = source5) \n",
    "#p.circle(x='Date', y='predits', color = \"#20B254\", fill_color='white',size=8, source = source5)\n",
    "\n",
    "#Sarimax\n",
    "p.line(x='Date', y ='predits', color = \"#00AAAE\", legend_label = \"SARIMAX\", source = source6) \n",
    "#p.circle(x='Date', y='predits', color = \"#00AAAE\",fill_color='white',size=8, source = source6)\n",
    "\n",
    "\n",
    "\n",
    "# Activation de l'interaction avec la légende\n",
    "p.legend.location = \"top_left\"\n",
    "p.legend.click_policy = 'hide'\n",
    "\n",
    "# Style hover\n",
    "p.add_tools(HoverTool(\n",
    "    tooltips=[('Date', '@Date{%Y-%m-%d}'),\n",
    "        ('Prédiction', '@predits{0.00}'),\n",
    "        ('Valeur réelle', '@Reel{0.00}')],\n",
    "    formatters={'@Date': 'datetime'}\n",
    "))\n",
    "\n",
    "show(p);"
   ]
  },
  {
   "cell_type": "markdown",
   "metadata": {},
   "source": [
    "### Comparaison modèles, avec variable méteo"
   ]
  },
  {
   "cell_type": "code",
   "execution_count": 108,
   "metadata": {},
   "outputs": [
    {
     "data": {
      "text/html": [
       "\n",
       "\n",
       "\n",
       "\n",
       "\n",
       "\n",
       "  <div class=\"bk-root\" id=\"94292bcd-67fe-43e6-819e-dbd779ce4b4e\" data-root-id=\"6876\"></div>\n"
      ]
     },
     "metadata": {},
     "output_type": "display_data"
    },
    {
     "data": {
      "application/javascript": "(function(root) {\n  function embed_document(root) {\n    \n  var docs_json = {\"01b02f13-13e9-4c57-93ff-fcf0b004121c\":{\"defs\":[],\"roots\":{\"references\":[{\"attributes\":{\"below\":[{\"id\":\"6887\"}],\"center\":[{\"id\":\"6890\"},{\"id\":\"6894\"},{\"id\":\"6935\"}],\"extra_y_ranges\":{\"T_range\":{\"id\":\"7070\"}},\"height\":550,\"left\":[{\"id\":\"6891\"}],\"renderers\":[{\"id\":\"6911\"},{\"id\":\"6940\"},{\"id\":\"6970\"},{\"id\":\"7002\"},{\"id\":\"7036\"},{\"id\":\"7075\"}],\"right\":[{\"id\":\"7071\"}],\"title\":{\"id\":\"6877\"},\"toolbar\":{\"id\":\"6901\"},\"toolbar_location\":\"below\",\"width\":900,\"x_range\":{\"id\":\"6879\"},\"x_scale\":{\"id\":\"6883\"},\"y_range\":{\"id\":\"7069\"},\"y_scale\":{\"id\":\"6885\"}},\"id\":\"6876\",\"subtype\":\"Figure\",\"type\":\"Plot\"},{\"attributes\":{\"line_alpha\":0.1,\"line_color\":\"#EC1557\",\"x\":{\"field\":\"Date\"},\"y\":{\"field\":\"predits\"}},\"id\":\"6939\",\"type\":\"Line\"},{\"attributes\":{\"source\":{\"id\":\"6869\"}},\"id\":\"6941\",\"type\":\"CDSView\"},{\"attributes\":{\"label\":{\"value\":\"Ridge\"},\"renderers\":[{\"id\":\"6940\"}]},\"id\":\"6966\",\"type\":\"LegendItem\"},{\"attributes\":{},\"id\":\"6963\",\"type\":\"UnionRenderers\"},{\"attributes\":{},\"id\":\"6964\",\"type\":\"Selection\"},{\"attributes\":{\"data_source\":{\"id\":\"6871\"},\"glyph\":{\"id\":\"7000\"},\"hover_glyph\":null,\"muted_glyph\":null,\"nonselection_glyph\":{\"id\":\"7001\"},\"view\":{\"id\":\"7003\"}},\"id\":\"7002\",\"type\":\"GlyphRenderer\"},{\"attributes\":{\"source\":{\"id\":\"6870\"}},\"id\":\"6971\",\"type\":\"CDSView\"},{\"attributes\":{\"line_alpha\":0.1,\"line_color\":\"#892889\",\"x\":{\"field\":\"Date\"},\"y\":{\"field\":\"predits\"}},\"id\":\"6969\",\"type\":\"Line\"},{\"attributes\":{\"line_color\":\"#892889\",\"x\":{\"field\":\"Date\"},\"y\":{\"field\":\"predits\"}},\"id\":\"6968\",\"type\":\"Line\"},{\"attributes\":{\"data\":{\"Date\":{\"__ndarray__\":\"AAAADmRYd0IAAMBztlh3QgAAgNkIWXdCAABAP1tZd0IAAAClrVl3QgAAwAoAWndCAACAcFJad0IAAEDWpFp3QgAAADz3WndCAADAoUlbd0IAAIAHnFt3QgAAQG3uW3dCAAAA00Bcd0IAAMA4k1x3QgAAgJ7lXHdCAABABDhdd0IAAABqil13QgAAwM/cXXdCAACANS9ed0IAAECbgV53QgAAAAHUXndCAADAZiZfd0IAAIDMeF93QgAAQDLLX3dCAAAAmB1gd0IAAMD9b2B3QgAAgGPCYHdCAABAyRRhd0IAAAAvZ2F3Qg==\",\"dtype\":\"float64\",\"order\":\"little\",\"shape\":[29]},\"Reel\":{\"__ndarray__\":\"AAAAAACdu0AAAAAAACO/QAAAAACA6cBAAAAAAADnwEAAAAAAgMrAQAAAAAAAyL1AAAAAAAA5u0AAAAAAAI29QAAAAAAArL1AAAAAAAA7vEAAAAAAABq+QAAAAAAADL5AAAAAAADxukAAAAAAAG66QAAAAAAAdL9AAAAAAIAdwEAAAAAAAL+/QAAAAAAAj79AAAAAAAD7wEAAAAAAADfAQAAAAAAA5b9AAAAAAIARwUAAAAAAgL3BQAAAAAAA88FAAAAAAIALwkAAAAAAAK7BQAAAAAAA1cBAAAAAAADWwUAAAAAAAFfEQA==\",\"dtype\":\"float64\",\"order\":\"little\",\"shape\":[29]},\"T\":{\"__ndarray__\":\"amZmZmaGMEAMAAAAAMAhQLiZmZmZWRpAIAAAAAAAHkDAmZmZmVkfQHhmZmZmpiVAQTMzMzNTKkCgmZmZmTkqQHRmZmZmhilApJmZmZk5JUBEMzMzM3MmQG9mZmZmBihAb2ZmZmbGKkBBMzMzM3MqQHRmZmZm5iVAPDMzMzPTJUA8MzMzMzMlQNjMzMzMTCNACAAAAACAGkBIMzMzM/MYQLiZmZmZmRlAODMzMzOzIUAYAAAAAMAZQCAAAAAAgBxAgGZmZmamF0CwmZmZmRkfQIBmZmZmphhAkGZmZmZmDUBAAAAAAAAFQA==\",\"dtype\":\"float64\",\"order\":\"little\",\"shape\":[29]},\"predits\":{\"__ndarray__\":\"AAAAAAASvkAAAAAAAGDBQAAAAAAAEsJAAAAAAADBwUAAAAAAgHTBQAAAAAAAcb5AAAAAAAAFvEAAAAAAAOi/QAAAAAAAVMBAAAAAAID8wEAAAAAAgMDAQAAAAAAAVcBAAAAAAAAQvUAAAAAAAPy7QAAAAACAiMBAAAAAAIDTwEAAAAAAgP3AQAAAAAAALcFAAAAAAADIwUAAAAAAgHTAQAAAAAAAqL9AAAAAAIAZwUAAAAAAAAjCQAAAAAAA7cFAAAAAAIAuwkAAAAAAgHjBQAAAAACAecBAAAAAAICPwEAAAAAAAMbCQA==\",\"dtype\":\"float64\",\"order\":\"little\",\"shape\":[29]}},\"selected\":{\"id\":\"6964\"},\"selection_policy\":{\"id\":\"6963\"}},\"id\":\"6869\",\"type\":\"ColumnDataSource\"},{\"attributes\":{},\"id\":\"6883\",\"type\":\"LinearScale\"},{\"attributes\":{\"data\":{\"Date\":{\"__ndarray__\":\"AAAADmRYd0IAAMBztlh3QgAAgNkIWXdCAABAP1tZd0IAAAClrVl3QgAAwAoAWndCAACAcFJad0IAAEDWpFp3QgAAADz3WndCAADAoUlbd0IAAIAHnFt3QgAAQG3uW3dCAAAA00Bcd0IAAMA4k1x3QgAAgJ7lXHdCAABABDhdd0IAAABqil13QgAAwM/cXXdCAACANS9ed0IAAECbgV53QgAAAAHUXndCAADAZiZfd0IAAIDMeF93QgAAQDLLX3dCAAAAmB1gd0IAAMD9b2B3QgAAgGPCYHdCAABAyRRhd0IAAAAvZ2F3Qg==\",\"dtype\":\"float64\",\"order\":\"little\",\"shape\":[29]},\"Reel\":{\"__ndarray__\":\"AAAAAACdu0AAAAAAACO/QAAAAACA6cBAAAAAAADnwEAAAAAAgMrAQAAAAAAAyL1AAAAAAAA5u0AAAAAAAI29QAAAAAAArL1AAAAAAAA7vEAAAAAAABq+QAAAAAAADL5AAAAAAADxukAAAAAAAG66QAAAAAAAdL9AAAAAAIAdwEAAAAAAAL+/QAAAAAAAj79AAAAAAAD7wEAAAAAAADfAQAAAAAAA5b9AAAAAAIARwUAAAAAAgL3BQAAAAAAA88FAAAAAAIALwkAAAAAAAK7BQAAAAAAA1cBAAAAAAADWwUAAAAAAAFfEQA==\",\"dtype\":\"float64\",\"order\":\"little\",\"shape\":[29]},\"T\":{\"__ndarray__\":\"amZmZmaGMEAMAAAAAMAhQLiZmZmZWRpAIAAAAAAAHkDAmZmZmVkfQHhmZmZmpiVAQTMzMzNTKkCgmZmZmTkqQHRmZmZmhilApJmZmZk5JUBEMzMzM3MmQG9mZmZmBihAb2ZmZmbGKkBBMzMzM3MqQHRmZmZm5iVAPDMzMzPTJUA8MzMzMzMlQNjMzMzMTCNACAAAAACAGkBIMzMzM/MYQLiZmZmZmRlAODMzMzOzIUAYAAAAAMAZQCAAAAAAgBxAgGZmZmamF0CwmZmZmRkfQIBmZmZmphhAkGZmZmZmDUBAAAAAAAAFQA==\",\"dtype\":\"float64\",\"order\":\"little\",\"shape\":[29]},\"predits\":{\"__ndarray__\":\"AAAAAADuvUAAAAAAAFfBQAAAAAAAEMJAAAAAAAC9wUAAAAAAgHXBQAAAAAAAbb5AAAAAAAD0u0AAAAAAANe/QAAAAACAQMBAAAAAAIDvwEAAAAAAALLAQAAAAAAASsBAAAAAAAD+vEAAAAAAAOu7QAAAAACAhsBAAAAAAADFwEAAAAAAgPDAQAAAAAAAI8FAAAAAAADMwUAAAAAAAH/AQAAAAAAAvb9AAAAAAAAdwUAAAAAAAAbCQAAAAACA6cFAAAAAAIAuwkAAAAAAAHrBQAAAAACAhMBAAAAAAIChwEAAAAAAANvCQA==\",\"dtype\":\"float64\",\"order\":\"little\",\"shape\":[29]}},\"selected\":{\"id\":\"6996\"},\"selection_policy\":{\"id\":\"6995\"}},\"id\":\"6870\",\"type\":\"ColumnDataSource\"},{\"attributes\":{\"label\":{\"value\":\"Lasso\"},\"renderers\":[{\"id\":\"6970\"}]},\"id\":\"6998\",\"type\":\"LegendItem\"},{\"attributes\":{\"axis\":{\"id\":\"6891\"},\"dimension\":1,\"grid_line_color\":null,\"ticker\":null},\"id\":\"6894\",\"type\":\"Grid\"},{\"attributes\":{\"data\":{\"Date\":{\"__ndarray__\":\"AAAADmRYd0IAAMBztlh3QgAAgNkIWXdCAABAP1tZd0IAAAClrVl3QgAAwAoAWndCAACAcFJad0IAAEDWpFp3QgAAADz3WndCAADAoUlbd0IAAIAHnFt3QgAAQG3uW3dCAAAA00Bcd0IAAMA4k1x3QgAAgJ7lXHdCAABABDhdd0IAAABqil13QgAAwM/cXXdCAACANS9ed0IAAECbgV53QgAAAAHUXndCAADAZiZfd0IAAIDMeF93QgAAQDLLX3dCAAAAmB1gd0IAAMD9b2B3QgAAgGPCYHdCAABAyRRhd0IAAAAvZ2F3Qg==\",\"dtype\":\"float64\",\"order\":\"little\",\"shape\":[29]},\"Reel\":{\"__ndarray__\":\"AAAAAACdu0AAAAAAACO/QAAAAACA6cBAAAAAAADnwEAAAAAAgMrAQAAAAAAAyL1AAAAAAAA5u0AAAAAAAI29QAAAAAAArL1AAAAAAAA7vEAAAAAAABq+QAAAAAAADL5AAAAAAADxukAAAAAAAG66QAAAAAAAdL9AAAAAAIAdwEAAAAAAAL+/QAAAAAAAj79AAAAAAAD7wEAAAAAAADfAQAAAAAAA5b9AAAAAAIARwUAAAAAAgL3BQAAAAAAA88FAAAAAAIALwkAAAAAAAK7BQAAAAAAA1cBAAAAAAADWwUAAAAAAAFfEQA==\",\"dtype\":\"float64\",\"order\":\"little\",\"shape\":[29]},\"T\":{\"__ndarray__\":\"amZmZmaGMEAMAAAAAMAhQLiZmZmZWRpAIAAAAAAAHkDAmZmZmVkfQHhmZmZmpiVAQTMzMzNTKkCgmZmZmTkqQHRmZmZmhilApJmZmZk5JUBEMzMzM3MmQG9mZmZmBihAb2ZmZmbGKkBBMzMzM3MqQHRmZmZm5iVAPDMzMzPTJUA8MzMzMzMlQNjMzMzMTCNACAAAAACAGkBIMzMzM/MYQLiZmZmZmRlAODMzMzOzIUAYAAAAAMAZQCAAAAAAgBxAgGZmZmamF0CwmZmZmRkfQIBmZmZmphhAkGZmZmZmDUBAAAAAAAAFQA==\",\"dtype\":\"float64\",\"order\":\"little\",\"shape\":[29]},\"predits\":{\"__ndarray__\":\"AAAAAACevEAAAAAAAFDBQAAAAAAAOMJAAAAAAADXwUAAAAAAgILBQAAAAAAAC75AAAAAAAA3u0AAAAAAAA6/QAAAAAAA2b9AAAAAAIDIwEAAAAAAAIPAQAAAAAAABcBAAAAAAAA2vEAAAAAAACu7QAAAAACATMBAAAAAAACWwEAAAAAAgMnAQAAAAAAAE8FAAAAAAIDxwUAAAAAAgKjAQAAAAACABcBAAAAAAIAMwUAAAAAAgC7CQAAAAAAAB8JAAAAAAIBowkAAAAAAgIjBQAAAAACAr8BAAAAAAID+wEAAAAAAgEXDQA==\",\"dtype\":\"float64\",\"order\":\"little\",\"shape\":[29]}},\"selected\":{\"id\":\"7066\"},\"selection_policy\":{\"id\":\"7065\"}},\"id\":\"6872\",\"type\":\"ColumnDataSource\"},{\"attributes\":{\"desired_num_ticks\":29,\"num_minor_ticks\":5,\"tickers\":[{\"id\":\"6920\"},{\"id\":\"6921\"},{\"id\":\"6922\"},{\"id\":\"6923\"},{\"id\":\"6924\"},{\"id\":\"6925\"},{\"id\":\"6926\"},{\"id\":\"6927\"},{\"id\":\"6928\"},{\"id\":\"6929\"},{\"id\":\"6930\"},{\"id\":\"6931\"}]},\"id\":\"6888\",\"type\":\"DatetimeTicker\"},{\"attributes\":{\"axis_label\":\"Consommation Moyenne\",\"formatter\":{\"id\":\"6918\"},\"major_label_policy\":{\"id\":\"6917\"},\"ticker\":{\"id\":\"6892\"}},\"id\":\"6891\",\"type\":\"LinearAxis\"},{\"attributes\":{\"axis\":{\"id\":\"6887\"},\"grid_line_color\":null,\"ticker\":null},\"id\":\"6890\",\"type\":\"Grid\"},{\"attributes\":{},\"id\":\"6995\",\"type\":\"UnionRenderers\"},{\"attributes\":{},\"id\":\"6996\",\"type\":\"Selection\"},{\"attributes\":{},\"id\":\"6879\",\"type\":\"DataRange1d\"},{\"attributes\":{},\"id\":\"6933\",\"type\":\"Selection\"},{\"attributes\":{},\"id\":\"6899\",\"type\":\"ResetTool\"},{\"attributes\":{},\"id\":\"6896\",\"type\":\"PanTool\"},{\"attributes\":{},\"id\":\"6895\",\"type\":\"CrosshairTool\"},{\"attributes\":{},\"id\":\"6892\",\"type\":\"BasicTicker\"},{\"attributes\":{\"data_source\":{\"id\":\"6869\"},\"glyph\":{\"id\":\"6938\"},\"hover_glyph\":null,\"muted_glyph\":null,\"nonselection_glyph\":{\"id\":\"6939\"},\"view\":{\"id\":\"6941\"}},\"id\":\"6940\",\"type\":\"GlyphRenderer\"},{\"attributes\":{\"data_source\":{\"id\":\"6872\"},\"glyph\":{\"id\":\"7034\"},\"hover_glyph\":null,\"muted_glyph\":null,\"nonselection_glyph\":{\"id\":\"7035\"},\"view\":{\"id\":\"7037\"}},\"id\":\"7036\",\"type\":\"GlyphRenderer\"},{\"attributes\":{\"line_color\":\"navy\",\"x\":{\"field\":\"Date\"},\"y\":{\"field\":\"Reel\"}},\"id\":\"6909\",\"type\":\"Line\"},{\"attributes\":{\"source\":{\"id\":\"6871\"}},\"id\":\"7003\",\"type\":\"CDSView\"},{\"attributes\":{\"overlay\":{\"id\":\"6900\"}},\"id\":\"6898\",\"type\":\"BoxZoomTool\"},{\"attributes\":{\"line_alpha\":0.1,\"line_color\":\"#F6A91B\",\"x\":{\"field\":\"Date\"},\"y\":{\"field\":\"predits\"}},\"id\":\"7001\",\"type\":\"Line\"},{\"attributes\":{},\"id\":\"6897\",\"type\":\"WheelZoomTool\"},{\"attributes\":{},\"id\":\"6885\",\"type\":\"LinearScale\"},{\"attributes\":{\"line_color\":\"#F6A91B\",\"x\":{\"field\":\"Date\"},\"y\":{\"field\":\"predits\"}},\"id\":\"7000\",\"type\":\"Line\"},{\"attributes\":{\"axis_label\":\"Date\",\"formatter\":{\"id\":\"6915\"},\"major_label_orientation\":0.7853981633974483,\"major_label_policy\":{\"id\":\"6914\"},\"ticker\":{\"id\":\"6888\"}},\"id\":\"6887\",\"type\":\"DatetimeAxis\"},{\"attributes\":{\"data\":{\"Date\":{\"__ndarray__\":\"AAAADmRYd0IAAMBztlh3QgAAgNkIWXdCAABAP1tZd0IAAAClrVl3QgAAwAoAWndCAACAcFJad0IAAEDWpFp3QgAAADz3WndCAADAoUlbd0IAAIAHnFt3QgAAQG3uW3dCAAAA00Bcd0IAAMA4k1x3QgAAgJ7lXHdCAABABDhdd0IAAABqil13QgAAwM/cXXdCAACANS9ed0IAAECbgV53QgAAAAHUXndCAADAZiZfd0IAAIDMeF93QgAAQDLLX3dCAAAAmB1gd0IAAMD9b2B3QgAAgGPCYHdCAABAyRRhd0IAAAAvZ2F3Qg==\",\"dtype\":\"float64\",\"order\":\"little\",\"shape\":[29]},\"Reel\":{\"__ndarray__\":\"q6qqqpqcu0AAAAAAQCO/QKuqqqqS6cBAq6qqqtLmwEAAAAAAkMrAQFVVVVX1x71AVVVVVRU5u0CrqqqqGo29QAAAAACQq71AAAAAAAA7vEBVVVVVhRm+QFVVVVU1DL5Aq6qqqrrwukBVVVVVVW66QKuqqqoKdL9AAAAAAFAdwEAAAAAAcL+/QFVVVVWFjr9Aq6qqqsL6wECrqqqq2jbAQFVVVVU15b9AVVVVVX0RwUAAAAAAeL3BQFVVVVXd8sFAAAAAAGgLwkAAAAAAMK7BQKuqqqra1MBAVVVVVd3VwUAAAAAAAFfEQA==\",\"dtype\":\"float64\",\"order\":\"little\",\"shape\":[29]},\"T\":{\"__ndarray__\":\"amZmZmaGMEAMAAAAAMAhQLiZmZmZWRpAIAAAAAAAHkDAmZmZmVkfQHhmZmZmpiVAQTMzMzNTKkCgmZmZmTkqQHRmZmZmhilApJmZmZk5JUBEMzMzM3MmQG9mZmZmBihAb2ZmZmbGKkBBMzMzM3MqQHRmZmZm5iVAPDMzMzPTJUA8MzMzMzMlQNjMzMzMTCNACAAAAACAGkBIMzMzM/MYQLiZmZmZmRlAODMzMzOzIUAYAAAAAMAZQCAAAAAAgBxAgGZmZmamF0CwmZmZmRkfQIBmZmZmphhAkGZmZmZmDUBAAAAAAAAFQA==\",\"dtype\":\"float64\",\"order\":\"little\",\"shape\":[29]},\"lower_limits\":{\"__ndarray__\":\"6ED5YfYYu0Adpxtvl768QB9ndUlbMLxAUDS9/Iy+ukCZ/whJrGO5QKedgmVQabVA9fcs26bKs0D+8q2Bzze3QPkUCLCVd7dAMEbZz8gNt0CGcN+23861QMrTjdfJTrRAcEW8nLzBsEDuCJgAhnCvQLgQGC3ui7NAzFbqiKC5s0AmqfrvEZ+yQNI48ijhi7FA6MCVmzHwsEAJu9ITOK+rQN50l6k/j6lAIDqiGjS9rkCWGRND0T+wQPZM/n0T4K1A0hQQjkgErEBYQU3xWeGnQJ6P7l9oIaJAwPBNzfb7oEDe5oFCM92nQA==\",\"dtype\":\"float64\",\"order\":\"little\",\"shape\":[29]},\"predits\":{\"__ndarray__\":\"Pc18hX+mvUD1JMF8DUrAQEXnMlUPdMBAoHEVJ7UKwEC6un4WmUO/QIHVi9mWyLtAiqtBsXmiukCPmdwDcda+QN8vWrwC1b9A+21uxjoLwEDljSGNeG+/QDGkbDscfb5AATyRBPd2u0DQYhamu+66QC1FPWhChb9AWTbL+oo5wEC5dtJGYAXAQNC9F7hsmr9ANu83pU+Zv0AsSVAinhW9QEqAeT6olbxAfUadF7kAwEAOqhnOVdvAQNH226D4lsBAUmhO6v17wEAYfDY1apa/QJzwZwjdYL1AC27nkc9zvUCxOMIVN+/AQA==\",\"dtype\":\"float64\",\"order\":\"little\",\"shape\":[29]},\"upper_limits\":{\"__ndarray__\":\"ySyAVAQawEBcdvRBzzTCQPsaqwXxz8JAGEnMzyO2wkDuOvrxwpHCQK6GyqbuE8FAkC+rQya9wEAQoAVDiTrDQGIlVuQ3GcRA3jjwJJGPxECi1bGxCIjEQEy6pU+3VcRASRkzthgWw0CUYPAlmhLDQNE8sVFLv8VATEEhsUWWxkDfmKeVN7vGQGehniN81MZAwg5t1zYhx0Bqmlsd0CnGQBKjE1TYMcZAcv6RKCVSyEBRx6n6wpbJQGRaOGLstclAcMsYsen2yUDCK+O4E57JQLRMbPCC2MhA2/GT3tE0yUCq9+NaIefLQA==\",\"dtype\":\"float64\",\"order\":\"little\",\"shape\":[29]}},\"selected\":{\"id\":\"6933\"},\"selection_policy\":{\"id\":\"6932\"}},\"id\":\"6875\",\"type\":\"ColumnDataSource\"},{\"attributes\":{\"data_source\":{\"id\":\"6875\"},\"glyph\":{\"id\":\"6909\"},\"hover_glyph\":null,\"muted_glyph\":null,\"nonselection_glyph\":{\"id\":\"6910\"},\"view\":{\"id\":\"6912\"}},\"id\":\"6911\",\"type\":\"GlyphRenderer\"},{\"attributes\":{\"label\":{\"value\":\"Elastic\"},\"renderers\":[{\"id\":\"7002\"}]},\"id\":\"7032\",\"type\":\"LegendItem\"},{\"attributes\":{\"align\":\"center\",\"text\":\"Comparaison Ridge, Lasso, Elastic-Net, SGDR\",\"text_color\":\"darkblue\",\"text_font\":\"times\",\"text_font_size\":\"20px\"},\"id\":\"6877\",\"type\":\"Title\"},{\"attributes\":{\"base\":24,\"mantissas\":[1,2,4,6,8,12],\"max_interval\":43200000.0,\"min_interval\":3600000.0,\"num_minor_ticks\":0},\"id\":\"6922\",\"type\":\"AdaptiveTicker\"},{\"attributes\":{},\"id\":\"7029\",\"type\":\"UnionRenderers\"},{\"attributes\":{},\"id\":\"7030\",\"type\":\"Selection\"},{\"attributes\":{\"mantissas\":[1,2,5],\"max_interval\":500.0,\"num_minor_ticks\":0},\"id\":\"6920\",\"type\":\"AdaptiveTicker\"},{\"attributes\":{\"base\":60,\"mantissas\":[1,2,5,10,15,20,30],\"max_interval\":1800000.0,\"min_interval\":1000.0,\"num_minor_ticks\":0},\"id\":\"6921\",\"type\":\"AdaptiveTicker\"},{\"attributes\":{\"days\":[1,2,3,4,5,6,7,8,9,10,11,12,13,14,15,16,17,18,19,20,21,22,23,24,25,26,27,28,29,30,31]},\"id\":\"6923\",\"type\":\"DaysTicker\"},{\"attributes\":{\"months\":[0,1,2,3,4,5,6,7,8,9,10,11]},\"id\":\"6927\",\"type\":\"MonthsTicker\"},{\"attributes\":{\"bottom_units\":\"screen\",\"fill_alpha\":0.5,\"fill_color\":\"lightgrey\",\"left_units\":\"screen\",\"level\":\"overlay\",\"line_alpha\":1.0,\"line_color\":\"black\",\"line_dash\":[4,4],\"line_width\":2,\"right_units\":\"screen\",\"syncable\":false,\"top_units\":\"screen\"},\"id\":\"6900\",\"type\":\"BoxAnnotation\"},{\"attributes\":{\"months\":[0,2,4,6,8,10]},\"id\":\"6928\",\"type\":\"MonthsTicker\"},{\"attributes\":{\"line_alpha\":0.1,\"line_color\":\"#892889\",\"x\":{\"field\":\"Date\"},\"y\":{\"field\":\"predits\"}},\"id\":\"7035\",\"type\":\"Line\"},{\"attributes\":{\"days\":[1,4,7,10,13,16,19,22,25,28]},\"id\":\"6924\",\"type\":\"DaysTicker\"},{\"attributes\":{\"days\":[1,15]},\"id\":\"6926\",\"type\":\"DaysTicker\"},{\"attributes\":{\"months\":[0,6]},\"id\":\"6930\",\"type\":\"MonthsTicker\"},{\"attributes\":{\"days\":[1,8,15,22]},\"id\":\"6925\",\"type\":\"DaysTicker\"},{\"attributes\":{\"source\":{\"id\":\"6872\"}},\"id\":\"7037\",\"type\":\"CDSView\"},{\"attributes\":{},\"id\":\"6931\",\"type\":\"YearsTicker\"},{\"attributes\":{},\"id\":\"7065\",\"type\":\"UnionRenderers\"},{\"attributes\":{\"months\":[0,4,8]},\"id\":\"6929\",\"type\":\"MonthsTicker\"},{\"attributes\":{\"line_color\":\"#892889\",\"x\":{\"field\":\"Date\"},\"y\":{\"field\":\"predits\"}},\"id\":\"7034\",\"type\":\"Line\"},{\"attributes\":{\"active_multi\":null,\"tools\":[{\"id\":\"6895\"},{\"id\":\"6896\"},{\"id\":\"6897\"},{\"id\":\"6898\"},{\"id\":\"6899\"},{\"id\":\"7111\"}]},\"id\":\"6901\",\"type\":\"Toolbar\"},{\"attributes\":{\"label\":{\"value\":\"SGD\"},\"renderers\":[{\"id\":\"7036\"}]},\"id\":\"7068\",\"type\":\"LegendItem\"},{\"attributes\":{},\"id\":\"6932\",\"type\":\"UnionRenderers\"},{\"attributes\":{},\"id\":\"7066\",\"type\":\"Selection\"},{\"attributes\":{\"click_policy\":\"hide\",\"items\":[{\"id\":\"6936\"},{\"id\":\"6966\"},{\"id\":\"6998\"},{\"id\":\"7032\"},{\"id\":\"7068\"},{\"id\":\"7110\"}],\"location\":\"top_left\"},\"id\":\"6935\",\"type\":\"Legend\"},{\"attributes\":{\"source\":{\"id\":\"6875\"}},\"id\":\"6912\",\"type\":\"CDSView\"},{\"attributes\":{\"line_alpha\":0.1,\"line_color\":\"navy\",\"x\":{\"field\":\"Date\"},\"y\":{\"field\":\"Reel\"}},\"id\":\"6910\",\"type\":\"Line\"},{\"attributes\":{\"label\":{\"value\":\"Valeurs r\\u00e9ellees\"},\"renderers\":[{\"id\":\"6911\"}]},\"id\":\"6936\",\"type\":\"LegendItem\"},{\"attributes\":{},\"id\":\"6914\",\"type\":\"AllLabels\"},{\"attributes\":{\"formatter\":{\"id\":\"7082\"},\"major_label_policy\":{\"id\":\"7081\"},\"ticker\":{\"id\":\"7083\"},\"y_range_name\":\"T_range\"},\"id\":\"7071\",\"type\":\"LinearAxis\"},{\"attributes\":{\"data_source\":{\"id\":\"6869\"},\"glyph\":{\"id\":\"7073\"},\"hover_glyph\":null,\"muted_glyph\":null,\"nonselection_glyph\":{\"id\":\"7074\"},\"view\":{\"id\":\"7076\"},\"y_range_name\":\"T_range\"},\"id\":\"7075\",\"type\":\"GlyphRenderer\"},{\"attributes\":{},\"id\":\"6915\",\"type\":\"DatetimeTickFormatter\"},{\"attributes\":{\"end\":10092.6,\"start\":6427.7},\"id\":\"7069\",\"type\":\"Range1d\"},{\"attributes\":{\"data\":{\"Date\":{\"__ndarray__\":\"AAAADmRYd0IAAMBztlh3QgAAgNkIWXdCAABAP1tZd0IAAAClrVl3QgAAwAoAWndCAACAcFJad0IAAEDWpFp3QgAAADz3WndCAADAoUlbd0IAAIAHnFt3QgAAQG3uW3dCAAAA00Bcd0IAAMA4k1x3QgAAgJ7lXHdCAABABDhdd0IAAABqil13QgAAwM/cXXdCAACANS9ed0IAAECbgV53QgAAAAHUXndCAADAZiZfd0IAAIDMeF93QgAAQDLLX3dCAAAAmB1gd0IAAMD9b2B3QgAAgGPCYHdCAABAyRRhd0IAAAAvZ2F3Qg==\",\"dtype\":\"float64\",\"order\":\"little\",\"shape\":[29]},\"Reel\":{\"__ndarray__\":\"AAAAAACdu0AAAAAAACO/QAAAAACA6cBAAAAAAADnwEAAAAAAgMrAQAAAAAAAyL1AAAAAAAA5u0AAAAAAAI29QAAAAAAArL1AAAAAAAA7vEAAAAAAABq+QAAAAAAADL5AAAAAAADxukAAAAAAAG66QAAAAAAAdL9AAAAAAIAdwEAAAAAAAL+/QAAAAAAAj79AAAAAAAD7wEAAAAAAADfAQAAAAAAA5b9AAAAAAIARwUAAAAAAgL3BQAAAAAAA88FAAAAAAIALwkAAAAAAAK7BQAAAAAAA1cBAAAAAAADWwUAAAAAAAFfEQA==\",\"dtype\":\"float64\",\"order\":\"little\",\"shape\":[29]},\"T\":{\"__ndarray__\":\"amZmZmaGMEAMAAAAAMAhQLiZmZmZWRpAIAAAAAAAHkDAmZmZmVkfQHhmZmZmpiVAQTMzMzNTKkCgmZmZmTkqQHRmZmZmhilApJmZmZk5JUBEMzMzM3MmQG9mZmZmBihAb2ZmZmbGKkBBMzMzM3MqQHRmZmZm5iVAPDMzMzPTJUA8MzMzMzMlQNjMzMzMTCNACAAAAACAGkBIMzMzM/MYQLiZmZmZmRlAODMzMzOzIUAYAAAAAMAZQCAAAAAAgBxAgGZmZmamF0CwmZmZmRkfQIBmZmZmphhAkGZmZmZmDUBAAAAAAAAFQA==\",\"dtype\":\"float64\",\"order\":\"little\",\"shape\":[29]},\"predits\":{\"__ndarray__\":\"AAAAAADqvEAAAAAAgEnBQAAAAAAAKMJAAAAAAADJwUAAAAAAAHnBQAAAAAAAZb5AAAAAAACuu0AAAAAAAEO/QAAAAAAA5r9AAAAAAIDFwEAAAAAAAIHAQAAAAACACcBAAAAAAACivEAAAAAAAKO7QAAAAAAAYMBAAAAAAACWwEAAAAAAgMbAQAAAAACAC8FAAAAAAADkwUAAAAAAgMbAQAAAAACAKsBAAAAAAAAZwUAAAAAAACDCQAAAAAAA+cFAAAAAAABVwkAAAAAAgH7BQAAAAAAAzcBAAAAAAIAawUAAAAAAgD3DQA==\",\"dtype\":\"float64\",\"order\":\"little\",\"shape\":[29]}},\"selected\":{\"id\":\"7030\"},\"selection_policy\":{\"id\":\"7029\"}},\"id\":\"6871\",\"type\":\"ColumnDataSource\"},{\"attributes\":{\"end\":17.351250000000014,\"start\":2.493750000000027},\"id\":\"7070\",\"type\":\"Range1d\"},{\"attributes\":{\"callback\":null,\"formatters\":{\"@Date\":\"datetime\"},\"tooltips\":[[\"Date\",\"@Date{%Y-%m-%d}\"],[\"Pr\\u00e9diction\",\"@predits{0.00}\"],[\"Valeur r\\u00e9elle\",\"@Reel{0.00}\"],[\"C\\u00b0\",\"@T{0.00}\"]]},\"id\":\"7111\",\"type\":\"HoverTool\"},{\"attributes\":{\"source\":{\"id\":\"6869\"}},\"id\":\"7076\",\"type\":\"CDSView\"},{\"attributes\":{\"line_color\":\"grey\",\"x\":{\"field\":\"Date\"},\"y\":{\"field\":\"T\"}},\"id\":\"7073\",\"type\":\"Line\"},{\"attributes\":{\"line_alpha\":0.1,\"line_color\":\"grey\",\"x\":{\"field\":\"Date\"},\"y\":{\"field\":\"T\"}},\"id\":\"7074\",\"type\":\"Line\"},{\"attributes\":{\"label\":{\"value\":\"T (C\\u00b0)\"},\"renderers\":[{\"id\":\"7075\"}]},\"id\":\"7110\",\"type\":\"LegendItem\"},{\"attributes\":{},\"id\":\"7081\",\"type\":\"AllLabels\"},{\"attributes\":{},\"id\":\"7082\",\"type\":\"BasicTickFormatter\"},{\"attributes\":{},\"id\":\"7083\",\"type\":\"BasicTicker\"},{\"attributes\":{},\"id\":\"6917\",\"type\":\"AllLabels\"},{\"attributes\":{},\"id\":\"6918\",\"type\":\"BasicTickFormatter\"},{\"attributes\":{\"line_color\":\"#EC1557\",\"x\":{\"field\":\"Date\"},\"y\":{\"field\":\"predits\"}},\"id\":\"6938\",\"type\":\"Line\"},{\"attributes\":{\"data_source\":{\"id\":\"6870\"},\"glyph\":{\"id\":\"6968\"},\"hover_glyph\":null,\"muted_glyph\":null,\"nonselection_glyph\":{\"id\":\"6969\"},\"view\":{\"id\":\"6971\"}},\"id\":\"6970\",\"type\":\"GlyphRenderer\"}],\"root_ids\":[\"6876\"]},\"title\":\"Bokeh Application\",\"version\":\"2.3.2\"}};\n  var render_items = [{\"docid\":\"01b02f13-13e9-4c57-93ff-fcf0b004121c\",\"root_ids\":[\"6876\"],\"roots\":{\"6876\":\"94292bcd-67fe-43e6-819e-dbd779ce4b4e\"}}];\n  root.Bokeh.embed.embed_items_notebook(docs_json, render_items);\n\n  }\n  if (root.Bokeh !== undefined) {\n    embed_document(root);\n  } else {\n    var attempts = 0;\n    var timer = setInterval(function(root) {\n      if (root.Bokeh !== undefined) {\n        clearInterval(timer);\n        embed_document(root);\n      } else {\n        attempts++;\n        if (attempts > 100) {\n          clearInterval(timer);\n          console.log(\"Bokeh: ERROR: Unable to run BokehJS code because BokehJS library is missing\");\n        }\n      }\n    }, 10, root)\n  }\n})(window);",
      "application/vnd.bokehjs_exec.v0+json": ""
     },
     "metadata": {
      "application/vnd.bokehjs_exec.v0+json": {
       "id": "6876"
      }
     },
     "output_type": "display_data"
    }
   ],
   "source": [
    "#Source\n",
    "source1 = ColumnDataSource(ridge_model_1)\n",
    "source2 = ColumnDataSource(lasso_model_1)\n",
    "source3 = ColumnDataSource(EN_model)\n",
    "source7 = ColumnDataSource(sgd_model)\n",
    "source4 = ColumnDataSource(model_arima_df)\n",
    "source5 = ColumnDataSource(model_sarima_df)\n",
    "source6 = ColumnDataSource(model_sarimax_df)\n",
    "\n",
    "\n",
    "\n",
    "\n",
    "# List de tools\n",
    "TOOLS=\"crosshair,pan,wheel_zoom,box_zoom,reset\"\n",
    "\n",
    "\n",
    "y_overlimit = 0.05 \n",
    "p = figure(plot_width = 900, plot_height = 550,     \n",
    "           title = \"Comparaison Ridge, Lasso, Elastic-Net, SGDR\",                    \n",
    "           x_axis_label = 'Date', x_axis_type=\"datetime\",\n",
    "           y_axis_label = 'Consommation Moyenne',\n",
    "           toolbar_location=\"below\",\n",
    "           tools=TOOLS)  \n",
    "\n",
    "\n",
    "p.title.text_color = \"darkblue\"\n",
    "p.title.text_font = \"times\"\n",
    "p.title.text_font_size = \"20px\"\n",
    "p.title.align = 'center'\n",
    "\n",
    "p.xaxis.major_label_orientation = pi/4\n",
    "p.xgrid.grid_line_color = None\n",
    "p.ygrid.grid_line_color = None\n",
    "p.xaxis.ticker.desired_num_ticks = 29\n",
    "\n",
    "#p.varea(x = 'Date', y1 = 'lower_limits', y2='upper_limits', color='pink', alpha=0.5, source = source6)\n",
    "\n",
    "p.line(x='Date', y = 'Reel', color = \"navy\", legend_label = \"Valeurs réellees\", source = source6)   \n",
    "#p.circle(x='Date', y ='Reel', color = \"navy\",fill_color='white', size=8, source = source6)\n",
    "\n",
    "\n",
    "#Ridge\n",
    "p.line(x='Date', y ='predits', color = \"#EC1557\", legend_label = \"Ridge\", source = source1) \n",
    "#p.circle(x='Date', y='predits', color = \"#EC1557\", fill_color='white',size=8, source = source1)\n",
    "\n",
    "#Lasso \n",
    "p.line(x='Date', y ='predits', color = \"#892889\",legend_label = \"Lasso\", source = source2) \n",
    "#p.circle(x='Date', y='predits', color = \"#892889\", fill_color='white',size=8, source = source2)\n",
    "\n",
    "#Elastic Net\n",
    "p.line(x='Date', y ='predits', color = \"#F6A91B\",legend_label = \"Elastic\", source = source3) \n",
    "#p.circle(x='Date', y='predits',  color = \"#F6A91B\", fill_color='white',size=8, source = source3)\n",
    "\n",
    "#SGD\n",
    "p.line(x='Date', y ='predits', color = \"#892889\",legend_label = \"SGD\", source = source7) \n",
    "#p.circle(x='Date', y='predits',  color = \"#892889\", fill_color='white',size=8, source = source7)\n",
    "\n",
    "#Arima\n",
    "#p.line(x='Date', y ='predits', color = \"#A5CD39\", legend_label = \"ARIMA\", source = source4) \n",
    "#p.circle(x='Date', y='predits', color = \"#A5CD39\", fill_color='white',size=8, source = source4)\n",
    "\n",
    "#Sarima\n",
    "#p.line(x='Date', y ='predits', color = \"#20B254\", legend_label = \"SARIMA\", source = source5) \n",
    "#p.circle(x='Date', y='predits', color = \"#20B254\", fill_color='white',size=8, source = source5)\n",
    "\n",
    "#Sarimax\n",
    "#p.line(x='Date', y ='predits', color = \"#00AAAE\", legend_label = \"SARIMAX\", source = source6) \n",
    "#p.circle(x='Date', y='predits', color = \"#00AAAE\",fill_color='white',size=8, source = source6)\n",
    "\n",
    "# axis y, gauche\n",
    "p.y_range = Range1d(ridge_model_1.Reel.min() * (1 - y_overlimit), ridge_model_1.predits.max() * (1 + y_overlimit))\n",
    "\n",
    "\n",
    "# Axis y, droite\n",
    "y_column2_range = \"T\" + \"_range\"\n",
    "p.extra_y_ranges = {\n",
    "    y_column2_range: Range1d(\n",
    "        start=ridge_model_1['T'].min() * (1 - y_overlimit),\n",
    "        end=ridge_model_1['T'].max() * (1 + y_overlimit),\n",
    "    )\n",
    "}\n",
    "p.add_layout(LinearAxis(y_range_name=y_column2_range), \"right\")\n",
    "\n",
    "p.line( x='Date', y = 'T', color=\"grey\", legend_label=\"T (C°)\", y_range_name=y_column2_range, source = source1)\n",
    "#p.circle(x='Date', y = 'T', color = \"grey\",fill_color='white', size=8, y_range_name=y_column2_range, source = source1)\n",
    "\n",
    "# Activation de l'interaction avec la légende\n",
    "p.legend.location = \"top_left\"\n",
    "p.legend.click_policy = 'hide'\n",
    "\n",
    "# Style hover\n",
    "p.add_tools(HoverTool(\n",
    "    tooltips=[('Date', '@Date{%Y-%m-%d}'),\n",
    "        ('Prédiction', '@predits{0.00}'),\n",
    "        ('Valeur réelle', '@Reel{0.00}'),\n",
    "        ('C°', \"@T{0.00}\")],\n",
    "    formatters={'@Date': 'datetime'}\n",
    "))\n",
    "\n",
    "show(p);"
   ]
  },
  {
   "cell_type": "markdown",
   "metadata": {},
   "source": [
    "### Graphique MAPE"
   ]
  },
  {
   "cell_type": "code",
   "execution_count": 95,
   "metadata": {},
   "outputs": [
    {
     "data": {
      "text/html": [
       "<div>\n",
       "<style scoped>\n",
       "    .dataframe tbody tr th:only-of-type {\n",
       "        vertical-align: middle;\n",
       "    }\n",
       "\n",
       "    .dataframe tbody tr th {\n",
       "        vertical-align: top;\n",
       "    }\n",
       "\n",
       "    .dataframe thead th {\n",
       "        text-align: right;\n",
       "    }\n",
       "</style>\n",
       "<table border=\"1\" class=\"dataframe\">\n",
       "  <thead>\n",
       "    <tr style=\"text-align: right;\">\n",
       "      <th></th>\n",
       "      <th>MAPE</th>\n",
       "      <th>MSE</th>\n",
       "      <th>RMSE</th>\n",
       "      <th>Modele</th>\n",
       "      <th>Colors</th>\n",
       "    </tr>\n",
       "  </thead>\n",
       "  <tbody>\n",
       "    <tr>\n",
       "      <th>0</th>\n",
       "      <td>5.75</td>\n",
       "      <td>317871.14</td>\n",
       "      <td>563.80</td>\n",
       "      <td>Ridge</td>\n",
       "      <td>#EC1557</td>\n",
       "    </tr>\n",
       "    <tr>\n",
       "      <th>1</th>\n",
       "      <td>5.57</td>\n",
       "      <td>298859.31</td>\n",
       "      <td>546.68</td>\n",
       "      <td>Lasso</td>\n",
       "      <td>#F05223</td>\n",
       "    </tr>\n",
       "    <tr>\n",
       "      <th>2</th>\n",
       "      <td>4.87</td>\n",
       "      <td>233417.10</td>\n",
       "      <td>483.13</td>\n",
       "      <td>Elastic_Net</td>\n",
       "      <td>#F6A91B</td>\n",
       "    </tr>\n",
       "    <tr>\n",
       "      <th>3</th>\n",
       "      <td>4.64</td>\n",
       "      <td>229272.17</td>\n",
       "      <td>478.82</td>\n",
       "      <td>SGDRegressor</td>\n",
       "      <td>#A5CD39</td>\n",
       "    </tr>\n",
       "    <tr>\n",
       "      <th>4</th>\n",
       "      <td>13.27</td>\n",
       "      <td>1955230.51</td>\n",
       "      <td>1398.30</td>\n",
       "      <td>Arima</td>\n",
       "      <td>#20B254</td>\n",
       "    </tr>\n",
       "    <tr>\n",
       "      <th>5</th>\n",
       "      <td>13.49</td>\n",
       "      <td>2110887.26</td>\n",
       "      <td>1452.89</td>\n",
       "      <td>Sarima</td>\n",
       "      <td>#00AAAE</td>\n",
       "    </tr>\n",
       "    <tr>\n",
       "      <th>6</th>\n",
       "      <td>6.39</td>\n",
       "      <td>483046.08</td>\n",
       "      <td>695.02</td>\n",
       "      <td>Sarimax</td>\n",
       "      <td>#892889</td>\n",
       "    </tr>\n",
       "  </tbody>\n",
       "</table>\n",
       "</div>"
      ],
      "text/plain": [
       "    MAPE         MSE     RMSE        Modele   Colors\n",
       "0   5.75   317871.14   563.80         Ridge  #EC1557\n",
       "1   5.57   298859.31   546.68         Lasso  #F05223\n",
       "2   4.87   233417.10   483.13   Elastic_Net  #F6A91B\n",
       "3   4.64   229272.17   478.82  SGDRegressor  #A5CD39\n",
       "4  13.27  1955230.51  1398.30         Arima  #20B254\n",
       "5  13.49  2110887.26  1452.89        Sarima  #00AAAE\n",
       "6   6.39   483046.08   695.02       Sarimax  #892889"
      ]
     },
     "execution_count": 95,
     "metadata": {},
     "output_type": "execute_result"
    }
   ],
   "source": [
    "colors = Bokeh[7]\n",
    "comparaison_scores['Colors'] = colors\n",
    "comparaison_scores"
   ]
  },
  {
   "cell_type": "code",
   "execution_count": 96,
   "metadata": {},
   "outputs": [
    {
     "data": {
      "text/html": [
       "\n",
       "\n",
       "\n",
       "\n",
       "\n",
       "\n",
       "  <div class=\"bk-root\" id=\"74f44900-e17c-4fa4-a11d-0994d99465b9\" data-root-id=\"3069\"></div>\n"
      ]
     },
     "metadata": {},
     "output_type": "display_data"
    },
    {
     "data": {
      "application/javascript": "(function(root) {\n  function embed_document(root) {\n    \n  var docs_json = {\"26dc265d-018d-4668-bdd7-c8ec0a6083ec\":{\"defs\":[],\"roots\":{\"references\":[{\"attributes\":{\"below\":[{\"id\":\"3080\"}],\"center\":[{\"id\":\"3083\"},{\"id\":\"3086\"},{\"id\":\"3102\"}],\"height\":400,\"left\":[{\"id\":\"3084\"}],\"renderers\":[{\"id\":\"3100\"}],\"title\":{\"id\":\"3070\"},\"toolbar\":{\"id\":\"3092\"},\"toolbar_location\":\"below\",\"width\":900,\"x_range\":{\"id\":\"3072\"},\"x_scale\":{\"id\":\"3076\"},\"y_range\":{\"id\":\"3074\"},\"y_scale\":{\"id\":\"3078\"}},\"id\":\"3069\",\"subtype\":\"Figure\",\"type\":\"Plot\"},{\"attributes\":{},\"id\":\"3076\",\"type\":\"LinearScale\"},{\"attributes\":{},\"id\":\"3241\",\"type\":\"AllLabels\"},{\"attributes\":{\"source\":{\"id\":\"3068\"}},\"id\":\"3101\",\"type\":\"CDSView\"},{\"attributes\":{\"fill_alpha\":{\"value\":0.1},\"fill_color\":{\"field\":\"Colors\"},\"height\":{\"value\":0.5},\"line_alpha\":{\"value\":0.1},\"line_color\":{\"field\":\"Colors\"},\"right\":{\"field\":\"MAPE\"},\"y\":{\"field\":\"Modele\"}},\"id\":\"3099\",\"type\":\"HBar\"},{\"attributes\":{},\"id\":\"3078\",\"type\":\"CategoricalScale\"},{\"attributes\":{},\"id\":\"3087\",\"type\":\"PanTool\"},{\"attributes\":{},\"id\":\"3244\",\"type\":\"UnionRenderers\"},{\"attributes\":{},\"id\":\"3090\",\"type\":\"ResetTool\"},{\"attributes\":{\"fill_color\":{\"field\":\"Colors\"},\"height\":{\"value\":0.5},\"line_color\":{\"field\":\"Colors\"},\"right\":{\"field\":\"MAPE\"},\"y\":{\"field\":\"Modele\"}},\"id\":\"3098\",\"type\":\"HBar\"},{\"attributes\":{\"axis\":{\"id\":\"3080\"},\"grid_line_color\":null,\"ticker\":null},\"id\":\"3083\",\"type\":\"Grid\"},{\"attributes\":{},\"id\":\"3242\",\"type\":\"CategoricalTickFormatter\"},{\"attributes\":{},\"id\":\"3085\",\"type\":\"CategoricalTicker\"},{\"attributes\":{\"factors\":[\"Ridge\",\"Lasso\",\"Elastic_Net\",\"SGDRegressor\",\"Arima\",\"Sarima\",\"Sarimax\"]},\"id\":\"3074\",\"type\":\"FactorRange\"},{\"attributes\":{},\"id\":\"3072\",\"type\":\"DataRange1d\"},{\"attributes\":{\"overlay\":{\"id\":\"3091\"}},\"id\":\"3089\",\"type\":\"BoxZoomTool\"},{\"attributes\":{\"axis_label\":\"Mod\\u00e8le\",\"formatter\":{\"id\":\"3242\"},\"major_label_policy\":{\"id\":\"3241\"},\"ticker\":{\"id\":\"3085\"}},\"id\":\"3084\",\"type\":\"CategoricalAxis\"},{\"attributes\":{\"data\":{\"Colors\":[\"#EC1557\",\"#F05223\",\"#F6A91B\",\"#A5CD39\",\"#20B254\",\"#00AAAE\",\"#892889\"],\"MAPE\":{\"__ndarray__\":\"AAAAAAAAF0BI4XoUrkcWQHsUrkfhehNAj8L1KFyPEkAK16NwPYoqQHsUrkfh+ipAj8L1KFyPGUA=\",\"dtype\":\"float64\",\"order\":\"little\",\"shape\":[7]},\"MSE\":{\"__ndarray__\":\"9ihcj7xmE0HXo3A9rT0SQc3MzMxIfgxBw/UoXMH8C0EpXI+CntU9QRSuR6HTGkBBH4XrUZh7HUE=\",\"dtype\":\"float64\",\"order\":\"little\",\"shape\":[7]},\"Modele\":[\"Ridge\",\"Lasso\",\"Elastic_Net\",\"SGDRegressor\",\"Arima\",\"Sarima\",\"Sarimax\"],\"RMSE\":{\"__ndarray__\":\"ZmZmZmaegUA9CtejcBWBQK5H4XoUMn5AhetRuB7tfUAzMzMzM9mVQMP1KFyPs5ZAXI/C9Si4hUA=\",\"dtype\":\"float64\",\"order\":\"little\",\"shape\":[7]},\"index\":[0,1,2,3,4,5,6]},\"selected\":{\"id\":\"3245\"},\"selection_policy\":{\"id\":\"3244\"}},\"id\":\"3068\",\"type\":\"ColumnDataSource\"},{\"attributes\":{\"data_source\":{\"id\":\"3068\"},\"glyph\":{\"id\":\"3098\"},\"hover_glyph\":null,\"muted_glyph\":null,\"nonselection_glyph\":{\"id\":\"3099\"},\"view\":{\"id\":\"3101\"}},\"id\":\"3100\",\"type\":\"GlyphRenderer\"},{\"attributes\":{},\"id\":\"3239\",\"type\":\"BasicTickFormatter\"},{\"attributes\":{\"axis\":{\"id\":\"3084\"},\"dimension\":1,\"grid_line_color\":null,\"ticker\":null},\"id\":\"3086\",\"type\":\"Grid\"},{\"attributes\":{},\"id\":\"3245\",\"type\":\"Selection\"},{\"attributes\":{\"axis_label\":\"Probabilit\\u00e9 Moyenne d'erreur %\",\"formatter\":{\"id\":\"3239\"},\"major_label_policy\":{\"id\":\"3238\"},\"ticker\":{\"id\":\"3081\"}},\"id\":\"3080\",\"type\":\"LinearAxis\"},{\"attributes\":{},\"id\":\"3088\",\"type\":\"WheelZoomTool\"},{\"attributes\":{\"source\":{\"id\":\"3068\"},\"text\":{\"field\":\"MAPE\"},\"x\":{\"field\":\"MAPE\"},\"y\":{\"field\":\"Modele\"}},\"id\":\"3102\",\"type\":\"LabelSet\"},{\"attributes\":{\"active_multi\":null,\"tools\":[{\"id\":\"3087\"},{\"id\":\"3088\"},{\"id\":\"3089\"},{\"id\":\"3090\"}]},\"id\":\"3092\",\"type\":\"Toolbar\"},{\"attributes\":{\"bottom_units\":\"screen\",\"fill_alpha\":0.5,\"fill_color\":\"lightgrey\",\"left_units\":\"screen\",\"level\":\"overlay\",\"line_alpha\":1.0,\"line_color\":\"black\",\"line_dash\":[4,4],\"line_width\":2,\"right_units\":\"screen\",\"syncable\":false,\"top_units\":\"screen\"},\"id\":\"3091\",\"type\":\"BoxAnnotation\"},{\"attributes\":{\"align\":\"center\",\"text\":\"Mean Absolute Prediction Error - MAPE\",\"text_color\":\"darkblue\",\"text_font\":\"times\",\"text_font_size\":\"20px\"},\"id\":\"3070\",\"type\":\"Title\"},{\"attributes\":{},\"id\":\"3081\",\"type\":\"BasicTicker\"},{\"attributes\":{},\"id\":\"3238\",\"type\":\"AllLabels\"}],\"root_ids\":[\"3069\"]},\"title\":\"Bokeh Application\",\"version\":\"2.3.2\"}};\n  var render_items = [{\"docid\":\"26dc265d-018d-4668-bdd7-c8ec0a6083ec\",\"root_ids\":[\"3069\"],\"roots\":{\"3069\":\"74f44900-e17c-4fa4-a11d-0994d99465b9\"}}];\n  root.Bokeh.embed.embed_items_notebook(docs_json, render_items);\n\n  }\n  if (root.Bokeh !== undefined) {\n    embed_document(root);\n  } else {\n    var attempts = 0;\n    var timer = setInterval(function(root) {\n      if (root.Bokeh !== undefined) {\n        clearInterval(timer);\n        embed_document(root);\n      } else {\n        attempts++;\n        if (attempts > 100) {\n          clearInterval(timer);\n          console.log(\"Bokeh: ERROR: Unable to run BokehJS code because BokehJS library is missing\");\n        }\n      }\n    }, 10, root)\n  }\n})(window);",
      "application/vnd.bokehjs_exec.v0+json": ""
     },
     "metadata": {
      "application/vnd.bokehjs_exec.v0+json": {
       "id": "3069"
      }
     },
     "output_type": "display_data"
    }
   ],
   "source": [
    "source_scores = ColumnDataSource(comparaison_scores)\n",
    "#ouput_file('source_scores.html')\n",
    "# List de tools\n",
    "TOOLS=\"pan,wheel_zoom,box_zoom,reset\"\n",
    "\n",
    "# Instanciation de la figure\n",
    "\n",
    "p = figure(y_range = comparaison_scores.Modele,           \n",
    "           plot_width = 900, plot_height = 400,\n",
    "           title = 'Mean Absolute Prediction Error - MAPE',\n",
    "           x_axis_label = \"Probabilité Moyenne d'erreur %\",\n",
    "           y_axis_label = 'Modèle',\n",
    "           toolbar_location=\"below\",\n",
    "           tools=TOOLS) \n",
    "# tooltips = \"MAPE %', '@comparaison_scores.MAPE{0.00}\"\n",
    "p.title.text_color = \"darkblue\"\n",
    "p.title.text_font = \"times\"\n",
    "p.title.text_font_size = \"20px\"\n",
    "p.title.align = 'center'\n",
    "\n",
    "p.xgrid.grid_line_color = None\n",
    "p.ygrid.grid_line_color = None\n",
    "#p.xaxis.ticker.desired_num_ticks = 10\n",
    "\n",
    "\n",
    "# Instanciation d'un diagramme à barres horizontales\n",
    "p.hbar(y = 'Modele',  right = 'MAPE', height = 0.5, color='Colors', source=source_scores)                  \n",
    "# legend_group='Modele'\n",
    "# Style hover\n",
    "#p.add_tools(HoverTool(\n",
    "#    tooltips=[('MAPE %', '@MAPE{0.00}')]))\n",
    "\n",
    "labels = LabelSet(x='MAPE', y='Modele', text='MAPE',source=source_scores)\n",
    "\n",
    "#citation = Label(x=400, y=70, x_units='screen', y_units='screen',\n",
    "#                 text=\"Probabilité Moyenne d'erreur\", render_mode='css',\n",
    "#                 border_line_color='black', border_line_alpha=1.0,\n",
    "#                 background_fill_color='white', background_fill_alpha=1.0)\n",
    "\n",
    "\n",
    "# Iteraction legend\n",
    "p.add_layout(labels)\n",
    "#p.add_layout(citation)\n",
    "# Activation de l'interaction avec la légende\n",
    "#p.legend.location = \"bottom_right\"\n",
    "#p.legend.click_policy = 'hide'\n",
    "\n",
    "# Affichage de la figure\n",
    "#save(p)\n",
    "show(p);\n"
   ]
  },
  {
   "cell_type": "markdown",
   "metadata": {},
   "source": [
    "MAPE, moyenne des écarts en valeur absolue par rapport aux valeurs observées"
   ]
  },
  {
   "cell_type": "markdown",
   "metadata": {},
   "source": [
    "### Graphique MSE"
   ]
  },
  {
   "cell_type": "code",
   "execution_count": 103,
   "metadata": {},
   "outputs": [
    {
     "data": {
      "text/html": [
       "\n",
       "\n",
       "\n",
       "\n",
       "\n",
       "\n",
       "  <div class=\"bk-root\" id=\"2c510bce-4cfe-4b82-8356-ac674496a2d8\" data-root-id=\"5047\"></div>\n"
      ]
     },
     "metadata": {},
     "output_type": "display_data"
    },
    {
     "data": {
      "application/javascript": "(function(root) {\n  function embed_document(root) {\n    \n  var docs_json = {\"d381b085-db5b-49bd-9be6-42bf363f1707\":{\"defs\":[],\"roots\":{\"references\":[{\"attributes\":{\"below\":[{\"id\":\"5058\"}],\"center\":[{\"id\":\"5061\"},{\"id\":\"5064\"},{\"id\":\"5081\"},{\"id\":\"5083\"}],\"height\":400,\"left\":[{\"id\":\"5062\"}],\"renderers\":[{\"id\":\"5078\"}],\"title\":{\"id\":\"5048\"},\"toolbar\":{\"id\":\"5070\"},\"toolbar_location\":\"below\",\"width\":900,\"x_range\":{\"id\":\"5050\"},\"x_scale\":{\"id\":\"5054\"},\"y_range\":{\"id\":\"5052\"},\"y_scale\":{\"id\":\"5056\"}},\"id\":\"5047\",\"subtype\":\"Figure\",\"type\":\"Plot\"},{\"attributes\":{\"fill_color\":{\"field\":\"Colors\"},\"height\":{\"value\":0.5},\"line_color\":{\"field\":\"Colors\"},\"right\":{\"field\":\"MSE\"},\"y\":{\"field\":\"Modele\"}},\"id\":\"5076\",\"type\":\"HBar\"},{\"attributes\":{},\"id\":\"5063\",\"type\":\"CategoricalTicker\"},{\"attributes\":{},\"id\":\"5056\",\"type\":\"CategoricalScale\"},{\"attributes\":{\"data_source\":{\"id\":\"5046\"},\"glyph\":{\"id\":\"5076\"},\"hover_glyph\":null,\"muted_glyph\":null,\"nonselection_glyph\":{\"id\":\"5077\"},\"view\":{\"id\":\"5079\"}},\"id\":\"5078\",\"type\":\"GlyphRenderer\"},{\"attributes\":{\"axis_label\":\"Carr\\u00e9 moyen des erreurs\",\"formatter\":{\"id\":\"5307\"},\"major_label_policy\":{\"id\":\"5306\"},\"ticker\":{\"id\":\"5059\"}},\"id\":\"5058\",\"type\":\"LinearAxis\"},{\"attributes\":{},\"id\":\"5307\",\"type\":\"BasicTickFormatter\"},{\"attributes\":{\"overlay\":{\"id\":\"5069\"}},\"id\":\"5067\",\"type\":\"BoxZoomTool\"},{\"attributes\":{},\"id\":\"5314\",\"type\":\"Selection\"},{\"attributes\":{},\"id\":\"5306\",\"type\":\"AllLabels\"},{\"attributes\":{\"end\":{\"id\":\"5080\"},\"source\":{\"id\":\"5309\"},\"start\":null,\"x_end\":{\"value\":250000},\"x_start\":{\"value\":400000},\"y_end\":{\"value\":3.5},\"y_start\":{\"value\":3.5}},\"id\":\"5081\",\"type\":\"Arrow\"},{\"attributes\":{\"render_mode\":\"css\",\"text\":\"valeur MSE la plus bas\",\"x\":190,\"x_units\":\"screen\",\"y\":135,\"y_units\":\"screen\"},\"id\":\"5083\",\"type\":\"Label\"},{\"attributes\":{\"line_color\":{\"value\":\"darkblue\"},\"line_width\":{\"value\":4}},\"id\":\"5080\",\"type\":\"OpenHead\"},{\"attributes\":{},\"id\":\"5065\",\"type\":\"PanTool\"},{\"attributes\":{},\"id\":\"5066\",\"type\":\"WheelZoomTool\"},{\"attributes\":{\"axis_label\":\"Mod\\u00e8le\",\"formatter\":{\"id\":\"5311\"},\"major_label_policy\":{\"id\":\"5310\"},\"ticker\":{\"id\":\"5063\"}},\"id\":\"5062\",\"type\":\"CategoricalAxis\"},{\"attributes\":{\"source\":{\"id\":\"5046\"}},\"id\":\"5079\",\"type\":\"CDSView\"},{\"attributes\":{\"data\":{},\"selected\":{\"id\":\"5316\"},\"selection_policy\":{\"id\":\"5315\"}},\"id\":\"5309\",\"type\":\"ColumnDataSource\"},{\"attributes\":{},\"id\":\"5059\",\"type\":\"BasicTicker\"},{\"attributes\":{},\"id\":\"5311\",\"type\":\"CategoricalTickFormatter\"},{\"attributes\":{\"bottom_units\":\"screen\",\"fill_alpha\":0.5,\"fill_color\":\"lightgrey\",\"left_units\":\"screen\",\"level\":\"overlay\",\"line_alpha\":1.0,\"line_color\":\"black\",\"line_dash\":[4,4],\"line_width\":2,\"right_units\":\"screen\",\"syncable\":false,\"top_units\":\"screen\"},\"id\":\"5069\",\"type\":\"BoxAnnotation\"},{\"attributes\":{},\"id\":\"5050\",\"type\":\"DataRange1d\"},{\"attributes\":{\"align\":\"center\",\"text\":\"Mean Square Error - MSE\",\"text_color\":\"darkblue\",\"text_font\":\"times\",\"text_font_size\":\"20px\"},\"id\":\"5048\",\"type\":\"Title\"},{\"attributes\":{\"factors\":[\"Ridge\",\"Lasso\",\"Elastic_Net\",\"SGDRegressor\",\"Arima\",\"Sarima\",\"Sarimax\"]},\"id\":\"5052\",\"type\":\"FactorRange\"},{\"attributes\":{},\"id\":\"5316\",\"type\":\"Selection\"},{\"attributes\":{\"active_multi\":null,\"tools\":[{\"id\":\"5065\"},{\"id\":\"5066\"},{\"id\":\"5067\"},{\"id\":\"5068\"}]},\"id\":\"5070\",\"type\":\"Toolbar\"},{\"attributes\":{\"axis\":{\"id\":\"5062\"},\"dimension\":1,\"grid_line_color\":null,\"ticker\":null},\"id\":\"5064\",\"type\":\"Grid\"},{\"attributes\":{},\"id\":\"5068\",\"type\":\"ResetTool\"},{\"attributes\":{},\"id\":\"5054\",\"type\":\"LinearScale\"},{\"attributes\":{},\"id\":\"5315\",\"type\":\"UnionRenderers\"},{\"attributes\":{},\"id\":\"5310\",\"type\":\"AllLabels\"},{\"attributes\":{},\"id\":\"5313\",\"type\":\"UnionRenderers\"},{\"attributes\":{\"axis\":{\"id\":\"5058\"},\"grid_line_color\":null,\"ticker\":null},\"id\":\"5061\",\"type\":\"Grid\"},{\"attributes\":{\"fill_alpha\":{\"value\":0.1},\"fill_color\":{\"field\":\"Colors\"},\"height\":{\"value\":0.5},\"line_alpha\":{\"value\":0.1},\"line_color\":{\"field\":\"Colors\"},\"right\":{\"field\":\"MSE\"},\"y\":{\"field\":\"Modele\"}},\"id\":\"5077\",\"type\":\"HBar\"},{\"attributes\":{\"data\":{\"Colors\":[\"#EC1557\",\"#F05223\",\"#F6A91B\",\"#A5CD39\",\"#20B254\",\"#00AAAE\",\"#892889\"],\"MAPE\":{\"__ndarray__\":\"AAAAAAAAF0BI4XoUrkcWQHsUrkfhehNAj8L1KFyPEkAK16NwPYoqQHsUrkfh+ipAj8L1KFyPGUA=\",\"dtype\":\"float64\",\"order\":\"little\",\"shape\":[7]},\"MSE\":{\"__ndarray__\":\"9ihcj7xmE0HXo3A9rT0SQc3MzMxIfgxBw/UoXMH8C0EpXI+CntU9QRSuR6HTGkBBH4XrUZh7HUE=\",\"dtype\":\"float64\",\"order\":\"little\",\"shape\":[7]},\"Modele\":[\"Ridge\",\"Lasso\",\"Elastic_Net\",\"SGDRegressor\",\"Arima\",\"Sarima\",\"Sarimax\"],\"RMSE\":{\"__ndarray__\":\"ZmZmZmaegUA9CtejcBWBQK5H4XoUMn5AhetRuB7tfUAzMzMzM9mVQMP1KFyPs5ZAXI/C9Si4hUA=\",\"dtype\":\"float64\",\"order\":\"little\",\"shape\":[7]},\"index\":[0,1,2,3,4,5,6]},\"selected\":{\"id\":\"5314\"},\"selection_policy\":{\"id\":\"5313\"}},\"id\":\"5046\",\"type\":\"ColumnDataSource\"}],\"root_ids\":[\"5047\"]},\"title\":\"Bokeh Application\",\"version\":\"2.3.2\"}};\n  var render_items = [{\"docid\":\"d381b085-db5b-49bd-9be6-42bf363f1707\",\"root_ids\":[\"5047\"],\"roots\":{\"5047\":\"2c510bce-4cfe-4b82-8356-ac674496a2d8\"}}];\n  root.Bokeh.embed.embed_items_notebook(docs_json, render_items);\n\n  }\n  if (root.Bokeh !== undefined) {\n    embed_document(root);\n  } else {\n    var attempts = 0;\n    var timer = setInterval(function(root) {\n      if (root.Bokeh !== undefined) {\n        clearInterval(timer);\n        embed_document(root);\n      } else {\n        attempts++;\n        if (attempts > 100) {\n          clearInterval(timer);\n          console.log(\"Bokeh: ERROR: Unable to run BokehJS code because BokehJS library is missing\");\n        }\n      }\n    }, 10, root)\n  }\n})(window);",
      "application/vnd.bokehjs_exec.v0+json": ""
     },
     "metadata": {
      "application/vnd.bokehjs_exec.v0+json": {
       "id": "5047"
      }
     },
     "output_type": "display_data"
    }
   ],
   "source": [
    "source_scores = ColumnDataSource(comparaison_scores)\n",
    "#ouput_file('source_scores.html')\n",
    "# List de tools\n",
    "TOOLS=\"pan,wheel_zoom,box_zoom,reset\"\n",
    "\n",
    "# Instanciation de la figure\n",
    "\n",
    "p = figure(y_range = comparaison_scores.Modele,           \n",
    "           plot_width = 900, plot_height = 400,\n",
    "           title = 'Mean Square Error - MSE',\n",
    "           x_axis_label = \"Carré moyen des erreurs\",\n",
    "           y_axis_label = 'Modèle',\n",
    "           toolbar_location=\"below\",\n",
    "           tools=TOOLS) \n",
    "# tooltips = \"MAPE %', '@comparaison_scores.MAPE{0.00}\"\n",
    "p.title.text_color = \"darkblue\"\n",
    "p.title.text_font = \"times\"\n",
    "p.title.text_font_size = \"20px\"\n",
    "p.title.align = 'center'\n",
    "\n",
    "p.xgrid.grid_line_color = None\n",
    "p.ygrid.grid_line_color = None\n",
    "#p.xaxis.ticker.desired_num_ticks = 10\n",
    "\n",
    "\n",
    "# Instanciation d'un diagramme à barres horizontales\n",
    "p.hbar(y = 'Modele',  right = 'MSE', height = 0.5, color='Colors', source=source_scores)                  \n",
    "# legend_group='Modele'\n",
    "# Style hover\n",
    "#p.add_tools(HoverTool(\n",
    "#    tooltips=[('MAPE %', '@MAPE{0.00}')]))\n",
    "\n",
    "#labels = LabelSet(x='MSE', y='Modele', text='MSE',source=source_scores)\n",
    "\n",
    "p.add_layout(Arrow(end=OpenHead(line_color=\"darkblue\", line_width=4),\n",
    "                   x_start=400000, y_start=3.5, x_end=250000, y_end=3.5))\n",
    "citation = Label(x=190, y=135, x_units='screen', y_units='screen',\n",
    "                 text=\"valeur MSE la plus bas\", render_mode='css')\n",
    "\n",
    "\n",
    "# Iteraction legend\n",
    "#p.add_layout(labels)\n",
    "p.add_layout(citation)\n",
    "# Activation de l'interaction avec la légende\n",
    "#p.legend.location = \"bottom_right\"\n",
    "#p.legend.click_policy = 'hide'\n",
    "\n",
    "# Affichage de la figure\n",
    "#save(p)\n",
    "show(p);\n"
   ]
  },
  {
   "cell_type": "markdown",
   "metadata": {},
   "source": [
    "MSE, c’est la moyenne arithmétique des carrés des écarts entre prévisions du modèle et observations.\n",
    "Cette moyenne n'est autre que la VARIANCE RÉSIDUELLE que l'on cherche à minimiser.\n",
    "Si on compare les MSE, le meilleur est bien sûr celui qui présente la valeur MSE la plus faible, ici SGDRegressor\n"
   ]
  },
  {
   "cell_type": "markdown",
   "metadata": {},
   "source": [
    "### Graphique RMSE"
   ]
  },
  {
   "cell_type": "code",
   "execution_count": 107,
   "metadata": {},
   "outputs": [
    {
     "data": {
      "text/html": [
       "\n",
       "\n",
       "\n",
       "\n",
       "\n",
       "\n",
       "  <div class=\"bk-root\" id=\"08ceec78-e8df-414e-9288-91019a8b7ead\" data-root-id=\"6479\"></div>\n"
      ]
     },
     "metadata": {},
     "output_type": "display_data"
    },
    {
     "data": {
      "application/javascript": "(function(root) {\n  function embed_document(root) {\n    \n  var docs_json = {\"922798ff-7d84-4dd6-ab62-084e177991c0\":{\"defs\":[],\"roots\":{\"references\":[{\"attributes\":{\"below\":[{\"id\":\"6490\"}],\"center\":[{\"id\":\"6493\"},{\"id\":\"6496\"},{\"id\":\"6515\"},{\"id\":\"6512\"},{\"id\":\"6517\"}],\"height\":400,\"left\":[{\"id\":\"6494\"}],\"renderers\":[{\"id\":\"6510\"}],\"title\":{\"id\":\"6480\"},\"toolbar\":{\"id\":\"6502\"},\"toolbar_location\":\"below\",\"width\":900,\"x_range\":{\"id\":\"6482\"},\"x_scale\":{\"id\":\"6486\"},\"y_range\":{\"id\":\"6484\"},\"y_scale\":{\"id\":\"6488\"}},\"id\":\"6479\",\"subtype\":\"Figure\",\"type\":\"Plot\"},{\"attributes\":{},\"id\":\"6486\",\"type\":\"LinearScale\"},{\"attributes\":{},\"id\":\"6799\",\"type\":\"UnionRenderers\"},{\"attributes\":{\"line_color\":{\"value\":\"darkblue\"},\"line_width\":{\"value\":4}},\"id\":\"6514\",\"type\":\"OpenHead\"},{\"attributes\":{\"data_source\":{\"id\":\"6478\"},\"glyph\":{\"id\":\"6508\"},\"hover_glyph\":null,\"muted_glyph\":null,\"nonselection_glyph\":{\"id\":\"6509\"},\"view\":{\"id\":\"6511\"}},\"id\":\"6510\",\"type\":\"GlyphRenderer\"},{\"attributes\":{},\"id\":\"6800\",\"type\":\"Selection\"},{\"attributes\":{\"end\":{\"id\":\"6514\"},\"source\":{\"id\":\"6795\"},\"start\":null,\"x_end\":{\"value\":600},\"x_start\":{\"value\":700},\"y_end\":{\"value\":3.5},\"y_start\":{\"value\":3.5}},\"id\":\"6515\",\"type\":\"Arrow\"},{\"attributes\":{\"data\":{\"Colors\":[\"#EC1557\",\"#F05223\",\"#F6A91B\",\"#A5CD39\",\"#20B254\",\"#00AAAE\",\"#892889\"],\"MAPE\":{\"__ndarray__\":\"AAAAAAAAF0BI4XoUrkcWQHsUrkfhehNAj8L1KFyPEkAK16NwPYoqQHsUrkfh+ipAj8L1KFyPGUA=\",\"dtype\":\"float64\",\"order\":\"little\",\"shape\":[7]},\"MSE\":{\"__ndarray__\":\"9ihcj7xmE0HXo3A9rT0SQc3MzMxIfgxBw/UoXMH8C0EpXI+CntU9QRSuR6HTGkBBH4XrUZh7HUE=\",\"dtype\":\"float64\",\"order\":\"little\",\"shape\":[7]},\"Modele\":[\"Ridge\",\"Lasso\",\"Elastic_Net\",\"SGDRegressor\",\"Arima\",\"Sarima\",\"Sarimax\"],\"RMSE\":{\"__ndarray__\":\"ZmZmZmaegUA9CtejcBWBQK5H4XoUMn5AhetRuB7tfUAzMzMzM9mVQMP1KFyPs5ZAXI/C9Si4hUA=\",\"dtype\":\"float64\",\"order\":\"little\",\"shape\":[7]},\"index\":[0,1,2,3,4,5,6]},\"selected\":{\"id\":\"6800\"},\"selection_policy\":{\"id\":\"6799\"}},\"id\":\"6478\",\"type\":\"ColumnDataSource\"},{\"attributes\":{\"render_mode\":\"css\",\"text\":\"valeur RMSE la plus bas\",\"x\":390,\"x_units\":\"screen\",\"y\":135,\"y_units\":\"screen\"},\"id\":\"6517\",\"type\":\"Label\"},{\"attributes\":{},\"id\":\"6792\",\"type\":\"AllLabels\"},{\"attributes\":{},\"id\":\"6491\",\"type\":\"BasicTicker\"},{\"attributes\":{},\"id\":\"6796\",\"type\":\"AllLabels\"},{\"attributes\":{},\"id\":\"6801\",\"type\":\"UnionRenderers\"},{\"attributes\":{\"axis_label\":\"Mod\\u00e8le\",\"formatter\":{\"id\":\"6797\"},\"major_label_policy\":{\"id\":\"6796\"},\"ticker\":{\"id\":\"6495\"}},\"id\":\"6494\",\"type\":\"CategoricalAxis\"},{\"attributes\":{},\"id\":\"6797\",\"type\":\"CategoricalTickFormatter\"},{\"attributes\":{},\"id\":\"6802\",\"type\":\"Selection\"},{\"attributes\":{},\"id\":\"6497\",\"type\":\"PanTool\"},{\"attributes\":{},\"id\":\"6500\",\"type\":\"ResetTool\"},{\"attributes\":{},\"id\":\"6495\",\"type\":\"CategoricalTicker\"},{\"attributes\":{},\"id\":\"6793\",\"type\":\"BasicTickFormatter\"},{\"attributes\":{\"overlay\":{\"id\":\"6501\"}},\"id\":\"6499\",\"type\":\"BoxZoomTool\"},{\"attributes\":{\"axis\":{\"id\":\"6490\"},\"grid_line_color\":null,\"ticker\":null},\"id\":\"6493\",\"type\":\"Grid\"},{\"attributes\":{\"factors\":[\"Ridge\",\"Lasso\",\"Elastic_Net\",\"SGDRegressor\",\"Arima\",\"Sarima\",\"Sarimax\"]},\"id\":\"6484\",\"type\":\"FactorRange\"},{\"attributes\":{\"fill_alpha\":{\"value\":0.1},\"fill_color\":{\"field\":\"Colors\"},\"height\":{\"value\":0.5},\"line_alpha\":{\"value\":0.1},\"line_color\":{\"field\":\"Colors\"},\"right\":{\"field\":\"RMSE\"},\"y\":{\"field\":\"Modele\"}},\"id\":\"6509\",\"type\":\"HBar\"},{\"attributes\":{\"source\":{\"id\":\"6478\"},\"text\":{\"field\":\"RMSE\"},\"x\":{\"field\":\"RMSE\"},\"y\":{\"field\":\"Modele\"}},\"id\":\"6512\",\"type\":\"LabelSet\"},{\"attributes\":{\"source\":{\"id\":\"6478\"}},\"id\":\"6511\",\"type\":\"CDSView\"},{\"attributes\":{},\"id\":\"6488\",\"type\":\"CategoricalScale\"},{\"attributes\":{\"fill_color\":{\"field\":\"Colors\"},\"height\":{\"value\":0.5},\"line_color\":{\"field\":\"Colors\"},\"right\":{\"field\":\"RMSE\"},\"y\":{\"field\":\"Modele\"}},\"id\":\"6508\",\"type\":\"HBar\"},{\"attributes\":{\"active_multi\":null,\"tools\":[{\"id\":\"6497\"},{\"id\":\"6498\"},{\"id\":\"6499\"},{\"id\":\"6500\"}]},\"id\":\"6502\",\"type\":\"Toolbar\"},{\"attributes\":{\"axis\":{\"id\":\"6494\"},\"dimension\":1,\"grid_line_color\":null,\"ticker\":null},\"id\":\"6496\",\"type\":\"Grid\"},{\"attributes\":{},\"id\":\"6498\",\"type\":\"WheelZoomTool\"},{\"attributes\":{\"align\":\"center\",\"text\":\"Root Mean Square Error - RMSE\",\"text_color\":\"darkblue\",\"text_font\":\"times\",\"text_font_size\":\"20px\"},\"id\":\"6480\",\"type\":\"Title\"},{\"attributes\":{\"data\":{},\"selected\":{\"id\":\"6802\"},\"selection_policy\":{\"id\":\"6801\"}},\"id\":\"6795\",\"type\":\"ColumnDataSource\"},{\"attributes\":{\"bottom_units\":\"screen\",\"fill_alpha\":0.5,\"fill_color\":\"lightgrey\",\"left_units\":\"screen\",\"level\":\"overlay\",\"line_alpha\":1.0,\"line_color\":\"black\",\"line_dash\":[4,4],\"line_width\":2,\"right_units\":\"screen\",\"syncable\":false,\"top_units\":\"screen\"},\"id\":\"6501\",\"type\":\"BoxAnnotation\"},{\"attributes\":{},\"id\":\"6482\",\"type\":\"DataRange1d\"},{\"attributes\":{\"axis_label\":\"Racine carr\\u00e9e de la moyenne des erreurs quadratiques\",\"formatter\":{\"id\":\"6793\"},\"major_label_policy\":{\"id\":\"6792\"},\"ticker\":{\"id\":\"6491\"}},\"id\":\"6490\",\"type\":\"LinearAxis\"}],\"root_ids\":[\"6479\"]},\"title\":\"Bokeh Application\",\"version\":\"2.3.2\"}};\n  var render_items = [{\"docid\":\"922798ff-7d84-4dd6-ab62-084e177991c0\",\"root_ids\":[\"6479\"],\"roots\":{\"6479\":\"08ceec78-e8df-414e-9288-91019a8b7ead\"}}];\n  root.Bokeh.embed.embed_items_notebook(docs_json, render_items);\n\n  }\n  if (root.Bokeh !== undefined) {\n    embed_document(root);\n  } else {\n    var attempts = 0;\n    var timer = setInterval(function(root) {\n      if (root.Bokeh !== undefined) {\n        clearInterval(timer);\n        embed_document(root);\n      } else {\n        attempts++;\n        if (attempts > 100) {\n          clearInterval(timer);\n          console.log(\"Bokeh: ERROR: Unable to run BokehJS code because BokehJS library is missing\");\n        }\n      }\n    }, 10, root)\n  }\n})(window);",
      "application/vnd.bokehjs_exec.v0+json": ""
     },
     "metadata": {
      "application/vnd.bokehjs_exec.v0+json": {
       "id": "6479"
      }
     },
     "output_type": "display_data"
    }
   ],
   "source": [
    "source_scores = ColumnDataSource(comparaison_scores)\n",
    "#ouput_file('source_scores.html')\n",
    "# List de tools\n",
    "TOOLS=\"pan,wheel_zoom,box_zoom,reset\"\n",
    "\n",
    "# Instanciation de la figure\n",
    "\n",
    "p = figure(y_range = comparaison_scores.Modele,           \n",
    "           plot_width = 900, plot_height = 400,\n",
    "           title = 'Root Mean Square Error - RMSE',\n",
    "           x_axis_label = \"Racine carrée de la moyenne des erreurs quadratiques\",\n",
    "           y_axis_label = 'Modèle',\n",
    "           toolbar_location=\"below\",\n",
    "           tools=TOOLS) \n",
    "# tooltips = \"MAPE %', '@comparaison_scores.MAPE{0.00}\"\n",
    "p.title.text_color = \"darkblue\"\n",
    "p.title.text_font = \"times\"\n",
    "p.title.text_font_size = \"20px\"\n",
    "p.title.align = 'center'\n",
    "\n",
    "p.xgrid.grid_line_color = None\n",
    "p.ygrid.grid_line_color = None\n",
    "#p.xaxis.ticker.desired_num_ticks = 10\n",
    "\n",
    "\n",
    "# Instanciation d'un diagramme à barres horizontales\n",
    "p.hbar(y = 'Modele',  right = 'RMSE', height = 0.5, color='Colors', source=source_scores)                  \n",
    "# legend_group='Modele'\n",
    "# Style hover\n",
    "#p.add_tools(HoverTool(\n",
    "#    tooltips=[('MAPE %', '@MAPE{0.00}')]))\n",
    "\n",
    "labels = LabelSet(x='RMSE', y='Modele', text='RMSE',source=source_scores)\n",
    "\n",
    "p.add_layout(Arrow(end=OpenHead(line_color=\"darkblue\", line_width=4),\n",
    "                   x_start=700, y_start=3.5, x_end=600, y_end=3.5))\n",
    "citation = Label(x=390, y=135, x_units='screen', y_units='screen',\n",
    "                 text=\"valeur RMSE la plus bas\", render_mode='css')\n",
    "\n",
    "\n",
    "# Iteraction legend\n",
    "p.add_layout(labels)\n",
    "p.add_layout(citation)\n",
    "# Activation de l'interaction avec la légende\n",
    "#p.legend.location = \"bottom_right\"\n",
    "#p.legend.click_policy = 'hide'\n",
    "\n",
    "# Affichage de la figure\n",
    "#save(p)\n",
    "show(p);\n"
   ]
  },
  {
   "cell_type": "markdown",
   "metadata": {},
   "source": [
    "RMSE, c'est la racine carrée des différences entre les valeurs prédites et les valeurs observées. Ces écarts sont appelés résidus.\n",
    "Il s'agit d'une mesure de précision qui sert à comparer les erreurs de différents modèles prédictifs pour un ensemble de données particulier.\n",
    "Une valeur de RMSE plus petite indique une meilleur précision qu'une valeur de RMSE plus élevée."
   ]
  },
  {
   "cell_type": "code",
   "execution_count": null,
   "metadata": {},
   "outputs": [],
   "source": []
  }
 ],
 "metadata": {
  "interpreter": {
   "hash": "aee8b7b246df8f9039afb4144a1f6fd8d2ca17a180786b69acc140d282b71a49"
  },
  "kernelspec": {
   "display_name": "Python 3.8.5 64-bit",
   "name": "python3"
  },
  "language_info": {
   "name": "python",
   "version": ""
  },
  "metadata": {
   "interpreter": {
    "hash": "aee8b7b246df8f9039afb4144a1f6fd8d2ca17a180786b69acc140d282b71a49"
   }
  },
  "orig_nbformat": 2
 },
 "nbformat": 4,
 "nbformat_minor": 2
}